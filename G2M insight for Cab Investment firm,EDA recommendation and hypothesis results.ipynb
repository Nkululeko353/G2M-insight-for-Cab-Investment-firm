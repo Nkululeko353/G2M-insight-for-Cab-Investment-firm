{
 "cells": [
  {
   "cell_type": "code",
   "execution_count": 926,
   "metadata": {},
   "outputs": [],
   "source": [
    "# The following libraries must be imported for  reading csv files,creating a data frame and performing some mathematical calculations.\n",
    "import numpy as np\n",
    "import pandas as pd"
   ]
  },
  {
   "cell_type": "code",
   "execution_count": 927,
   "metadata": {},
   "outputs": [
    {
     "data": {
      "text/html": [
       "<div>\n",
       "<style scoped>\n",
       "    .dataframe tbody tr th:only-of-type {\n",
       "        vertical-align: middle;\n",
       "    }\n",
       "\n",
       "    .dataframe tbody tr th {\n",
       "        vertical-align: top;\n",
       "    }\n",
       "\n",
       "    .dataframe thead th {\n",
       "        text-align: right;\n",
       "    }\n",
       "</style>\n",
       "<table border=\"1\" class=\"dataframe\">\n",
       "  <thead>\n",
       "    <tr style=\"text-align: right;\">\n",
       "      <th></th>\n",
       "      <th>Transaction ID</th>\n",
       "      <th>Date of Travel</th>\n",
       "      <th>Company</th>\n",
       "      <th>City</th>\n",
       "      <th>KM Travelled</th>\n",
       "      <th>Price Charged</th>\n",
       "      <th>Cost of Trip</th>\n",
       "    </tr>\n",
       "  </thead>\n",
       "  <tbody>\n",
       "    <tr>\n",
       "      <td>0</td>\n",
       "      <td>10000011</td>\n",
       "      <td>42377</td>\n",
       "      <td>Pink Cab</td>\n",
       "      <td>ATLANTA GA</td>\n",
       "      <td>30.45</td>\n",
       "      <td>370.95</td>\n",
       "      <td>313.6350</td>\n",
       "    </tr>\n",
       "    <tr>\n",
       "      <td>1</td>\n",
       "      <td>10000012</td>\n",
       "      <td>42375</td>\n",
       "      <td>Pink Cab</td>\n",
       "      <td>ATLANTA GA</td>\n",
       "      <td>28.62</td>\n",
       "      <td>358.52</td>\n",
       "      <td>334.8540</td>\n",
       "    </tr>\n",
       "    <tr>\n",
       "      <td>2</td>\n",
       "      <td>10000013</td>\n",
       "      <td>42371</td>\n",
       "      <td>Pink Cab</td>\n",
       "      <td>ATLANTA GA</td>\n",
       "      <td>9.04</td>\n",
       "      <td>125.20</td>\n",
       "      <td>97.6320</td>\n",
       "    </tr>\n",
       "    <tr>\n",
       "      <td>3</td>\n",
       "      <td>10000014</td>\n",
       "      <td>42376</td>\n",
       "      <td>Pink Cab</td>\n",
       "      <td>ATLANTA GA</td>\n",
       "      <td>33.17</td>\n",
       "      <td>377.40</td>\n",
       "      <td>351.6020</td>\n",
       "    </tr>\n",
       "    <tr>\n",
       "      <td>4</td>\n",
       "      <td>10000015</td>\n",
       "      <td>42372</td>\n",
       "      <td>Pink Cab</td>\n",
       "      <td>ATLANTA GA</td>\n",
       "      <td>8.73</td>\n",
       "      <td>114.62</td>\n",
       "      <td>97.7760</td>\n",
       "    </tr>\n",
       "    <tr>\n",
       "      <td>...</td>\n",
       "      <td>...</td>\n",
       "      <td>...</td>\n",
       "      <td>...</td>\n",
       "      <td>...</td>\n",
       "      <td>...</td>\n",
       "      <td>...</td>\n",
       "      <td>...</td>\n",
       "    </tr>\n",
       "    <tr>\n",
       "      <td>359387</td>\n",
       "      <td>10440101</td>\n",
       "      <td>43108</td>\n",
       "      <td>Yellow Cab</td>\n",
       "      <td>WASHINGTON DC</td>\n",
       "      <td>4.80</td>\n",
       "      <td>69.24</td>\n",
       "      <td>63.3600</td>\n",
       "    </tr>\n",
       "    <tr>\n",
       "      <td>359388</td>\n",
       "      <td>10440104</td>\n",
       "      <td>43104</td>\n",
       "      <td>Yellow Cab</td>\n",
       "      <td>WASHINGTON DC</td>\n",
       "      <td>8.40</td>\n",
       "      <td>113.75</td>\n",
       "      <td>106.8480</td>\n",
       "    </tr>\n",
       "    <tr>\n",
       "      <td>359389</td>\n",
       "      <td>10440105</td>\n",
       "      <td>43105</td>\n",
       "      <td>Yellow Cab</td>\n",
       "      <td>WASHINGTON DC</td>\n",
       "      <td>27.75</td>\n",
       "      <td>437.07</td>\n",
       "      <td>349.6500</td>\n",
       "    </tr>\n",
       "    <tr>\n",
       "      <td>359390</td>\n",
       "      <td>10440106</td>\n",
       "      <td>43105</td>\n",
       "      <td>Yellow Cab</td>\n",
       "      <td>WASHINGTON DC</td>\n",
       "      <td>8.80</td>\n",
       "      <td>146.19</td>\n",
       "      <td>114.0480</td>\n",
       "    </tr>\n",
       "    <tr>\n",
       "      <td>359391</td>\n",
       "      <td>10440107</td>\n",
       "      <td>43102</td>\n",
       "      <td>Yellow Cab</td>\n",
       "      <td>WASHINGTON DC</td>\n",
       "      <td>12.76</td>\n",
       "      <td>191.58</td>\n",
       "      <td>177.6192</td>\n",
       "    </tr>\n",
       "  </tbody>\n",
       "</table>\n",
       "<p>359392 rows × 7 columns</p>\n",
       "</div>"
      ],
      "text/plain": [
       "        Transaction ID  Date of Travel     Company           City  \\\n",
       "0             10000011           42377    Pink Cab     ATLANTA GA   \n",
       "1             10000012           42375    Pink Cab     ATLANTA GA   \n",
       "2             10000013           42371    Pink Cab     ATLANTA GA   \n",
       "3             10000014           42376    Pink Cab     ATLANTA GA   \n",
       "4             10000015           42372    Pink Cab     ATLANTA GA   \n",
       "...                ...             ...         ...            ...   \n",
       "359387        10440101           43108  Yellow Cab  WASHINGTON DC   \n",
       "359388        10440104           43104  Yellow Cab  WASHINGTON DC   \n",
       "359389        10440105           43105  Yellow Cab  WASHINGTON DC   \n",
       "359390        10440106           43105  Yellow Cab  WASHINGTON DC   \n",
       "359391        10440107           43102  Yellow Cab  WASHINGTON DC   \n",
       "\n",
       "        KM Travelled  Price Charged  Cost of Trip  \n",
       "0              30.45         370.95      313.6350  \n",
       "1              28.62         358.52      334.8540  \n",
       "2               9.04         125.20       97.6320  \n",
       "3              33.17         377.40      351.6020  \n",
       "4               8.73         114.62       97.7760  \n",
       "...              ...            ...           ...  \n",
       "359387          4.80          69.24       63.3600  \n",
       "359388          8.40         113.75      106.8480  \n",
       "359389         27.75         437.07      349.6500  \n",
       "359390          8.80         146.19      114.0480  \n",
       "359391         12.76         191.58      177.6192  \n",
       "\n",
       "[359392 rows x 7 columns]"
      ]
     },
     "execution_count": 927,
     "metadata": {},
     "output_type": "execute_result"
    }
   ],
   "source": [
    "cab_data=pd.read_csv(\"Cab_Data.csv\")\n",
    "cab_data\n",
    "# Cab Data\n",
    "# A Cab Data with 359392 rows/ observations and 7 fields/columns"
   ]
  },
  {
   "cell_type": "code",
   "execution_count": 928,
   "metadata": {},
   "outputs": [
    {
     "data": {
      "text/html": [
       "<div>\n",
       "<style scoped>\n",
       "    .dataframe tbody tr th:only-of-type {\n",
       "        vertical-align: middle;\n",
       "    }\n",
       "\n",
       "    .dataframe tbody tr th {\n",
       "        vertical-align: top;\n",
       "    }\n",
       "\n",
       "    .dataframe thead th {\n",
       "        text-align: right;\n",
       "    }\n",
       "</style>\n",
       "<table border=\"1\" class=\"dataframe\">\n",
       "  <thead>\n",
       "    <tr style=\"text-align: right;\">\n",
       "      <th></th>\n",
       "      <th>Transaction ID</th>\n",
       "      <th>Customer ID</th>\n",
       "      <th>Payment_Mode</th>\n",
       "    </tr>\n",
       "  </thead>\n",
       "  <tbody>\n",
       "    <tr>\n",
       "      <td>0</td>\n",
       "      <td>10000011</td>\n",
       "      <td>29290</td>\n",
       "      <td>Card</td>\n",
       "    </tr>\n",
       "    <tr>\n",
       "      <td>1</td>\n",
       "      <td>10000012</td>\n",
       "      <td>27703</td>\n",
       "      <td>Card</td>\n",
       "    </tr>\n",
       "    <tr>\n",
       "      <td>2</td>\n",
       "      <td>10000013</td>\n",
       "      <td>28712</td>\n",
       "      <td>Cash</td>\n",
       "    </tr>\n",
       "    <tr>\n",
       "      <td>3</td>\n",
       "      <td>10000014</td>\n",
       "      <td>28020</td>\n",
       "      <td>Cash</td>\n",
       "    </tr>\n",
       "    <tr>\n",
       "      <td>4</td>\n",
       "      <td>10000015</td>\n",
       "      <td>27182</td>\n",
       "      <td>Card</td>\n",
       "    </tr>\n",
       "    <tr>\n",
       "      <td>...</td>\n",
       "      <td>...</td>\n",
       "      <td>...</td>\n",
       "      <td>...</td>\n",
       "    </tr>\n",
       "    <tr>\n",
       "      <td>440093</td>\n",
       "      <td>10440104</td>\n",
       "      <td>53286</td>\n",
       "      <td>Cash</td>\n",
       "    </tr>\n",
       "    <tr>\n",
       "      <td>440094</td>\n",
       "      <td>10440105</td>\n",
       "      <td>52265</td>\n",
       "      <td>Cash</td>\n",
       "    </tr>\n",
       "    <tr>\n",
       "      <td>440095</td>\n",
       "      <td>10440106</td>\n",
       "      <td>52175</td>\n",
       "      <td>Card</td>\n",
       "    </tr>\n",
       "    <tr>\n",
       "      <td>440096</td>\n",
       "      <td>10440107</td>\n",
       "      <td>52917</td>\n",
       "      <td>Card</td>\n",
       "    </tr>\n",
       "    <tr>\n",
       "      <td>440097</td>\n",
       "      <td>10440108</td>\n",
       "      <td>51587</td>\n",
       "      <td>Card</td>\n",
       "    </tr>\n",
       "  </tbody>\n",
       "</table>\n",
       "<p>440098 rows × 3 columns</p>\n",
       "</div>"
      ],
      "text/plain": [
       "        Transaction ID  Customer ID Payment_Mode\n",
       "0             10000011        29290         Card\n",
       "1             10000012        27703         Card\n",
       "2             10000013        28712         Cash\n",
       "3             10000014        28020         Cash\n",
       "4             10000015        27182         Card\n",
       "...                ...          ...          ...\n",
       "440093        10440104        53286         Cash\n",
       "440094        10440105        52265         Cash\n",
       "440095        10440106        52175         Card\n",
       "440096        10440107        52917         Card\n",
       "440097        10440108        51587         Card\n",
       "\n",
       "[440098 rows x 3 columns]"
      ]
     },
     "execution_count": 928,
     "metadata": {},
     "output_type": "execute_result"
    }
   ],
   "source": [
    "transaction_data=pd.read_csv(\"Transaction_ID.csv\")\n",
    "transaction_data\n",
    "# Transaction Data\n",
    "# A Transaction Data with 440098 rows/observations and 3 fields/columns."
   ]
  },
  {
   "cell_type": "code",
   "execution_count": 929,
   "metadata": {},
   "outputs": [
    {
     "data": {
      "text/html": [
       "<div>\n",
       "<style scoped>\n",
       "    .dataframe tbody tr th:only-of-type {\n",
       "        vertical-align: middle;\n",
       "    }\n",
       "\n",
       "    .dataframe tbody tr th {\n",
       "        vertical-align: top;\n",
       "    }\n",
       "\n",
       "    .dataframe thead th {\n",
       "        text-align: right;\n",
       "    }\n",
       "</style>\n",
       "<table border=\"1\" class=\"dataframe\">\n",
       "  <thead>\n",
       "    <tr style=\"text-align: right;\">\n",
       "      <th></th>\n",
       "      <th>Customer ID</th>\n",
       "      <th>Gender</th>\n",
       "      <th>Age</th>\n",
       "      <th>Income (USD/Month)</th>\n",
       "    </tr>\n",
       "  </thead>\n",
       "  <tbody>\n",
       "    <tr>\n",
       "      <td>0</td>\n",
       "      <td>29290</td>\n",
       "      <td>Male</td>\n",
       "      <td>28</td>\n",
       "      <td>10813</td>\n",
       "    </tr>\n",
       "    <tr>\n",
       "      <td>1</td>\n",
       "      <td>27703</td>\n",
       "      <td>Male</td>\n",
       "      <td>27</td>\n",
       "      <td>9237</td>\n",
       "    </tr>\n",
       "    <tr>\n",
       "      <td>2</td>\n",
       "      <td>28712</td>\n",
       "      <td>Male</td>\n",
       "      <td>53</td>\n",
       "      <td>11242</td>\n",
       "    </tr>\n",
       "    <tr>\n",
       "      <td>3</td>\n",
       "      <td>28020</td>\n",
       "      <td>Male</td>\n",
       "      <td>23</td>\n",
       "      <td>23327</td>\n",
       "    </tr>\n",
       "    <tr>\n",
       "      <td>4</td>\n",
       "      <td>27182</td>\n",
       "      <td>Male</td>\n",
       "      <td>33</td>\n",
       "      <td>8536</td>\n",
       "    </tr>\n",
       "    <tr>\n",
       "      <td>...</td>\n",
       "      <td>...</td>\n",
       "      <td>...</td>\n",
       "      <td>...</td>\n",
       "      <td>...</td>\n",
       "    </tr>\n",
       "    <tr>\n",
       "      <td>49166</td>\n",
       "      <td>12490</td>\n",
       "      <td>Male</td>\n",
       "      <td>33</td>\n",
       "      <td>18713</td>\n",
       "    </tr>\n",
       "    <tr>\n",
       "      <td>49167</td>\n",
       "      <td>14971</td>\n",
       "      <td>Male</td>\n",
       "      <td>30</td>\n",
       "      <td>15346</td>\n",
       "    </tr>\n",
       "    <tr>\n",
       "      <td>49168</td>\n",
       "      <td>41414</td>\n",
       "      <td>Male</td>\n",
       "      <td>38</td>\n",
       "      <td>3960</td>\n",
       "    </tr>\n",
       "    <tr>\n",
       "      <td>49169</td>\n",
       "      <td>41677</td>\n",
       "      <td>Male</td>\n",
       "      <td>23</td>\n",
       "      <td>19454</td>\n",
       "    </tr>\n",
       "    <tr>\n",
       "      <td>49170</td>\n",
       "      <td>39761</td>\n",
       "      <td>Female</td>\n",
       "      <td>32</td>\n",
       "      <td>10128</td>\n",
       "    </tr>\n",
       "  </tbody>\n",
       "</table>\n",
       "<p>49171 rows × 4 columns</p>\n",
       "</div>"
      ],
      "text/plain": [
       "       Customer ID  Gender  Age  Income (USD/Month)\n",
       "0            29290    Male   28               10813\n",
       "1            27703    Male   27                9237\n",
       "2            28712    Male   53               11242\n",
       "3            28020    Male   23               23327\n",
       "4            27182    Male   33                8536\n",
       "...            ...     ...  ...                 ...\n",
       "49166        12490    Male   33               18713\n",
       "49167        14971    Male   30               15346\n",
       "49168        41414    Male   38                3960\n",
       "49169        41677    Male   23               19454\n",
       "49170        39761  Female   32               10128\n",
       "\n",
       "[49171 rows x 4 columns]"
      ]
     },
     "execution_count": 929,
     "metadata": {},
     "output_type": "execute_result"
    }
   ],
   "source": [
    "customer_data=pd.read_csv(\"Customer_ID.csv\")\n",
    "customer_data\n",
    "# Customer Data\n",
    "# A Customer Data with 49171 rows/observations and 4 fields/columns."
   ]
  },
  {
   "cell_type": "code",
   "execution_count": 930,
   "metadata": {},
   "outputs": [
    {
     "data": {
      "text/html": [
       "<div>\n",
       "<style scoped>\n",
       "    .dataframe tbody tr th:only-of-type {\n",
       "        vertical-align: middle;\n",
       "    }\n",
       "\n",
       "    .dataframe tbody tr th {\n",
       "        vertical-align: top;\n",
       "    }\n",
       "\n",
       "    .dataframe thead th {\n",
       "        text-align: right;\n",
       "    }\n",
       "</style>\n",
       "<table border=\"1\" class=\"dataframe\">\n",
       "  <thead>\n",
       "    <tr style=\"text-align: right;\">\n",
       "      <th></th>\n",
       "      <th>City</th>\n",
       "      <th>Population</th>\n",
       "      <th>Users</th>\n",
       "    </tr>\n",
       "  </thead>\n",
       "  <tbody>\n",
       "    <tr>\n",
       "      <td>0</td>\n",
       "      <td>NEW YORK NY</td>\n",
       "      <td>8,405,837</td>\n",
       "      <td>302,149</td>\n",
       "    </tr>\n",
       "    <tr>\n",
       "      <td>1</td>\n",
       "      <td>CHICAGO IL</td>\n",
       "      <td>1,955,130</td>\n",
       "      <td>164,468</td>\n",
       "    </tr>\n",
       "    <tr>\n",
       "      <td>2</td>\n",
       "      <td>LOS ANGELES CA</td>\n",
       "      <td>1,595,037</td>\n",
       "      <td>144,132</td>\n",
       "    </tr>\n",
       "    <tr>\n",
       "      <td>3</td>\n",
       "      <td>MIAMI FL</td>\n",
       "      <td>1,339,155</td>\n",
       "      <td>17,675</td>\n",
       "    </tr>\n",
       "    <tr>\n",
       "      <td>4</td>\n",
       "      <td>SILICON VALLEY</td>\n",
       "      <td>1,177,609</td>\n",
       "      <td>27,247</td>\n",
       "    </tr>\n",
       "    <tr>\n",
       "      <td>5</td>\n",
       "      <td>ORANGE COUNTY</td>\n",
       "      <td>1,030,185</td>\n",
       "      <td>12,994</td>\n",
       "    </tr>\n",
       "    <tr>\n",
       "      <td>6</td>\n",
       "      <td>SAN DIEGO CA</td>\n",
       "      <td>959,307</td>\n",
       "      <td>69,995</td>\n",
       "    </tr>\n",
       "    <tr>\n",
       "      <td>7</td>\n",
       "      <td>PHOENIX AZ</td>\n",
       "      <td>943,999</td>\n",
       "      <td>6,133</td>\n",
       "    </tr>\n",
       "    <tr>\n",
       "      <td>8</td>\n",
       "      <td>DALLAS TX</td>\n",
       "      <td>942,908</td>\n",
       "      <td>22,157</td>\n",
       "    </tr>\n",
       "    <tr>\n",
       "      <td>9</td>\n",
       "      <td>ATLANTA GA</td>\n",
       "      <td>814,885</td>\n",
       "      <td>24,701</td>\n",
       "    </tr>\n",
       "    <tr>\n",
       "      <td>10</td>\n",
       "      <td>DENVER CO</td>\n",
       "      <td>754,233</td>\n",
       "      <td>12,421</td>\n",
       "    </tr>\n",
       "    <tr>\n",
       "      <td>11</td>\n",
       "      <td>AUSTIN TX</td>\n",
       "      <td>698,371</td>\n",
       "      <td>14,978</td>\n",
       "    </tr>\n",
       "    <tr>\n",
       "      <td>12</td>\n",
       "      <td>SEATTLE WA</td>\n",
       "      <td>671,238</td>\n",
       "      <td>25,063</td>\n",
       "    </tr>\n",
       "    <tr>\n",
       "      <td>13</td>\n",
       "      <td>TUCSON AZ</td>\n",
       "      <td>631,442</td>\n",
       "      <td>5,712</td>\n",
       "    </tr>\n",
       "    <tr>\n",
       "      <td>14</td>\n",
       "      <td>SAN FRANCISCO CA</td>\n",
       "      <td>629,591</td>\n",
       "      <td>213,609</td>\n",
       "    </tr>\n",
       "    <tr>\n",
       "      <td>15</td>\n",
       "      <td>SACRAMENTO CA</td>\n",
       "      <td>545,776</td>\n",
       "      <td>7,044</td>\n",
       "    </tr>\n",
       "    <tr>\n",
       "      <td>16</td>\n",
       "      <td>PITTSBURGH PA</td>\n",
       "      <td>542,085</td>\n",
       "      <td>3,643</td>\n",
       "    </tr>\n",
       "    <tr>\n",
       "      <td>17</td>\n",
       "      <td>WASHINGTON DC</td>\n",
       "      <td>418,859</td>\n",
       "      <td>127,001</td>\n",
       "    </tr>\n",
       "    <tr>\n",
       "      <td>18</td>\n",
       "      <td>NASHVILLE TN</td>\n",
       "      <td>327,225</td>\n",
       "      <td>9,270</td>\n",
       "    </tr>\n",
       "    <tr>\n",
       "      <td>19</td>\n",
       "      <td>BOSTON MA</td>\n",
       "      <td>248,968</td>\n",
       "      <td>80,021</td>\n",
       "    </tr>\n",
       "  </tbody>\n",
       "</table>\n",
       "</div>"
      ],
      "text/plain": [
       "                City   Population      Users\n",
       "0        NEW YORK NY   8,405,837    302,149 \n",
       "1         CHICAGO IL   1,955,130    164,468 \n",
       "2     LOS ANGELES CA   1,595,037    144,132 \n",
       "3           MIAMI FL   1,339,155     17,675 \n",
       "4     SILICON VALLEY   1,177,609     27,247 \n",
       "5      ORANGE COUNTY   1,030,185     12,994 \n",
       "6       SAN DIEGO CA     959,307     69,995 \n",
       "7         PHOENIX AZ     943,999      6,133 \n",
       "8          DALLAS TX     942,908     22,157 \n",
       "9         ATLANTA GA     814,885     24,701 \n",
       "10         DENVER CO     754,233     12,421 \n",
       "11         AUSTIN TX     698,371     14,978 \n",
       "12        SEATTLE WA     671,238     25,063 \n",
       "13         TUCSON AZ     631,442      5,712 \n",
       "14  SAN FRANCISCO CA     629,591    213,609 \n",
       "15     SACRAMENTO CA     545,776      7,044 \n",
       "16     PITTSBURGH PA     542,085      3,643 \n",
       "17     WASHINGTON DC     418,859    127,001 \n",
       "18      NASHVILLE TN     327,225      9,270 \n",
       "19         BOSTON MA     248,968     80,021 "
      ]
     },
     "execution_count": 930,
     "metadata": {},
     "output_type": "execute_result"
    }
   ],
   "source": [
    "city_data=pd.read_csv(\"City.csv\")\n",
    "city_data\n",
    "# City Data\n",
    "# A City Data with 20 rows/observations and 3 fields/columns."
   ]
  },
  {
   "cell_type": "code",
   "execution_count": 931,
   "metadata": {},
   "outputs": [
    {
     "data": {
      "text/plain": [
       "Index(['Transaction ID', 'Date of Travel', 'Company', 'City', 'KM Travelled',\n",
       "       'Price Charged', 'Cost of Trip'],\n",
       "      dtype='object')"
      ]
     },
     "execution_count": 931,
     "metadata": {},
     "output_type": "execute_result"
    }
   ],
   "source": [
    "# It is very important to check for field/Columns,Data types,dimensionality of the Data sets.\n",
    "cab_data.columns"
   ]
  },
  {
   "cell_type": "code",
   "execution_count": 932,
   "metadata": {},
   "outputs": [
    {
     "data": {
      "text/plain": [
       "Index(['Transaction ID', 'Customer ID', 'Payment_Mode'], dtype='object')"
      ]
     },
     "execution_count": 932,
     "metadata": {},
     "output_type": "execute_result"
    }
   ],
   "source": [
    "transaction_data.columns"
   ]
  },
  {
   "cell_type": "code",
   "execution_count": 933,
   "metadata": {},
   "outputs": [
    {
     "data": {
      "text/plain": [
       "Index(['Customer ID', 'Gender', 'Age', 'Income (USD/Month)'], dtype='object')"
      ]
     },
     "execution_count": 933,
     "metadata": {},
     "output_type": "execute_result"
    }
   ],
   "source": [
    "customer_data.columns"
   ]
  },
  {
   "cell_type": "code",
   "execution_count": 934,
   "metadata": {},
   "outputs": [
    {
     "data": {
      "text/plain": [
       "Index(['City', 'Population', 'Users'], dtype='object')"
      ]
     },
     "execution_count": 934,
     "metadata": {},
     "output_type": "execute_result"
    }
   ],
   "source": [
    "city_data.columns"
   ]
  },
  {
   "cell_type": "code",
   "execution_count": 935,
   "metadata": {},
   "outputs": [
    {
     "data": {
      "text/plain": [
       "Transaction ID      int64\n",
       "Date of Travel      int64\n",
       "Company            object\n",
       "City               object\n",
       "KM Travelled      float64\n",
       "Price Charged     float64\n",
       "Cost of Trip      float64\n",
       "dtype: object"
      ]
     },
     "execution_count": 935,
     "metadata": {},
     "output_type": "execute_result"
    }
   ],
   "source": [
    "cab_data.dtypes"
   ]
  },
  {
   "cell_type": "code",
   "execution_count": 936,
   "metadata": {},
   "outputs": [
    {
     "data": {
      "text/plain": [
       "Transaction ID     int64\n",
       "Customer ID        int64\n",
       "Payment_Mode      object\n",
       "dtype: object"
      ]
     },
     "execution_count": 936,
     "metadata": {},
     "output_type": "execute_result"
    }
   ],
   "source": [
    "transaction_data.dtypes"
   ]
  },
  {
   "cell_type": "code",
   "execution_count": 937,
   "metadata": {},
   "outputs": [
    {
     "data": {
      "text/plain": [
       "Customer ID            int64\n",
       "Gender                object\n",
       "Age                    int64\n",
       "Income (USD/Month)     int64\n",
       "dtype: object"
      ]
     },
     "execution_count": 937,
     "metadata": {},
     "output_type": "execute_result"
    }
   ],
   "source": [
    "customer_data.dtypes"
   ]
  },
  {
   "cell_type": "code",
   "execution_count": 938,
   "metadata": {},
   "outputs": [
    {
     "data": {
      "text/plain": [
       "City          object\n",
       "Population    object\n",
       "Users         object\n",
       "dtype: object"
      ]
     },
     "execution_count": 938,
     "metadata": {},
     "output_type": "execute_result"
    }
   ],
   "source": [
    "city_data.dtypes"
   ]
  },
  {
   "cell_type": "code",
   "execution_count": 939,
   "metadata": {},
   "outputs": [
    {
     "data": {
      "text/plain": [
       "(359392, 7)"
      ]
     },
     "execution_count": 939,
     "metadata": {},
     "output_type": "execute_result"
    }
   ],
   "source": [
    "cab_data.shape"
   ]
  },
  {
   "cell_type": "code",
   "execution_count": 940,
   "metadata": {},
   "outputs": [
    {
     "data": {
      "text/plain": [
       "(440098, 3)"
      ]
     },
     "execution_count": 940,
     "metadata": {},
     "output_type": "execute_result"
    }
   ],
   "source": [
    "transaction_data.shape"
   ]
  },
  {
   "cell_type": "code",
   "execution_count": 941,
   "metadata": {},
   "outputs": [
    {
     "data": {
      "text/plain": [
       "(49171, 4)"
      ]
     },
     "execution_count": 941,
     "metadata": {},
     "output_type": "execute_result"
    }
   ],
   "source": [
    "customer_data.shape"
   ]
  },
  {
   "cell_type": "code",
   "execution_count": 942,
   "metadata": {},
   "outputs": [
    {
     "data": {
      "text/plain": [
       "(20, 3)"
      ]
     },
     "execution_count": 942,
     "metadata": {},
     "output_type": "execute_result"
    }
   ],
   "source": [
    "city_data.shape"
   ]
  },
  {
   "cell_type": "code",
   "execution_count": 943,
   "metadata": {},
   "outputs": [
    {
     "data": {
      "text/plain": [
       "Transaction ID    0\n",
       "Date of Travel    0\n",
       "Company           0\n",
       "City              0\n",
       "KM Travelled      0\n",
       "Price Charged     0\n",
       "Cost of Trip      0\n",
       "dtype: int64"
      ]
     },
     "execution_count": 943,
     "metadata": {},
     "output_type": "execute_result"
    }
   ],
   "source": [
    "# It is also very crucial to check for null values in a dataset to eliminate data redundancy and to some avoid inconsistencies in a\n",
    "# data set.If there are null values in a dataset,then the null values must be treated accordingly.Luckily in all these datasets\n",
    "# there are none null values.\n",
    "cab_data.isnull().sum()"
   ]
  },
  {
   "cell_type": "code",
   "execution_count": 944,
   "metadata": {},
   "outputs": [
    {
     "data": {
      "text/plain": [
       "Transaction ID    0\n",
       "Customer ID       0\n",
       "Payment_Mode      0\n",
       "dtype: int64"
      ]
     },
     "execution_count": 944,
     "metadata": {},
     "output_type": "execute_result"
    }
   ],
   "source": [
    "transaction_data.isnull().sum()"
   ]
  },
  {
   "cell_type": "code",
   "execution_count": 945,
   "metadata": {},
   "outputs": [
    {
     "data": {
      "text/plain": [
       "Customer ID           0\n",
       "Gender                0\n",
       "Age                   0\n",
       "Income (USD/Month)    0\n",
       "dtype: int64"
      ]
     },
     "execution_count": 945,
     "metadata": {},
     "output_type": "execute_result"
    }
   ],
   "source": [
    "customer_data.isnull().sum()"
   ]
  },
  {
   "cell_type": "code",
   "execution_count": 946,
   "metadata": {},
   "outputs": [
    {
     "data": {
      "text/plain": [
       "City          0\n",
       "Population    0\n",
       "Users         0\n",
       "dtype: int64"
      ]
     },
     "execution_count": 946,
     "metadata": {},
     "output_type": "execute_result"
    }
   ],
   "source": [
    "city_data.isnull().sum()"
   ]
  },
  {
   "cell_type": "code",
   "execution_count": 947,
   "metadata": {},
   "outputs": [
    {
     "data": {
      "text/html": [
       "<div>\n",
       "<style scoped>\n",
       "    .dataframe tbody tr th:only-of-type {\n",
       "        vertical-align: middle;\n",
       "    }\n",
       "\n",
       "    .dataframe tbody tr th {\n",
       "        vertical-align: top;\n",
       "    }\n",
       "\n",
       "    .dataframe thead th {\n",
       "        text-align: right;\n",
       "    }\n",
       "</style>\n",
       "<table border=\"1\" class=\"dataframe\">\n",
       "  <thead>\n",
       "    <tr style=\"text-align: right;\">\n",
       "      <th></th>\n",
       "      <th>Transaction ID</th>\n",
       "      <th>Date of Travel</th>\n",
       "      <th>Company</th>\n",
       "      <th>City</th>\n",
       "      <th>KM Travelled</th>\n",
       "      <th>Price Charged</th>\n",
       "      <th>Cost of Trip</th>\n",
       "    </tr>\n",
       "  </thead>\n",
       "  <tbody>\n",
       "    <tr>\n",
       "      <td>0</td>\n",
       "      <td>10000011</td>\n",
       "      <td>42377</td>\n",
       "      <td>Pink Cab</td>\n",
       "      <td>ATLANTA GA</td>\n",
       "      <td>30.45</td>\n",
       "      <td>370.95</td>\n",
       "      <td>313.6350</td>\n",
       "    </tr>\n",
       "    <tr>\n",
       "      <td>1</td>\n",
       "      <td>10000012</td>\n",
       "      <td>42375</td>\n",
       "      <td>Pink Cab</td>\n",
       "      <td>ATLANTA GA</td>\n",
       "      <td>28.62</td>\n",
       "      <td>358.52</td>\n",
       "      <td>334.8540</td>\n",
       "    </tr>\n",
       "    <tr>\n",
       "      <td>2</td>\n",
       "      <td>10000013</td>\n",
       "      <td>42371</td>\n",
       "      <td>Pink Cab</td>\n",
       "      <td>ATLANTA GA</td>\n",
       "      <td>9.04</td>\n",
       "      <td>125.20</td>\n",
       "      <td>97.6320</td>\n",
       "    </tr>\n",
       "    <tr>\n",
       "      <td>3</td>\n",
       "      <td>10000014</td>\n",
       "      <td>42376</td>\n",
       "      <td>Pink Cab</td>\n",
       "      <td>ATLANTA GA</td>\n",
       "      <td>33.17</td>\n",
       "      <td>377.40</td>\n",
       "      <td>351.6020</td>\n",
       "    </tr>\n",
       "    <tr>\n",
       "      <td>4</td>\n",
       "      <td>10000015</td>\n",
       "      <td>42372</td>\n",
       "      <td>Pink Cab</td>\n",
       "      <td>ATLANTA GA</td>\n",
       "      <td>8.73</td>\n",
       "      <td>114.62</td>\n",
       "      <td>97.7760</td>\n",
       "    </tr>\n",
       "    <tr>\n",
       "      <td>...</td>\n",
       "      <td>...</td>\n",
       "      <td>...</td>\n",
       "      <td>...</td>\n",
       "      <td>...</td>\n",
       "      <td>...</td>\n",
       "      <td>...</td>\n",
       "      <td>...</td>\n",
       "    </tr>\n",
       "    <tr>\n",
       "      <td>359387</td>\n",
       "      <td>10440101</td>\n",
       "      <td>43108</td>\n",
       "      <td>Yellow Cab</td>\n",
       "      <td>WASHINGTON DC</td>\n",
       "      <td>4.80</td>\n",
       "      <td>69.24</td>\n",
       "      <td>63.3600</td>\n",
       "    </tr>\n",
       "    <tr>\n",
       "      <td>359388</td>\n",
       "      <td>10440104</td>\n",
       "      <td>43104</td>\n",
       "      <td>Yellow Cab</td>\n",
       "      <td>WASHINGTON DC</td>\n",
       "      <td>8.40</td>\n",
       "      <td>113.75</td>\n",
       "      <td>106.8480</td>\n",
       "    </tr>\n",
       "    <tr>\n",
       "      <td>359389</td>\n",
       "      <td>10440105</td>\n",
       "      <td>43105</td>\n",
       "      <td>Yellow Cab</td>\n",
       "      <td>WASHINGTON DC</td>\n",
       "      <td>27.75</td>\n",
       "      <td>437.07</td>\n",
       "      <td>349.6500</td>\n",
       "    </tr>\n",
       "    <tr>\n",
       "      <td>359390</td>\n",
       "      <td>10440106</td>\n",
       "      <td>43105</td>\n",
       "      <td>Yellow Cab</td>\n",
       "      <td>WASHINGTON DC</td>\n",
       "      <td>8.80</td>\n",
       "      <td>146.19</td>\n",
       "      <td>114.0480</td>\n",
       "    </tr>\n",
       "    <tr>\n",
       "      <td>359391</td>\n",
       "      <td>10440107</td>\n",
       "      <td>43102</td>\n",
       "      <td>Yellow Cab</td>\n",
       "      <td>WASHINGTON DC</td>\n",
       "      <td>12.76</td>\n",
       "      <td>191.58</td>\n",
       "      <td>177.6192</td>\n",
       "    </tr>\n",
       "  </tbody>\n",
       "</table>\n",
       "<p>359392 rows × 7 columns</p>\n",
       "</div>"
      ],
      "text/plain": [
       "        Transaction ID  Date of Travel     Company           City  \\\n",
       "0             10000011           42377    Pink Cab     ATLANTA GA   \n",
       "1             10000012           42375    Pink Cab     ATLANTA GA   \n",
       "2             10000013           42371    Pink Cab     ATLANTA GA   \n",
       "3             10000014           42376    Pink Cab     ATLANTA GA   \n",
       "4             10000015           42372    Pink Cab     ATLANTA GA   \n",
       "...                ...             ...         ...            ...   \n",
       "359387        10440101           43108  Yellow Cab  WASHINGTON DC   \n",
       "359388        10440104           43104  Yellow Cab  WASHINGTON DC   \n",
       "359389        10440105           43105  Yellow Cab  WASHINGTON DC   \n",
       "359390        10440106           43105  Yellow Cab  WASHINGTON DC   \n",
       "359391        10440107           43102  Yellow Cab  WASHINGTON DC   \n",
       "\n",
       "        KM Travelled  Price Charged  Cost of Trip  \n",
       "0              30.45         370.95      313.6350  \n",
       "1              28.62         358.52      334.8540  \n",
       "2               9.04         125.20       97.6320  \n",
       "3              33.17         377.40      351.6020  \n",
       "4               8.73         114.62       97.7760  \n",
       "...              ...            ...           ...  \n",
       "359387          4.80          69.24       63.3600  \n",
       "359388          8.40         113.75      106.8480  \n",
       "359389         27.75         437.07      349.6500  \n",
       "359390          8.80         146.19      114.0480  \n",
       "359391         12.76         191.58      177.6192  \n",
       "\n",
       "[359392 rows x 7 columns]"
      ]
     },
     "execution_count": 947,
     "metadata": {},
     "output_type": "execute_result"
    }
   ],
   "source": [
    "#We will find that in a dataset there are inconsistent data values entered.E.g some data values doesn't corresponds with the\n",
    "# data types.\n",
    "# Here we find in the Date of Travel field/column of the Cab Data that the data type doesnt match.Instead we find an integer value.\n",
    "# Therefore with need to tackle this irregularity problem.\n",
    "cab_data"
   ]
  },
  {
   "cell_type": "code",
   "execution_count": 948,
   "metadata": {},
   "outputs": [],
   "source": [
    "# We need to import the datetime and timedelta libraries for date conversions.\n",
    "from datetime import datetime,timedelta\n",
    "cab_data['Date of Travel']=cab_data['Date of Travel'].apply(lambda x: datetime.strftime(datetime(1899,12,30)+timedelta(days=x),'%d/%m/%y'))"
   ]
  },
  {
   "cell_type": "code",
   "execution_count": 949,
   "metadata": {},
   "outputs": [
    {
     "data": {
      "text/html": [
       "<div>\n",
       "<style scoped>\n",
       "    .dataframe tbody tr th:only-of-type {\n",
       "        vertical-align: middle;\n",
       "    }\n",
       "\n",
       "    .dataframe tbody tr th {\n",
       "        vertical-align: top;\n",
       "    }\n",
       "\n",
       "    .dataframe thead th {\n",
       "        text-align: right;\n",
       "    }\n",
       "</style>\n",
       "<table border=\"1\" class=\"dataframe\">\n",
       "  <thead>\n",
       "    <tr style=\"text-align: right;\">\n",
       "      <th></th>\n",
       "      <th>Transaction ID</th>\n",
       "      <th>Date of Travel</th>\n",
       "      <th>Company</th>\n",
       "      <th>City</th>\n",
       "      <th>KM Travelled</th>\n",
       "      <th>Price Charged</th>\n",
       "      <th>Cost of Trip</th>\n",
       "    </tr>\n",
       "  </thead>\n",
       "  <tbody>\n",
       "    <tr>\n",
       "      <td>0</td>\n",
       "      <td>10000011</td>\n",
       "      <td>08/01/16</td>\n",
       "      <td>Pink Cab</td>\n",
       "      <td>ATLANTA GA</td>\n",
       "      <td>30.45</td>\n",
       "      <td>370.95</td>\n",
       "      <td>313.6350</td>\n",
       "    </tr>\n",
       "    <tr>\n",
       "      <td>1</td>\n",
       "      <td>10000012</td>\n",
       "      <td>06/01/16</td>\n",
       "      <td>Pink Cab</td>\n",
       "      <td>ATLANTA GA</td>\n",
       "      <td>28.62</td>\n",
       "      <td>358.52</td>\n",
       "      <td>334.8540</td>\n",
       "    </tr>\n",
       "    <tr>\n",
       "      <td>2</td>\n",
       "      <td>10000013</td>\n",
       "      <td>02/01/16</td>\n",
       "      <td>Pink Cab</td>\n",
       "      <td>ATLANTA GA</td>\n",
       "      <td>9.04</td>\n",
       "      <td>125.20</td>\n",
       "      <td>97.6320</td>\n",
       "    </tr>\n",
       "    <tr>\n",
       "      <td>3</td>\n",
       "      <td>10000014</td>\n",
       "      <td>07/01/16</td>\n",
       "      <td>Pink Cab</td>\n",
       "      <td>ATLANTA GA</td>\n",
       "      <td>33.17</td>\n",
       "      <td>377.40</td>\n",
       "      <td>351.6020</td>\n",
       "    </tr>\n",
       "    <tr>\n",
       "      <td>4</td>\n",
       "      <td>10000015</td>\n",
       "      <td>03/01/16</td>\n",
       "      <td>Pink Cab</td>\n",
       "      <td>ATLANTA GA</td>\n",
       "      <td>8.73</td>\n",
       "      <td>114.62</td>\n",
       "      <td>97.7760</td>\n",
       "    </tr>\n",
       "    <tr>\n",
       "      <td>...</td>\n",
       "      <td>...</td>\n",
       "      <td>...</td>\n",
       "      <td>...</td>\n",
       "      <td>...</td>\n",
       "      <td>...</td>\n",
       "      <td>...</td>\n",
       "      <td>...</td>\n",
       "    </tr>\n",
       "    <tr>\n",
       "      <td>359387</td>\n",
       "      <td>10440101</td>\n",
       "      <td>08/01/18</td>\n",
       "      <td>Yellow Cab</td>\n",
       "      <td>WASHINGTON DC</td>\n",
       "      <td>4.80</td>\n",
       "      <td>69.24</td>\n",
       "      <td>63.3600</td>\n",
       "    </tr>\n",
       "    <tr>\n",
       "      <td>359388</td>\n",
       "      <td>10440104</td>\n",
       "      <td>04/01/18</td>\n",
       "      <td>Yellow Cab</td>\n",
       "      <td>WASHINGTON DC</td>\n",
       "      <td>8.40</td>\n",
       "      <td>113.75</td>\n",
       "      <td>106.8480</td>\n",
       "    </tr>\n",
       "    <tr>\n",
       "      <td>359389</td>\n",
       "      <td>10440105</td>\n",
       "      <td>05/01/18</td>\n",
       "      <td>Yellow Cab</td>\n",
       "      <td>WASHINGTON DC</td>\n",
       "      <td>27.75</td>\n",
       "      <td>437.07</td>\n",
       "      <td>349.6500</td>\n",
       "    </tr>\n",
       "    <tr>\n",
       "      <td>359390</td>\n",
       "      <td>10440106</td>\n",
       "      <td>05/01/18</td>\n",
       "      <td>Yellow Cab</td>\n",
       "      <td>WASHINGTON DC</td>\n",
       "      <td>8.80</td>\n",
       "      <td>146.19</td>\n",
       "      <td>114.0480</td>\n",
       "    </tr>\n",
       "    <tr>\n",
       "      <td>359391</td>\n",
       "      <td>10440107</td>\n",
       "      <td>02/01/18</td>\n",
       "      <td>Yellow Cab</td>\n",
       "      <td>WASHINGTON DC</td>\n",
       "      <td>12.76</td>\n",
       "      <td>191.58</td>\n",
       "      <td>177.6192</td>\n",
       "    </tr>\n",
       "  </tbody>\n",
       "</table>\n",
       "<p>359392 rows × 7 columns</p>\n",
       "</div>"
      ],
      "text/plain": [
       "        Transaction ID Date of Travel     Company           City  \\\n",
       "0             10000011       08/01/16    Pink Cab     ATLANTA GA   \n",
       "1             10000012       06/01/16    Pink Cab     ATLANTA GA   \n",
       "2             10000013       02/01/16    Pink Cab     ATLANTA GA   \n",
       "3             10000014       07/01/16    Pink Cab     ATLANTA GA   \n",
       "4             10000015       03/01/16    Pink Cab     ATLANTA GA   \n",
       "...                ...            ...         ...            ...   \n",
       "359387        10440101       08/01/18  Yellow Cab  WASHINGTON DC   \n",
       "359388        10440104       04/01/18  Yellow Cab  WASHINGTON DC   \n",
       "359389        10440105       05/01/18  Yellow Cab  WASHINGTON DC   \n",
       "359390        10440106       05/01/18  Yellow Cab  WASHINGTON DC   \n",
       "359391        10440107       02/01/18  Yellow Cab  WASHINGTON DC   \n",
       "\n",
       "        KM Travelled  Price Charged  Cost of Trip  \n",
       "0              30.45         370.95      313.6350  \n",
       "1              28.62         358.52      334.8540  \n",
       "2               9.04         125.20       97.6320  \n",
       "3              33.17         377.40      351.6020  \n",
       "4               8.73         114.62       97.7760  \n",
       "...              ...            ...           ...  \n",
       "359387          4.80          69.24       63.3600  \n",
       "359388          8.40         113.75      106.8480  \n",
       "359389         27.75         437.07      349.6500  \n",
       "359390          8.80         146.19      114.0480  \n",
       "359391         12.76         191.58      177.6192  \n",
       "\n",
       "[359392 rows x 7 columns]"
      ]
     },
     "execution_count": 949,
     "metadata": {},
     "output_type": "execute_result"
    }
   ],
   "source": [
    "# We've now tackled the irregularity problem for the Date of Travel field.The Date of Travel is now entered into a date format.\n",
    "cab_data"
   ]
  },
  {
   "cell_type": "code",
   "execution_count": 950,
   "metadata": {},
   "outputs": [
    {
     "data": {
      "text/plain": [
       "Transaction ID      int64\n",
       "Date of Travel     object\n",
       "Company            object\n",
       "City               object\n",
       "KM Travelled      float64\n",
       "Price Charged     float64\n",
       "Cost of Trip      float64\n",
       "dtype: object"
      ]
     },
     "execution_count": 950,
     "metadata": {},
     "output_type": "execute_result"
    }
   ],
   "source": [
    "# Not so fast! We've never tackled the problem enough,but we still see the Date of Travel as an object(string) data type as \n",
    "#shown below.\n",
    "# So we need to convert this from String to Date time data type.\n",
    "cab_data.dtypes"
   ]
  },
  {
   "cell_type": "code",
   "execution_count": 951,
   "metadata": {},
   "outputs": [],
   "source": [
    "# We use the to_datetime function to convert the Date of Travel field  to a datetime.\n",
    "cab_data['Date of Travel'] = pd.to_datetime(cab_data['Date of Travel'])"
   ]
  },
  {
   "cell_type": "code",
   "execution_count": 952,
   "metadata": {},
   "outputs": [
    {
     "data": {
      "text/html": [
       "<div>\n",
       "<style scoped>\n",
       "    .dataframe tbody tr th:only-of-type {\n",
       "        vertical-align: middle;\n",
       "    }\n",
       "\n",
       "    .dataframe tbody tr th {\n",
       "        vertical-align: top;\n",
       "    }\n",
       "\n",
       "    .dataframe thead th {\n",
       "        text-align: right;\n",
       "    }\n",
       "</style>\n",
       "<table border=\"1\" class=\"dataframe\">\n",
       "  <thead>\n",
       "    <tr style=\"text-align: right;\">\n",
       "      <th></th>\n",
       "      <th>Transaction ID</th>\n",
       "      <th>Date of Travel</th>\n",
       "      <th>Company</th>\n",
       "      <th>City</th>\n",
       "      <th>KM Travelled</th>\n",
       "      <th>Price Charged</th>\n",
       "      <th>Cost of Trip</th>\n",
       "    </tr>\n",
       "  </thead>\n",
       "  <tbody>\n",
       "    <tr>\n",
       "      <td>0</td>\n",
       "      <td>10000011</td>\n",
       "      <td>2016-08-01</td>\n",
       "      <td>Pink Cab</td>\n",
       "      <td>ATLANTA GA</td>\n",
       "      <td>30.45</td>\n",
       "      <td>370.95</td>\n",
       "      <td>313.6350</td>\n",
       "    </tr>\n",
       "    <tr>\n",
       "      <td>1</td>\n",
       "      <td>10000012</td>\n",
       "      <td>2016-06-01</td>\n",
       "      <td>Pink Cab</td>\n",
       "      <td>ATLANTA GA</td>\n",
       "      <td>28.62</td>\n",
       "      <td>358.52</td>\n",
       "      <td>334.8540</td>\n",
       "    </tr>\n",
       "    <tr>\n",
       "      <td>2</td>\n",
       "      <td>10000013</td>\n",
       "      <td>2016-02-01</td>\n",
       "      <td>Pink Cab</td>\n",
       "      <td>ATLANTA GA</td>\n",
       "      <td>9.04</td>\n",
       "      <td>125.20</td>\n",
       "      <td>97.6320</td>\n",
       "    </tr>\n",
       "    <tr>\n",
       "      <td>3</td>\n",
       "      <td>10000014</td>\n",
       "      <td>2016-07-01</td>\n",
       "      <td>Pink Cab</td>\n",
       "      <td>ATLANTA GA</td>\n",
       "      <td>33.17</td>\n",
       "      <td>377.40</td>\n",
       "      <td>351.6020</td>\n",
       "    </tr>\n",
       "    <tr>\n",
       "      <td>4</td>\n",
       "      <td>10000015</td>\n",
       "      <td>2016-03-01</td>\n",
       "      <td>Pink Cab</td>\n",
       "      <td>ATLANTA GA</td>\n",
       "      <td>8.73</td>\n",
       "      <td>114.62</td>\n",
       "      <td>97.7760</td>\n",
       "    </tr>\n",
       "    <tr>\n",
       "      <td>...</td>\n",
       "      <td>...</td>\n",
       "      <td>...</td>\n",
       "      <td>...</td>\n",
       "      <td>...</td>\n",
       "      <td>...</td>\n",
       "      <td>...</td>\n",
       "      <td>...</td>\n",
       "    </tr>\n",
       "    <tr>\n",
       "      <td>359387</td>\n",
       "      <td>10440101</td>\n",
       "      <td>2018-08-01</td>\n",
       "      <td>Yellow Cab</td>\n",
       "      <td>WASHINGTON DC</td>\n",
       "      <td>4.80</td>\n",
       "      <td>69.24</td>\n",
       "      <td>63.3600</td>\n",
       "    </tr>\n",
       "    <tr>\n",
       "      <td>359388</td>\n",
       "      <td>10440104</td>\n",
       "      <td>2018-04-01</td>\n",
       "      <td>Yellow Cab</td>\n",
       "      <td>WASHINGTON DC</td>\n",
       "      <td>8.40</td>\n",
       "      <td>113.75</td>\n",
       "      <td>106.8480</td>\n",
       "    </tr>\n",
       "    <tr>\n",
       "      <td>359389</td>\n",
       "      <td>10440105</td>\n",
       "      <td>2018-05-01</td>\n",
       "      <td>Yellow Cab</td>\n",
       "      <td>WASHINGTON DC</td>\n",
       "      <td>27.75</td>\n",
       "      <td>437.07</td>\n",
       "      <td>349.6500</td>\n",
       "    </tr>\n",
       "    <tr>\n",
       "      <td>359390</td>\n",
       "      <td>10440106</td>\n",
       "      <td>2018-05-01</td>\n",
       "      <td>Yellow Cab</td>\n",
       "      <td>WASHINGTON DC</td>\n",
       "      <td>8.80</td>\n",
       "      <td>146.19</td>\n",
       "      <td>114.0480</td>\n",
       "    </tr>\n",
       "    <tr>\n",
       "      <td>359391</td>\n",
       "      <td>10440107</td>\n",
       "      <td>2018-02-01</td>\n",
       "      <td>Yellow Cab</td>\n",
       "      <td>WASHINGTON DC</td>\n",
       "      <td>12.76</td>\n",
       "      <td>191.58</td>\n",
       "      <td>177.6192</td>\n",
       "    </tr>\n",
       "  </tbody>\n",
       "</table>\n",
       "<p>359392 rows × 7 columns</p>\n",
       "</div>"
      ],
      "text/plain": [
       "        Transaction ID Date of Travel     Company           City  \\\n",
       "0             10000011     2016-08-01    Pink Cab     ATLANTA GA   \n",
       "1             10000012     2016-06-01    Pink Cab     ATLANTA GA   \n",
       "2             10000013     2016-02-01    Pink Cab     ATLANTA GA   \n",
       "3             10000014     2016-07-01    Pink Cab     ATLANTA GA   \n",
       "4             10000015     2016-03-01    Pink Cab     ATLANTA GA   \n",
       "...                ...            ...         ...            ...   \n",
       "359387        10440101     2018-08-01  Yellow Cab  WASHINGTON DC   \n",
       "359388        10440104     2018-04-01  Yellow Cab  WASHINGTON DC   \n",
       "359389        10440105     2018-05-01  Yellow Cab  WASHINGTON DC   \n",
       "359390        10440106     2018-05-01  Yellow Cab  WASHINGTON DC   \n",
       "359391        10440107     2018-02-01  Yellow Cab  WASHINGTON DC   \n",
       "\n",
       "        KM Travelled  Price Charged  Cost of Trip  \n",
       "0              30.45         370.95      313.6350  \n",
       "1              28.62         358.52      334.8540  \n",
       "2               9.04         125.20       97.6320  \n",
       "3              33.17         377.40      351.6020  \n",
       "4               8.73         114.62       97.7760  \n",
       "...              ...            ...           ...  \n",
       "359387          4.80          69.24       63.3600  \n",
       "359388          8.40         113.75      106.8480  \n",
       "359389         27.75         437.07      349.6500  \n",
       "359390          8.80         146.19      114.0480  \n",
       "359391         12.76         191.58      177.6192  \n",
       "\n",
       "[359392 rows x 7 columns]"
      ]
     },
     "execution_count": 952,
     "metadata": {},
     "output_type": "execute_result"
    }
   ],
   "source": [
    "# The Date of Travel is now converted to a datetime datatype.\n",
    "# We can confirm this by the use of the dtypes function.\n",
    "cab_data"
   ]
  },
  {
   "cell_type": "code",
   "execution_count": 953,
   "metadata": {},
   "outputs": [
    {
     "data": {
      "text/plain": [
       "Transaction ID             int64\n",
       "Date of Travel    datetime64[ns]\n",
       "Company                   object\n",
       "City                      object\n",
       "KM Travelled             float64\n",
       "Price Charged            float64\n",
       "Cost of Trip             float64\n",
       "dtype: object"
      ]
     },
     "execution_count": 953,
     "metadata": {},
     "output_type": "execute_result"
    }
   ],
   "source": [
    "# Indeed the the Date of Travel is now converted to a datetime datatype.\n",
    "cab_data.dtypes"
   ]
  },
  {
   "cell_type": "code",
   "execution_count": 954,
   "metadata": {},
   "outputs": [],
   "source": [
    "# We can't be using only one data or certain data sets and then leave out the others to perform our analysis.There must be a way to\n",
    "# combine or join these datasets.We can tackle this problem by applying merges.\n",
    "# I've applied a merge on the two datasets first,Cab Data and the Transaction Data.\n",
    "# To merge a Cab Data with the Transaction Data,we look at which field/column appears on both these datasets.\n",
    "# Transaction ID is the field/column and so a merge is performed on Transaction ID.\n",
    "# Transaction ID is primary key on the Transaction data and a foreign key on a Cab data.We need to enforce the\n",
    "# referential integrity constraint.\n",
    "# After a merge is performed,we get a new dataset called cab_and_transaction_merge.\n",
    "\n",
    "cab_and_transaction_merge=pd.merge(cab_data,transaction_data, on=['Transaction ID'])"
   ]
  },
  {
   "cell_type": "code",
   "execution_count": 955,
   "metadata": {},
   "outputs": [
    {
     "data": {
      "text/html": [
       "<div>\n",
       "<style scoped>\n",
       "    .dataframe tbody tr th:only-of-type {\n",
       "        vertical-align: middle;\n",
       "    }\n",
       "\n",
       "    .dataframe tbody tr th {\n",
       "        vertical-align: top;\n",
       "    }\n",
       "\n",
       "    .dataframe thead th {\n",
       "        text-align: right;\n",
       "    }\n",
       "</style>\n",
       "<table border=\"1\" class=\"dataframe\">\n",
       "  <thead>\n",
       "    <tr style=\"text-align: right;\">\n",
       "      <th></th>\n",
       "      <th>Transaction ID</th>\n",
       "      <th>Date of Travel</th>\n",
       "      <th>Company</th>\n",
       "      <th>City</th>\n",
       "      <th>KM Travelled</th>\n",
       "      <th>Price Charged</th>\n",
       "      <th>Cost of Trip</th>\n",
       "      <th>Customer ID</th>\n",
       "      <th>Payment_Mode</th>\n",
       "    </tr>\n",
       "  </thead>\n",
       "  <tbody>\n",
       "    <tr>\n",
       "      <td>0</td>\n",
       "      <td>10000011</td>\n",
       "      <td>2016-08-01</td>\n",
       "      <td>Pink Cab</td>\n",
       "      <td>ATLANTA GA</td>\n",
       "      <td>30.45</td>\n",
       "      <td>370.95</td>\n",
       "      <td>313.6350</td>\n",
       "      <td>29290</td>\n",
       "      <td>Card</td>\n",
       "    </tr>\n",
       "    <tr>\n",
       "      <td>1</td>\n",
       "      <td>10000012</td>\n",
       "      <td>2016-06-01</td>\n",
       "      <td>Pink Cab</td>\n",
       "      <td>ATLANTA GA</td>\n",
       "      <td>28.62</td>\n",
       "      <td>358.52</td>\n",
       "      <td>334.8540</td>\n",
       "      <td>27703</td>\n",
       "      <td>Card</td>\n",
       "    </tr>\n",
       "    <tr>\n",
       "      <td>2</td>\n",
       "      <td>10000013</td>\n",
       "      <td>2016-02-01</td>\n",
       "      <td>Pink Cab</td>\n",
       "      <td>ATLANTA GA</td>\n",
       "      <td>9.04</td>\n",
       "      <td>125.20</td>\n",
       "      <td>97.6320</td>\n",
       "      <td>28712</td>\n",
       "      <td>Cash</td>\n",
       "    </tr>\n",
       "    <tr>\n",
       "      <td>3</td>\n",
       "      <td>10000014</td>\n",
       "      <td>2016-07-01</td>\n",
       "      <td>Pink Cab</td>\n",
       "      <td>ATLANTA GA</td>\n",
       "      <td>33.17</td>\n",
       "      <td>377.40</td>\n",
       "      <td>351.6020</td>\n",
       "      <td>28020</td>\n",
       "      <td>Cash</td>\n",
       "    </tr>\n",
       "    <tr>\n",
       "      <td>4</td>\n",
       "      <td>10000015</td>\n",
       "      <td>2016-03-01</td>\n",
       "      <td>Pink Cab</td>\n",
       "      <td>ATLANTA GA</td>\n",
       "      <td>8.73</td>\n",
       "      <td>114.62</td>\n",
       "      <td>97.7760</td>\n",
       "      <td>27182</td>\n",
       "      <td>Card</td>\n",
       "    </tr>\n",
       "    <tr>\n",
       "      <td>...</td>\n",
       "      <td>...</td>\n",
       "      <td>...</td>\n",
       "      <td>...</td>\n",
       "      <td>...</td>\n",
       "      <td>...</td>\n",
       "      <td>...</td>\n",
       "      <td>...</td>\n",
       "      <td>...</td>\n",
       "      <td>...</td>\n",
       "    </tr>\n",
       "    <tr>\n",
       "      <td>359387</td>\n",
       "      <td>10440101</td>\n",
       "      <td>2018-08-01</td>\n",
       "      <td>Yellow Cab</td>\n",
       "      <td>WASHINGTON DC</td>\n",
       "      <td>4.80</td>\n",
       "      <td>69.24</td>\n",
       "      <td>63.3600</td>\n",
       "      <td>52392</td>\n",
       "      <td>Cash</td>\n",
       "    </tr>\n",
       "    <tr>\n",
       "      <td>359388</td>\n",
       "      <td>10440104</td>\n",
       "      <td>2018-04-01</td>\n",
       "      <td>Yellow Cab</td>\n",
       "      <td>WASHINGTON DC</td>\n",
       "      <td>8.40</td>\n",
       "      <td>113.75</td>\n",
       "      <td>106.8480</td>\n",
       "      <td>53286</td>\n",
       "      <td>Cash</td>\n",
       "    </tr>\n",
       "    <tr>\n",
       "      <td>359389</td>\n",
       "      <td>10440105</td>\n",
       "      <td>2018-05-01</td>\n",
       "      <td>Yellow Cab</td>\n",
       "      <td>WASHINGTON DC</td>\n",
       "      <td>27.75</td>\n",
       "      <td>437.07</td>\n",
       "      <td>349.6500</td>\n",
       "      <td>52265</td>\n",
       "      <td>Cash</td>\n",
       "    </tr>\n",
       "    <tr>\n",
       "      <td>359390</td>\n",
       "      <td>10440106</td>\n",
       "      <td>2018-05-01</td>\n",
       "      <td>Yellow Cab</td>\n",
       "      <td>WASHINGTON DC</td>\n",
       "      <td>8.80</td>\n",
       "      <td>146.19</td>\n",
       "      <td>114.0480</td>\n",
       "      <td>52175</td>\n",
       "      <td>Card</td>\n",
       "    </tr>\n",
       "    <tr>\n",
       "      <td>359391</td>\n",
       "      <td>10440107</td>\n",
       "      <td>2018-02-01</td>\n",
       "      <td>Yellow Cab</td>\n",
       "      <td>WASHINGTON DC</td>\n",
       "      <td>12.76</td>\n",
       "      <td>191.58</td>\n",
       "      <td>177.6192</td>\n",
       "      <td>52917</td>\n",
       "      <td>Card</td>\n",
       "    </tr>\n",
       "  </tbody>\n",
       "</table>\n",
       "<p>359392 rows × 9 columns</p>\n",
       "</div>"
      ],
      "text/plain": [
       "        Transaction ID Date of Travel     Company           City  \\\n",
       "0             10000011     2016-08-01    Pink Cab     ATLANTA GA   \n",
       "1             10000012     2016-06-01    Pink Cab     ATLANTA GA   \n",
       "2             10000013     2016-02-01    Pink Cab     ATLANTA GA   \n",
       "3             10000014     2016-07-01    Pink Cab     ATLANTA GA   \n",
       "4             10000015     2016-03-01    Pink Cab     ATLANTA GA   \n",
       "...                ...            ...         ...            ...   \n",
       "359387        10440101     2018-08-01  Yellow Cab  WASHINGTON DC   \n",
       "359388        10440104     2018-04-01  Yellow Cab  WASHINGTON DC   \n",
       "359389        10440105     2018-05-01  Yellow Cab  WASHINGTON DC   \n",
       "359390        10440106     2018-05-01  Yellow Cab  WASHINGTON DC   \n",
       "359391        10440107     2018-02-01  Yellow Cab  WASHINGTON DC   \n",
       "\n",
       "        KM Travelled  Price Charged  Cost of Trip  Customer ID Payment_Mode  \n",
       "0              30.45         370.95      313.6350        29290         Card  \n",
       "1              28.62         358.52      334.8540        27703         Card  \n",
       "2               9.04         125.20       97.6320        28712         Cash  \n",
       "3              33.17         377.40      351.6020        28020         Cash  \n",
       "4               8.73         114.62       97.7760        27182         Card  \n",
       "...              ...            ...           ...          ...          ...  \n",
       "359387          4.80          69.24       63.3600        52392         Cash  \n",
       "359388          8.40         113.75      106.8480        53286         Cash  \n",
       "359389         27.75         437.07      349.6500        52265         Cash  \n",
       "359390          8.80         146.19      114.0480        52175         Card  \n",
       "359391         12.76         191.58      177.6192        52917         Card  \n",
       "\n",
       "[359392 rows x 9 columns]"
      ]
     },
     "execution_count": 955,
     "metadata": {},
     "output_type": "execute_result"
    }
   ],
   "source": [
    "cab_and_transaction_merge"
   ]
  },
  {
   "cell_type": "code",
   "execution_count": 956,
   "metadata": {},
   "outputs": [],
   "source": [
    "# We've merged only 2 datasets so far,the Cab data and the Transaction data and it resulted with a cab_and_transaction_merge\n",
    "# dataset.\n",
    "# Now we need to choose which dataset  we can merge with the cab_and_transaction_merge dataset and the \n",
    "# Customer dataset is  suitable to be merged because of the Customer ID column/field.\n",
    "# Customer ID is the primary key on the Customer data and the foreign key on the cab_and_transaction_merge data.\n",
    "# Again,we need enforce the referential integrity constraint.\n",
    "\n",
    "# Now we've merge 3 tables so far,the Cab data,Transaction data and the Customer data and the new dataset resulted into a new\n",
    "# data called cabtransaction_and_customer_merge.\n",
    "cabtransaction_and_customer_merge = pd.merge(cab_and_transaction_merge,customer_data, on=['Customer ID'])"
   ]
  },
  {
   "cell_type": "code",
   "execution_count": 957,
   "metadata": {},
   "outputs": [
    {
     "data": {
      "text/html": [
       "<div>\n",
       "<style scoped>\n",
       "    .dataframe tbody tr th:only-of-type {\n",
       "        vertical-align: middle;\n",
       "    }\n",
       "\n",
       "    .dataframe tbody tr th {\n",
       "        vertical-align: top;\n",
       "    }\n",
       "\n",
       "    .dataframe thead th {\n",
       "        text-align: right;\n",
       "    }\n",
       "</style>\n",
       "<table border=\"1\" class=\"dataframe\">\n",
       "  <thead>\n",
       "    <tr style=\"text-align: right;\">\n",
       "      <th></th>\n",
       "      <th>Transaction ID</th>\n",
       "      <th>Date of Travel</th>\n",
       "      <th>Company</th>\n",
       "      <th>City</th>\n",
       "      <th>KM Travelled</th>\n",
       "      <th>Price Charged</th>\n",
       "      <th>Cost of Trip</th>\n",
       "      <th>Customer ID</th>\n",
       "      <th>Payment_Mode</th>\n",
       "      <th>Gender</th>\n",
       "      <th>Age</th>\n",
       "      <th>Income (USD/Month)</th>\n",
       "    </tr>\n",
       "  </thead>\n",
       "  <tbody>\n",
       "    <tr>\n",
       "      <td>0</td>\n",
       "      <td>10000011</td>\n",
       "      <td>2016-08-01</td>\n",
       "      <td>Pink Cab</td>\n",
       "      <td>ATLANTA GA</td>\n",
       "      <td>30.45</td>\n",
       "      <td>370.95</td>\n",
       "      <td>313.6350</td>\n",
       "      <td>29290</td>\n",
       "      <td>Card</td>\n",
       "      <td>Male</td>\n",
       "      <td>28</td>\n",
       "      <td>10813</td>\n",
       "    </tr>\n",
       "    <tr>\n",
       "      <td>1</td>\n",
       "      <td>10351127</td>\n",
       "      <td>2018-07-21</td>\n",
       "      <td>Yellow Cab</td>\n",
       "      <td>ATLANTA GA</td>\n",
       "      <td>26.19</td>\n",
       "      <td>598.70</td>\n",
       "      <td>317.4228</td>\n",
       "      <td>29290</td>\n",
       "      <td>Cash</td>\n",
       "      <td>Male</td>\n",
       "      <td>28</td>\n",
       "      <td>10813</td>\n",
       "    </tr>\n",
       "    <tr>\n",
       "      <td>2</td>\n",
       "      <td>10412921</td>\n",
       "      <td>2018-11-23</td>\n",
       "      <td>Yellow Cab</td>\n",
       "      <td>ATLANTA GA</td>\n",
       "      <td>42.55</td>\n",
       "      <td>792.05</td>\n",
       "      <td>597.4020</td>\n",
       "      <td>29290</td>\n",
       "      <td>Card</td>\n",
       "      <td>Male</td>\n",
       "      <td>28</td>\n",
       "      <td>10813</td>\n",
       "    </tr>\n",
       "    <tr>\n",
       "      <td>3</td>\n",
       "      <td>10000012</td>\n",
       "      <td>2016-06-01</td>\n",
       "      <td>Pink Cab</td>\n",
       "      <td>ATLANTA GA</td>\n",
       "      <td>28.62</td>\n",
       "      <td>358.52</td>\n",
       "      <td>334.8540</td>\n",
       "      <td>27703</td>\n",
       "      <td>Card</td>\n",
       "      <td>Male</td>\n",
       "      <td>27</td>\n",
       "      <td>9237</td>\n",
       "    </tr>\n",
       "    <tr>\n",
       "      <td>4</td>\n",
       "      <td>10320494</td>\n",
       "      <td>2018-04-21</td>\n",
       "      <td>Yellow Cab</td>\n",
       "      <td>ATLANTA GA</td>\n",
       "      <td>36.38</td>\n",
       "      <td>721.10</td>\n",
       "      <td>467.1192</td>\n",
       "      <td>27703</td>\n",
       "      <td>Card</td>\n",
       "      <td>Male</td>\n",
       "      <td>27</td>\n",
       "      <td>9237</td>\n",
       "    </tr>\n",
       "    <tr>\n",
       "      <td>...</td>\n",
       "      <td>...</td>\n",
       "      <td>...</td>\n",
       "      <td>...</td>\n",
       "      <td>...</td>\n",
       "      <td>...</td>\n",
       "      <td>...</td>\n",
       "      <td>...</td>\n",
       "      <td>...</td>\n",
       "      <td>...</td>\n",
       "      <td>...</td>\n",
       "      <td>...</td>\n",
       "      <td>...</td>\n",
       "    </tr>\n",
       "    <tr>\n",
       "      <td>359387</td>\n",
       "      <td>10439790</td>\n",
       "      <td>2018-07-01</td>\n",
       "      <td>Yellow Cab</td>\n",
       "      <td>SEATTLE WA</td>\n",
       "      <td>16.66</td>\n",
       "      <td>261.18</td>\n",
       "      <td>213.9144</td>\n",
       "      <td>38520</td>\n",
       "      <td>Card</td>\n",
       "      <td>Female</td>\n",
       "      <td>42</td>\n",
       "      <td>19417</td>\n",
       "    </tr>\n",
       "    <tr>\n",
       "      <td>359388</td>\n",
       "      <td>10439799</td>\n",
       "      <td>2018-03-01</td>\n",
       "      <td>Yellow Cab</td>\n",
       "      <td>SILICON VALLEY</td>\n",
       "      <td>13.72</td>\n",
       "      <td>277.97</td>\n",
       "      <td>172.8720</td>\n",
       "      <td>12490</td>\n",
       "      <td>Cash</td>\n",
       "      <td>Male</td>\n",
       "      <td>33</td>\n",
       "      <td>18713</td>\n",
       "    </tr>\n",
       "    <tr>\n",
       "      <td>359389</td>\n",
       "      <td>10439838</td>\n",
       "      <td>2018-04-01</td>\n",
       "      <td>Yellow Cab</td>\n",
       "      <td>TUCSON AZ</td>\n",
       "      <td>19.00</td>\n",
       "      <td>303.77</td>\n",
       "      <td>232.5600</td>\n",
       "      <td>41414</td>\n",
       "      <td>Card</td>\n",
       "      <td>Male</td>\n",
       "      <td>38</td>\n",
       "      <td>3960</td>\n",
       "    </tr>\n",
       "    <tr>\n",
       "      <td>359390</td>\n",
       "      <td>10439840</td>\n",
       "      <td>2018-06-01</td>\n",
       "      <td>Yellow Cab</td>\n",
       "      <td>TUCSON AZ</td>\n",
       "      <td>5.60</td>\n",
       "      <td>92.42</td>\n",
       "      <td>70.5600</td>\n",
       "      <td>41677</td>\n",
       "      <td>Cash</td>\n",
       "      <td>Male</td>\n",
       "      <td>23</td>\n",
       "      <td>19454</td>\n",
       "    </tr>\n",
       "    <tr>\n",
       "      <td>359391</td>\n",
       "      <td>10439846</td>\n",
       "      <td>2018-04-01</td>\n",
       "      <td>Yellow Cab</td>\n",
       "      <td>TUCSON AZ</td>\n",
       "      <td>13.30</td>\n",
       "      <td>244.65</td>\n",
       "      <td>180.3480</td>\n",
       "      <td>39761</td>\n",
       "      <td>Card</td>\n",
       "      <td>Female</td>\n",
       "      <td>32</td>\n",
       "      <td>10128</td>\n",
       "    </tr>\n",
       "  </tbody>\n",
       "</table>\n",
       "<p>359392 rows × 12 columns</p>\n",
       "</div>"
      ],
      "text/plain": [
       "        Transaction ID Date of Travel     Company            City  \\\n",
       "0             10000011     2016-08-01    Pink Cab      ATLANTA GA   \n",
       "1             10351127     2018-07-21  Yellow Cab      ATLANTA GA   \n",
       "2             10412921     2018-11-23  Yellow Cab      ATLANTA GA   \n",
       "3             10000012     2016-06-01    Pink Cab      ATLANTA GA   \n",
       "4             10320494     2018-04-21  Yellow Cab      ATLANTA GA   \n",
       "...                ...            ...         ...             ...   \n",
       "359387        10439790     2018-07-01  Yellow Cab      SEATTLE WA   \n",
       "359388        10439799     2018-03-01  Yellow Cab  SILICON VALLEY   \n",
       "359389        10439838     2018-04-01  Yellow Cab       TUCSON AZ   \n",
       "359390        10439840     2018-06-01  Yellow Cab       TUCSON AZ   \n",
       "359391        10439846     2018-04-01  Yellow Cab       TUCSON AZ   \n",
       "\n",
       "        KM Travelled  Price Charged  Cost of Trip  Customer ID Payment_Mode  \\\n",
       "0              30.45         370.95      313.6350        29290         Card   \n",
       "1              26.19         598.70      317.4228        29290         Cash   \n",
       "2              42.55         792.05      597.4020        29290         Card   \n",
       "3              28.62         358.52      334.8540        27703         Card   \n",
       "4              36.38         721.10      467.1192        27703         Card   \n",
       "...              ...            ...           ...          ...          ...   \n",
       "359387         16.66         261.18      213.9144        38520         Card   \n",
       "359388         13.72         277.97      172.8720        12490         Cash   \n",
       "359389         19.00         303.77      232.5600        41414         Card   \n",
       "359390          5.60          92.42       70.5600        41677         Cash   \n",
       "359391         13.30         244.65      180.3480        39761         Card   \n",
       "\n",
       "        Gender  Age  Income (USD/Month)  \n",
       "0         Male   28               10813  \n",
       "1         Male   28               10813  \n",
       "2         Male   28               10813  \n",
       "3         Male   27                9237  \n",
       "4         Male   27                9237  \n",
       "...        ...  ...                 ...  \n",
       "359387  Female   42               19417  \n",
       "359388    Male   33               18713  \n",
       "359389    Male   38                3960  \n",
       "359390    Male   23               19454  \n",
       "359391  Female   32               10128  \n",
       "\n",
       "[359392 rows x 12 columns]"
      ]
     },
     "execution_count": 957,
     "metadata": {},
     "output_type": "execute_result"
    }
   ],
   "source": [
    "cabtransaction_and_customer_merge"
   ]
  },
  {
   "cell_type": "code",
   "execution_count": 958,
   "metadata": {},
   "outputs": [],
   "source": [
    "# We haven't joined/merged all the datasets altogether,there's the City data left.\n",
    "# Therefore we need to perform a merge on the  City column/field.\n",
    "# City is a primary key on the City data and a foreign key on the cabtransaction_and_customer_merge data.\n",
    "# Finally after the merge is performed,we end up getting a new data called the master_data.\n",
    "# Now a merge is performed on all tables,none are left.\n",
    "# The new data which is the master data now has 359392 rows and 14 columns.\n",
    "\n",
    "\n",
    "master_data=pd.merge(cabtransaction_and_customer_merge,city_data, on=['City'])"
   ]
  },
  {
   "cell_type": "code",
   "execution_count": 959,
   "metadata": {},
   "outputs": [
    {
     "data": {
      "text/html": [
       "<div>\n",
       "<style scoped>\n",
       "    .dataframe tbody tr th:only-of-type {\n",
       "        vertical-align: middle;\n",
       "    }\n",
       "\n",
       "    .dataframe tbody tr th {\n",
       "        vertical-align: top;\n",
       "    }\n",
       "\n",
       "    .dataframe thead th {\n",
       "        text-align: right;\n",
       "    }\n",
       "</style>\n",
       "<table border=\"1\" class=\"dataframe\">\n",
       "  <thead>\n",
       "    <tr style=\"text-align: right;\">\n",
       "      <th></th>\n",
       "      <th>Transaction ID</th>\n",
       "      <th>Date of Travel</th>\n",
       "      <th>Company</th>\n",
       "      <th>City</th>\n",
       "      <th>KM Travelled</th>\n",
       "      <th>Price Charged</th>\n",
       "      <th>Cost of Trip</th>\n",
       "      <th>Customer ID</th>\n",
       "      <th>Payment_Mode</th>\n",
       "      <th>Gender</th>\n",
       "      <th>Age</th>\n",
       "      <th>Income (USD/Month)</th>\n",
       "      <th>Population</th>\n",
       "      <th>Users</th>\n",
       "    </tr>\n",
       "  </thead>\n",
       "  <tbody>\n",
       "    <tr>\n",
       "      <td>0</td>\n",
       "      <td>10000011</td>\n",
       "      <td>2016-08-01</td>\n",
       "      <td>Pink Cab</td>\n",
       "      <td>ATLANTA GA</td>\n",
       "      <td>30.45</td>\n",
       "      <td>370.95</td>\n",
       "      <td>313.6350</td>\n",
       "      <td>29290</td>\n",
       "      <td>Card</td>\n",
       "      <td>Male</td>\n",
       "      <td>28</td>\n",
       "      <td>10813</td>\n",
       "      <td>814,885</td>\n",
       "      <td>24,701</td>\n",
       "    </tr>\n",
       "    <tr>\n",
       "      <td>1</td>\n",
       "      <td>10351127</td>\n",
       "      <td>2018-07-21</td>\n",
       "      <td>Yellow Cab</td>\n",
       "      <td>ATLANTA GA</td>\n",
       "      <td>26.19</td>\n",
       "      <td>598.70</td>\n",
       "      <td>317.4228</td>\n",
       "      <td>29290</td>\n",
       "      <td>Cash</td>\n",
       "      <td>Male</td>\n",
       "      <td>28</td>\n",
       "      <td>10813</td>\n",
       "      <td>814,885</td>\n",
       "      <td>24,701</td>\n",
       "    </tr>\n",
       "    <tr>\n",
       "      <td>2</td>\n",
       "      <td>10412921</td>\n",
       "      <td>2018-11-23</td>\n",
       "      <td>Yellow Cab</td>\n",
       "      <td>ATLANTA GA</td>\n",
       "      <td>42.55</td>\n",
       "      <td>792.05</td>\n",
       "      <td>597.4020</td>\n",
       "      <td>29290</td>\n",
       "      <td>Card</td>\n",
       "      <td>Male</td>\n",
       "      <td>28</td>\n",
       "      <td>10813</td>\n",
       "      <td>814,885</td>\n",
       "      <td>24,701</td>\n",
       "    </tr>\n",
       "    <tr>\n",
       "      <td>3</td>\n",
       "      <td>10000012</td>\n",
       "      <td>2016-06-01</td>\n",
       "      <td>Pink Cab</td>\n",
       "      <td>ATLANTA GA</td>\n",
       "      <td>28.62</td>\n",
       "      <td>358.52</td>\n",
       "      <td>334.8540</td>\n",
       "      <td>27703</td>\n",
       "      <td>Card</td>\n",
       "      <td>Male</td>\n",
       "      <td>27</td>\n",
       "      <td>9237</td>\n",
       "      <td>814,885</td>\n",
       "      <td>24,701</td>\n",
       "    </tr>\n",
       "    <tr>\n",
       "      <td>4</td>\n",
       "      <td>10320494</td>\n",
       "      <td>2018-04-21</td>\n",
       "      <td>Yellow Cab</td>\n",
       "      <td>ATLANTA GA</td>\n",
       "      <td>36.38</td>\n",
       "      <td>721.10</td>\n",
       "      <td>467.1192</td>\n",
       "      <td>27703</td>\n",
       "      <td>Card</td>\n",
       "      <td>Male</td>\n",
       "      <td>27</td>\n",
       "      <td>9237</td>\n",
       "      <td>814,885</td>\n",
       "      <td>24,701</td>\n",
       "    </tr>\n",
       "    <tr>\n",
       "      <td>...</td>\n",
       "      <td>...</td>\n",
       "      <td>...</td>\n",
       "      <td>...</td>\n",
       "      <td>...</td>\n",
       "      <td>...</td>\n",
       "      <td>...</td>\n",
       "      <td>...</td>\n",
       "      <td>...</td>\n",
       "      <td>...</td>\n",
       "      <td>...</td>\n",
       "      <td>...</td>\n",
       "      <td>...</td>\n",
       "      <td>...</td>\n",
       "      <td>...</td>\n",
       "    </tr>\n",
       "    <tr>\n",
       "      <td>359387</td>\n",
       "      <td>10307228</td>\n",
       "      <td>2018-03-03</td>\n",
       "      <td>Yellow Cab</td>\n",
       "      <td>WASHINGTON DC</td>\n",
       "      <td>38.40</td>\n",
       "      <td>668.93</td>\n",
       "      <td>525.3120</td>\n",
       "      <td>51406</td>\n",
       "      <td>Cash</td>\n",
       "      <td>Female</td>\n",
       "      <td>29</td>\n",
       "      <td>6829</td>\n",
       "      <td>418,859</td>\n",
       "      <td>127,001</td>\n",
       "    </tr>\n",
       "    <tr>\n",
       "      <td>359388</td>\n",
       "      <td>10319775</td>\n",
       "      <td>2018-04-13</td>\n",
       "      <td>Yellow Cab</td>\n",
       "      <td>WASHINGTON DC</td>\n",
       "      <td>3.57</td>\n",
       "      <td>67.60</td>\n",
       "      <td>44.5536</td>\n",
       "      <td>51406</td>\n",
       "      <td>Cash</td>\n",
       "      <td>Female</td>\n",
       "      <td>29</td>\n",
       "      <td>6829</td>\n",
       "      <td>418,859</td>\n",
       "      <td>127,001</td>\n",
       "    </tr>\n",
       "    <tr>\n",
       "      <td>359389</td>\n",
       "      <td>10347676</td>\n",
       "      <td>2018-06-07</td>\n",
       "      <td>Yellow Cab</td>\n",
       "      <td>WASHINGTON DC</td>\n",
       "      <td>23.46</td>\n",
       "      <td>331.97</td>\n",
       "      <td>337.8240</td>\n",
       "      <td>51406</td>\n",
       "      <td>Card</td>\n",
       "      <td>Female</td>\n",
       "      <td>29</td>\n",
       "      <td>6829</td>\n",
       "      <td>418,859</td>\n",
       "      <td>127,001</td>\n",
       "    </tr>\n",
       "    <tr>\n",
       "      <td>359390</td>\n",
       "      <td>10358624</td>\n",
       "      <td>2018-02-08</td>\n",
       "      <td>Yellow Cab</td>\n",
       "      <td>WASHINGTON DC</td>\n",
       "      <td>27.60</td>\n",
       "      <td>358.23</td>\n",
       "      <td>364.3200</td>\n",
       "      <td>51406</td>\n",
       "      <td>Cash</td>\n",
       "      <td>Female</td>\n",
       "      <td>29</td>\n",
       "      <td>6829</td>\n",
       "      <td>418,859</td>\n",
       "      <td>127,001</td>\n",
       "    </tr>\n",
       "    <tr>\n",
       "      <td>359391</td>\n",
       "      <td>10370709</td>\n",
       "      <td>2018-08-30</td>\n",
       "      <td>Yellow Cab</td>\n",
       "      <td>WASHINGTON DC</td>\n",
       "      <td>34.24</td>\n",
       "      <td>453.11</td>\n",
       "      <td>427.3152</td>\n",
       "      <td>51406</td>\n",
       "      <td>Card</td>\n",
       "      <td>Female</td>\n",
       "      <td>29</td>\n",
       "      <td>6829</td>\n",
       "      <td>418,859</td>\n",
       "      <td>127,001</td>\n",
       "    </tr>\n",
       "  </tbody>\n",
       "</table>\n",
       "<p>359392 rows × 14 columns</p>\n",
       "</div>"
      ],
      "text/plain": [
       "        Transaction ID Date of Travel     Company           City  \\\n",
       "0             10000011     2016-08-01    Pink Cab     ATLANTA GA   \n",
       "1             10351127     2018-07-21  Yellow Cab     ATLANTA GA   \n",
       "2             10412921     2018-11-23  Yellow Cab     ATLANTA GA   \n",
       "3             10000012     2016-06-01    Pink Cab     ATLANTA GA   \n",
       "4             10320494     2018-04-21  Yellow Cab     ATLANTA GA   \n",
       "...                ...            ...         ...            ...   \n",
       "359387        10307228     2018-03-03  Yellow Cab  WASHINGTON DC   \n",
       "359388        10319775     2018-04-13  Yellow Cab  WASHINGTON DC   \n",
       "359389        10347676     2018-06-07  Yellow Cab  WASHINGTON DC   \n",
       "359390        10358624     2018-02-08  Yellow Cab  WASHINGTON DC   \n",
       "359391        10370709     2018-08-30  Yellow Cab  WASHINGTON DC   \n",
       "\n",
       "        KM Travelled  Price Charged  Cost of Trip  Customer ID Payment_Mode  \\\n",
       "0              30.45         370.95      313.6350        29290         Card   \n",
       "1              26.19         598.70      317.4228        29290         Cash   \n",
       "2              42.55         792.05      597.4020        29290         Card   \n",
       "3              28.62         358.52      334.8540        27703         Card   \n",
       "4              36.38         721.10      467.1192        27703         Card   \n",
       "...              ...            ...           ...          ...          ...   \n",
       "359387         38.40         668.93      525.3120        51406         Cash   \n",
       "359388          3.57          67.60       44.5536        51406         Cash   \n",
       "359389         23.46         331.97      337.8240        51406         Card   \n",
       "359390         27.60         358.23      364.3200        51406         Cash   \n",
       "359391         34.24         453.11      427.3152        51406         Card   \n",
       "\n",
       "        Gender  Age  Income (USD/Month) Population      Users  \n",
       "0         Male   28               10813   814,885     24,701   \n",
       "1         Male   28               10813   814,885     24,701   \n",
       "2         Male   28               10813   814,885     24,701   \n",
       "3         Male   27                9237   814,885     24,701   \n",
       "4         Male   27                9237   814,885     24,701   \n",
       "...        ...  ...                 ...        ...        ...  \n",
       "359387  Female   29                6829   418,859    127,001   \n",
       "359388  Female   29                6829   418,859    127,001   \n",
       "359389  Female   29                6829   418,859    127,001   \n",
       "359390  Female   29                6829   418,859    127,001   \n",
       "359391  Female   29                6829   418,859    127,001   \n",
       "\n",
       "[359392 rows x 14 columns]"
      ]
     },
     "execution_count": 959,
     "metadata": {},
     "output_type": "execute_result"
    }
   ],
   "source": [
    "master_data"
   ]
  },
  {
   "cell_type": "code",
   "execution_count": 960,
   "metadata": {},
   "outputs": [
    {
     "data": {
      "text/plain": [
       "Index(['Transaction ID', 'Date of Travel', 'Company', 'City', 'KM Travelled',\n",
       "       'Price Charged', 'Cost of Trip', 'Customer ID', 'Payment_Mode',\n",
       "       'Gender', 'Age', 'Income (USD/Month)', 'Population', 'Users'],\n",
       "      dtype='object')"
      ]
     },
     "execution_count": 960,
     "metadata": {},
     "output_type": "execute_result"
    }
   ],
   "source": [
    "# Then we must check for column names,data type,dimensionality and null values in a dataset.\n",
    "master_data.columns"
   ]
  },
  {
   "cell_type": "code",
   "execution_count": 961,
   "metadata": {},
   "outputs": [
    {
     "data": {
      "text/plain": [
       "Transaction ID                 int64\n",
       "Date of Travel        datetime64[ns]\n",
       "Company                       object\n",
       "City                          object\n",
       "KM Travelled                 float64\n",
       "Price Charged                float64\n",
       "Cost of Trip                 float64\n",
       "Customer ID                    int64\n",
       "Payment_Mode                  object\n",
       "Gender                        object\n",
       "Age                            int64\n",
       "Income (USD/Month)             int64\n",
       "Population                    object\n",
       "Users                         object\n",
       "dtype: object"
      ]
     },
     "execution_count": 961,
     "metadata": {},
     "output_type": "execute_result"
    }
   ],
   "source": [
    "master_data.dtypes"
   ]
  },
  {
   "cell_type": "code",
   "execution_count": 962,
   "metadata": {},
   "outputs": [
    {
     "data": {
      "text/plain": [
       "(359392, 14)"
      ]
     },
     "execution_count": 962,
     "metadata": {},
     "output_type": "execute_result"
    }
   ],
   "source": [
    "master_data.shape"
   ]
  },
  {
   "cell_type": "code",
   "execution_count": 963,
   "metadata": {},
   "outputs": [
    {
     "data": {
      "text/plain": [
       "Transaction ID        0\n",
       "Date of Travel        0\n",
       "Company               0\n",
       "City                  0\n",
       "KM Travelled          0\n",
       "Price Charged         0\n",
       "Cost of Trip          0\n",
       "Customer ID           0\n",
       "Payment_Mode          0\n",
       "Gender                0\n",
       "Age                   0\n",
       "Income (USD/Month)    0\n",
       "Population            0\n",
       "Users                 0\n",
       "dtype: int64"
      ]
     },
     "execution_count": 963,
     "metadata": {},
     "output_type": "execute_result"
    }
   ],
   "source": [
    "# There are no null values in a dataset.\n",
    "master_data.isnull().sum()"
   ]
  },
  {
   "cell_type": "code",
   "execution_count": 964,
   "metadata": {},
   "outputs": [],
   "source": [
    "# We create the 2 new column/fields: Month and Year.\n",
    "# We will need these columns for time periods e.g.Number of customers on a monthly or yearly basis.\n",
    "\n",
    "months=[]\n",
    "years =[]\n",
    "for i in range(len(master_data['Date of Travel'])):\n",
    "    months.append(master_data['Date of Travel'][i].month)\n",
    "    years.append(master_data['Date of Travel'][i].year)\n",
    "master_data['Month'] = months\n",
    "master_data['Year'] = years"
   ]
  },
  {
   "cell_type": "code",
   "execution_count": 965,
   "metadata": {},
   "outputs": [
    {
     "data": {
      "text/html": [
       "<div>\n",
       "<style scoped>\n",
       "    .dataframe tbody tr th:only-of-type {\n",
       "        vertical-align: middle;\n",
       "    }\n",
       "\n",
       "    .dataframe tbody tr th {\n",
       "        vertical-align: top;\n",
       "    }\n",
       "\n",
       "    .dataframe thead th {\n",
       "        text-align: right;\n",
       "    }\n",
       "</style>\n",
       "<table border=\"1\" class=\"dataframe\">\n",
       "  <thead>\n",
       "    <tr style=\"text-align: right;\">\n",
       "      <th></th>\n",
       "      <th>Transaction ID</th>\n",
       "      <th>Date of Travel</th>\n",
       "      <th>Company</th>\n",
       "      <th>City</th>\n",
       "      <th>KM Travelled</th>\n",
       "      <th>Price Charged</th>\n",
       "      <th>Cost of Trip</th>\n",
       "      <th>Customer ID</th>\n",
       "      <th>Payment_Mode</th>\n",
       "      <th>Gender</th>\n",
       "      <th>Age</th>\n",
       "      <th>Income (USD/Month)</th>\n",
       "      <th>Population</th>\n",
       "      <th>Users</th>\n",
       "      <th>Month</th>\n",
       "      <th>Year</th>\n",
       "    </tr>\n",
       "  </thead>\n",
       "  <tbody>\n",
       "    <tr>\n",
       "      <td>0</td>\n",
       "      <td>10000011</td>\n",
       "      <td>2016-08-01</td>\n",
       "      <td>Pink Cab</td>\n",
       "      <td>ATLANTA GA</td>\n",
       "      <td>30.45</td>\n",
       "      <td>370.95</td>\n",
       "      <td>313.6350</td>\n",
       "      <td>29290</td>\n",
       "      <td>Card</td>\n",
       "      <td>Male</td>\n",
       "      <td>28</td>\n",
       "      <td>10813</td>\n",
       "      <td>814,885</td>\n",
       "      <td>24,701</td>\n",
       "      <td>8</td>\n",
       "      <td>2016</td>\n",
       "    </tr>\n",
       "    <tr>\n",
       "      <td>1</td>\n",
       "      <td>10351127</td>\n",
       "      <td>2018-07-21</td>\n",
       "      <td>Yellow Cab</td>\n",
       "      <td>ATLANTA GA</td>\n",
       "      <td>26.19</td>\n",
       "      <td>598.70</td>\n",
       "      <td>317.4228</td>\n",
       "      <td>29290</td>\n",
       "      <td>Cash</td>\n",
       "      <td>Male</td>\n",
       "      <td>28</td>\n",
       "      <td>10813</td>\n",
       "      <td>814,885</td>\n",
       "      <td>24,701</td>\n",
       "      <td>7</td>\n",
       "      <td>2018</td>\n",
       "    </tr>\n",
       "    <tr>\n",
       "      <td>2</td>\n",
       "      <td>10412921</td>\n",
       "      <td>2018-11-23</td>\n",
       "      <td>Yellow Cab</td>\n",
       "      <td>ATLANTA GA</td>\n",
       "      <td>42.55</td>\n",
       "      <td>792.05</td>\n",
       "      <td>597.4020</td>\n",
       "      <td>29290</td>\n",
       "      <td>Card</td>\n",
       "      <td>Male</td>\n",
       "      <td>28</td>\n",
       "      <td>10813</td>\n",
       "      <td>814,885</td>\n",
       "      <td>24,701</td>\n",
       "      <td>11</td>\n",
       "      <td>2018</td>\n",
       "    </tr>\n",
       "    <tr>\n",
       "      <td>3</td>\n",
       "      <td>10000012</td>\n",
       "      <td>2016-06-01</td>\n",
       "      <td>Pink Cab</td>\n",
       "      <td>ATLANTA GA</td>\n",
       "      <td>28.62</td>\n",
       "      <td>358.52</td>\n",
       "      <td>334.8540</td>\n",
       "      <td>27703</td>\n",
       "      <td>Card</td>\n",
       "      <td>Male</td>\n",
       "      <td>27</td>\n",
       "      <td>9237</td>\n",
       "      <td>814,885</td>\n",
       "      <td>24,701</td>\n",
       "      <td>6</td>\n",
       "      <td>2016</td>\n",
       "    </tr>\n",
       "    <tr>\n",
       "      <td>4</td>\n",
       "      <td>10320494</td>\n",
       "      <td>2018-04-21</td>\n",
       "      <td>Yellow Cab</td>\n",
       "      <td>ATLANTA GA</td>\n",
       "      <td>36.38</td>\n",
       "      <td>721.10</td>\n",
       "      <td>467.1192</td>\n",
       "      <td>27703</td>\n",
       "      <td>Card</td>\n",
       "      <td>Male</td>\n",
       "      <td>27</td>\n",
       "      <td>9237</td>\n",
       "      <td>814,885</td>\n",
       "      <td>24,701</td>\n",
       "      <td>4</td>\n",
       "      <td>2018</td>\n",
       "    </tr>\n",
       "    <tr>\n",
       "      <td>...</td>\n",
       "      <td>...</td>\n",
       "      <td>...</td>\n",
       "      <td>...</td>\n",
       "      <td>...</td>\n",
       "      <td>...</td>\n",
       "      <td>...</td>\n",
       "      <td>...</td>\n",
       "      <td>...</td>\n",
       "      <td>...</td>\n",
       "      <td>...</td>\n",
       "      <td>...</td>\n",
       "      <td>...</td>\n",
       "      <td>...</td>\n",
       "      <td>...</td>\n",
       "      <td>...</td>\n",
       "      <td>...</td>\n",
       "    </tr>\n",
       "    <tr>\n",
       "      <td>359387</td>\n",
       "      <td>10307228</td>\n",
       "      <td>2018-03-03</td>\n",
       "      <td>Yellow Cab</td>\n",
       "      <td>WASHINGTON DC</td>\n",
       "      <td>38.40</td>\n",
       "      <td>668.93</td>\n",
       "      <td>525.3120</td>\n",
       "      <td>51406</td>\n",
       "      <td>Cash</td>\n",
       "      <td>Female</td>\n",
       "      <td>29</td>\n",
       "      <td>6829</td>\n",
       "      <td>418,859</td>\n",
       "      <td>127,001</td>\n",
       "      <td>3</td>\n",
       "      <td>2018</td>\n",
       "    </tr>\n",
       "    <tr>\n",
       "      <td>359388</td>\n",
       "      <td>10319775</td>\n",
       "      <td>2018-04-13</td>\n",
       "      <td>Yellow Cab</td>\n",
       "      <td>WASHINGTON DC</td>\n",
       "      <td>3.57</td>\n",
       "      <td>67.60</td>\n",
       "      <td>44.5536</td>\n",
       "      <td>51406</td>\n",
       "      <td>Cash</td>\n",
       "      <td>Female</td>\n",
       "      <td>29</td>\n",
       "      <td>6829</td>\n",
       "      <td>418,859</td>\n",
       "      <td>127,001</td>\n",
       "      <td>4</td>\n",
       "      <td>2018</td>\n",
       "    </tr>\n",
       "    <tr>\n",
       "      <td>359389</td>\n",
       "      <td>10347676</td>\n",
       "      <td>2018-06-07</td>\n",
       "      <td>Yellow Cab</td>\n",
       "      <td>WASHINGTON DC</td>\n",
       "      <td>23.46</td>\n",
       "      <td>331.97</td>\n",
       "      <td>337.8240</td>\n",
       "      <td>51406</td>\n",
       "      <td>Card</td>\n",
       "      <td>Female</td>\n",
       "      <td>29</td>\n",
       "      <td>6829</td>\n",
       "      <td>418,859</td>\n",
       "      <td>127,001</td>\n",
       "      <td>6</td>\n",
       "      <td>2018</td>\n",
       "    </tr>\n",
       "    <tr>\n",
       "      <td>359390</td>\n",
       "      <td>10358624</td>\n",
       "      <td>2018-02-08</td>\n",
       "      <td>Yellow Cab</td>\n",
       "      <td>WASHINGTON DC</td>\n",
       "      <td>27.60</td>\n",
       "      <td>358.23</td>\n",
       "      <td>364.3200</td>\n",
       "      <td>51406</td>\n",
       "      <td>Cash</td>\n",
       "      <td>Female</td>\n",
       "      <td>29</td>\n",
       "      <td>6829</td>\n",
       "      <td>418,859</td>\n",
       "      <td>127,001</td>\n",
       "      <td>2</td>\n",
       "      <td>2018</td>\n",
       "    </tr>\n",
       "    <tr>\n",
       "      <td>359391</td>\n",
       "      <td>10370709</td>\n",
       "      <td>2018-08-30</td>\n",
       "      <td>Yellow Cab</td>\n",
       "      <td>WASHINGTON DC</td>\n",
       "      <td>34.24</td>\n",
       "      <td>453.11</td>\n",
       "      <td>427.3152</td>\n",
       "      <td>51406</td>\n",
       "      <td>Card</td>\n",
       "      <td>Female</td>\n",
       "      <td>29</td>\n",
       "      <td>6829</td>\n",
       "      <td>418,859</td>\n",
       "      <td>127,001</td>\n",
       "      <td>8</td>\n",
       "      <td>2018</td>\n",
       "    </tr>\n",
       "  </tbody>\n",
       "</table>\n",
       "<p>359392 rows × 16 columns</p>\n",
       "</div>"
      ],
      "text/plain": [
       "        Transaction ID Date of Travel     Company           City  \\\n",
       "0             10000011     2016-08-01    Pink Cab     ATLANTA GA   \n",
       "1             10351127     2018-07-21  Yellow Cab     ATLANTA GA   \n",
       "2             10412921     2018-11-23  Yellow Cab     ATLANTA GA   \n",
       "3             10000012     2016-06-01    Pink Cab     ATLANTA GA   \n",
       "4             10320494     2018-04-21  Yellow Cab     ATLANTA GA   \n",
       "...                ...            ...         ...            ...   \n",
       "359387        10307228     2018-03-03  Yellow Cab  WASHINGTON DC   \n",
       "359388        10319775     2018-04-13  Yellow Cab  WASHINGTON DC   \n",
       "359389        10347676     2018-06-07  Yellow Cab  WASHINGTON DC   \n",
       "359390        10358624     2018-02-08  Yellow Cab  WASHINGTON DC   \n",
       "359391        10370709     2018-08-30  Yellow Cab  WASHINGTON DC   \n",
       "\n",
       "        KM Travelled  Price Charged  Cost of Trip  Customer ID Payment_Mode  \\\n",
       "0              30.45         370.95      313.6350        29290         Card   \n",
       "1              26.19         598.70      317.4228        29290         Cash   \n",
       "2              42.55         792.05      597.4020        29290         Card   \n",
       "3              28.62         358.52      334.8540        27703         Card   \n",
       "4              36.38         721.10      467.1192        27703         Card   \n",
       "...              ...            ...           ...          ...          ...   \n",
       "359387         38.40         668.93      525.3120        51406         Cash   \n",
       "359388          3.57          67.60       44.5536        51406         Cash   \n",
       "359389         23.46         331.97      337.8240        51406         Card   \n",
       "359390         27.60         358.23      364.3200        51406         Cash   \n",
       "359391         34.24         453.11      427.3152        51406         Card   \n",
       "\n",
       "        Gender  Age  Income (USD/Month) Population      Users  Month  Year  \n",
       "0         Male   28               10813   814,885     24,701       8  2016  \n",
       "1         Male   28               10813   814,885     24,701       7  2018  \n",
       "2         Male   28               10813   814,885     24,701      11  2018  \n",
       "3         Male   27                9237   814,885     24,701       6  2016  \n",
       "4         Male   27                9237   814,885     24,701       4  2018  \n",
       "...        ...  ...                 ...        ...        ...    ...   ...  \n",
       "359387  Female   29                6829   418,859    127,001       3  2018  \n",
       "359388  Female   29                6829   418,859    127,001       4  2018  \n",
       "359389  Female   29                6829   418,859    127,001       6  2018  \n",
       "359390  Female   29                6829   418,859    127,001       2  2018  \n",
       "359391  Female   29                6829   418,859    127,001       8  2018  \n",
       "\n",
       "[359392 rows x 16 columns]"
      ]
     },
     "execution_count": 965,
     "metadata": {},
     "output_type": "execute_result"
    }
   ],
   "source": [
    "# The master data now has 16 columns because we've added 2 extra columns/fields.\n",
    "master_data"
   ]
  },
  {
   "cell_type": "code",
   "execution_count": 966,
   "metadata": {},
   "outputs": [],
   "source": [
    "# A column/field musn't be seperated by spaces.To eliminate this,we can rename the columns by replacing the white space\n",
    "# with an under score character\n",
    "# E.g We can change the Price Charged column with Price_Charged,Transaction ID with Transaction_ID and so on.\n",
    "# The  purpose is to resolve some conflicts when performing some aggregate functions like counts that we will later \n",
    "# perform at a later stage.\n",
    "# So they must be renamed.\n",
    "master_data = master_data.rename(columns={'Transaction ID':'Transaction_ID'})\n",
    "master_data = master_data.rename(columns={'Date of Travel':'Date_of_travel'})\n",
    "master_data = master_data.rename(columns={'KM Travelled':'KM_Travelled'})\n",
    "master_data = master_data.rename(columns={'Price Charged':'Price_Charged'})\n",
    "master_data = master_data.rename(columns={'Cost of Trip' :'Cost_of_trip'})\n",
    "master_data = master_data.rename(columns={'Customer ID' :'Customer_ID'})\n",
    "master_data = master_data.rename(columns={'Customer ID' :'Customer_ID'})\n",
    "master_data = master_data.rename(columns={'Income (USD/Month)' :'Income'})"
   ]
  },
  {
   "cell_type": "code",
   "execution_count": 967,
   "metadata": {},
   "outputs": [
    {
     "data": {
      "text/html": [
       "<div>\n",
       "<style scoped>\n",
       "    .dataframe tbody tr th:only-of-type {\n",
       "        vertical-align: middle;\n",
       "    }\n",
       "\n",
       "    .dataframe tbody tr th {\n",
       "        vertical-align: top;\n",
       "    }\n",
       "\n",
       "    .dataframe thead th {\n",
       "        text-align: right;\n",
       "    }\n",
       "</style>\n",
       "<table border=\"1\" class=\"dataframe\">\n",
       "  <thead>\n",
       "    <tr style=\"text-align: right;\">\n",
       "      <th></th>\n",
       "      <th>Transaction_ID</th>\n",
       "      <th>Date_of_travel</th>\n",
       "      <th>Company</th>\n",
       "      <th>City</th>\n",
       "      <th>KM_Travelled</th>\n",
       "      <th>Price_Charged</th>\n",
       "      <th>Cost_of_trip</th>\n",
       "      <th>Customer_ID</th>\n",
       "      <th>Payment_Mode</th>\n",
       "      <th>Gender</th>\n",
       "      <th>Age</th>\n",
       "      <th>Income</th>\n",
       "      <th>Population</th>\n",
       "      <th>Users</th>\n",
       "      <th>Month</th>\n",
       "      <th>Year</th>\n",
       "    </tr>\n",
       "  </thead>\n",
       "  <tbody>\n",
       "    <tr>\n",
       "      <td>0</td>\n",
       "      <td>10000011</td>\n",
       "      <td>2016-08-01</td>\n",
       "      <td>Pink Cab</td>\n",
       "      <td>ATLANTA GA</td>\n",
       "      <td>30.45</td>\n",
       "      <td>370.95</td>\n",
       "      <td>313.6350</td>\n",
       "      <td>29290</td>\n",
       "      <td>Card</td>\n",
       "      <td>Male</td>\n",
       "      <td>28</td>\n",
       "      <td>10813</td>\n",
       "      <td>814,885</td>\n",
       "      <td>24,701</td>\n",
       "      <td>8</td>\n",
       "      <td>2016</td>\n",
       "    </tr>\n",
       "    <tr>\n",
       "      <td>1</td>\n",
       "      <td>10351127</td>\n",
       "      <td>2018-07-21</td>\n",
       "      <td>Yellow Cab</td>\n",
       "      <td>ATLANTA GA</td>\n",
       "      <td>26.19</td>\n",
       "      <td>598.70</td>\n",
       "      <td>317.4228</td>\n",
       "      <td>29290</td>\n",
       "      <td>Cash</td>\n",
       "      <td>Male</td>\n",
       "      <td>28</td>\n",
       "      <td>10813</td>\n",
       "      <td>814,885</td>\n",
       "      <td>24,701</td>\n",
       "      <td>7</td>\n",
       "      <td>2018</td>\n",
       "    </tr>\n",
       "    <tr>\n",
       "      <td>2</td>\n",
       "      <td>10412921</td>\n",
       "      <td>2018-11-23</td>\n",
       "      <td>Yellow Cab</td>\n",
       "      <td>ATLANTA GA</td>\n",
       "      <td>42.55</td>\n",
       "      <td>792.05</td>\n",
       "      <td>597.4020</td>\n",
       "      <td>29290</td>\n",
       "      <td>Card</td>\n",
       "      <td>Male</td>\n",
       "      <td>28</td>\n",
       "      <td>10813</td>\n",
       "      <td>814,885</td>\n",
       "      <td>24,701</td>\n",
       "      <td>11</td>\n",
       "      <td>2018</td>\n",
       "    </tr>\n",
       "    <tr>\n",
       "      <td>3</td>\n",
       "      <td>10000012</td>\n",
       "      <td>2016-06-01</td>\n",
       "      <td>Pink Cab</td>\n",
       "      <td>ATLANTA GA</td>\n",
       "      <td>28.62</td>\n",
       "      <td>358.52</td>\n",
       "      <td>334.8540</td>\n",
       "      <td>27703</td>\n",
       "      <td>Card</td>\n",
       "      <td>Male</td>\n",
       "      <td>27</td>\n",
       "      <td>9237</td>\n",
       "      <td>814,885</td>\n",
       "      <td>24,701</td>\n",
       "      <td>6</td>\n",
       "      <td>2016</td>\n",
       "    </tr>\n",
       "    <tr>\n",
       "      <td>4</td>\n",
       "      <td>10320494</td>\n",
       "      <td>2018-04-21</td>\n",
       "      <td>Yellow Cab</td>\n",
       "      <td>ATLANTA GA</td>\n",
       "      <td>36.38</td>\n",
       "      <td>721.10</td>\n",
       "      <td>467.1192</td>\n",
       "      <td>27703</td>\n",
       "      <td>Card</td>\n",
       "      <td>Male</td>\n",
       "      <td>27</td>\n",
       "      <td>9237</td>\n",
       "      <td>814,885</td>\n",
       "      <td>24,701</td>\n",
       "      <td>4</td>\n",
       "      <td>2018</td>\n",
       "    </tr>\n",
       "    <tr>\n",
       "      <td>...</td>\n",
       "      <td>...</td>\n",
       "      <td>...</td>\n",
       "      <td>...</td>\n",
       "      <td>...</td>\n",
       "      <td>...</td>\n",
       "      <td>...</td>\n",
       "      <td>...</td>\n",
       "      <td>...</td>\n",
       "      <td>...</td>\n",
       "      <td>...</td>\n",
       "      <td>...</td>\n",
       "      <td>...</td>\n",
       "      <td>...</td>\n",
       "      <td>...</td>\n",
       "      <td>...</td>\n",
       "      <td>...</td>\n",
       "    </tr>\n",
       "    <tr>\n",
       "      <td>359387</td>\n",
       "      <td>10307228</td>\n",
       "      <td>2018-03-03</td>\n",
       "      <td>Yellow Cab</td>\n",
       "      <td>WASHINGTON DC</td>\n",
       "      <td>38.40</td>\n",
       "      <td>668.93</td>\n",
       "      <td>525.3120</td>\n",
       "      <td>51406</td>\n",
       "      <td>Cash</td>\n",
       "      <td>Female</td>\n",
       "      <td>29</td>\n",
       "      <td>6829</td>\n",
       "      <td>418,859</td>\n",
       "      <td>127,001</td>\n",
       "      <td>3</td>\n",
       "      <td>2018</td>\n",
       "    </tr>\n",
       "    <tr>\n",
       "      <td>359388</td>\n",
       "      <td>10319775</td>\n",
       "      <td>2018-04-13</td>\n",
       "      <td>Yellow Cab</td>\n",
       "      <td>WASHINGTON DC</td>\n",
       "      <td>3.57</td>\n",
       "      <td>67.60</td>\n",
       "      <td>44.5536</td>\n",
       "      <td>51406</td>\n",
       "      <td>Cash</td>\n",
       "      <td>Female</td>\n",
       "      <td>29</td>\n",
       "      <td>6829</td>\n",
       "      <td>418,859</td>\n",
       "      <td>127,001</td>\n",
       "      <td>4</td>\n",
       "      <td>2018</td>\n",
       "    </tr>\n",
       "    <tr>\n",
       "      <td>359389</td>\n",
       "      <td>10347676</td>\n",
       "      <td>2018-06-07</td>\n",
       "      <td>Yellow Cab</td>\n",
       "      <td>WASHINGTON DC</td>\n",
       "      <td>23.46</td>\n",
       "      <td>331.97</td>\n",
       "      <td>337.8240</td>\n",
       "      <td>51406</td>\n",
       "      <td>Card</td>\n",
       "      <td>Female</td>\n",
       "      <td>29</td>\n",
       "      <td>6829</td>\n",
       "      <td>418,859</td>\n",
       "      <td>127,001</td>\n",
       "      <td>6</td>\n",
       "      <td>2018</td>\n",
       "    </tr>\n",
       "    <tr>\n",
       "      <td>359390</td>\n",
       "      <td>10358624</td>\n",
       "      <td>2018-02-08</td>\n",
       "      <td>Yellow Cab</td>\n",
       "      <td>WASHINGTON DC</td>\n",
       "      <td>27.60</td>\n",
       "      <td>358.23</td>\n",
       "      <td>364.3200</td>\n",
       "      <td>51406</td>\n",
       "      <td>Cash</td>\n",
       "      <td>Female</td>\n",
       "      <td>29</td>\n",
       "      <td>6829</td>\n",
       "      <td>418,859</td>\n",
       "      <td>127,001</td>\n",
       "      <td>2</td>\n",
       "      <td>2018</td>\n",
       "    </tr>\n",
       "    <tr>\n",
       "      <td>359391</td>\n",
       "      <td>10370709</td>\n",
       "      <td>2018-08-30</td>\n",
       "      <td>Yellow Cab</td>\n",
       "      <td>WASHINGTON DC</td>\n",
       "      <td>34.24</td>\n",
       "      <td>453.11</td>\n",
       "      <td>427.3152</td>\n",
       "      <td>51406</td>\n",
       "      <td>Card</td>\n",
       "      <td>Female</td>\n",
       "      <td>29</td>\n",
       "      <td>6829</td>\n",
       "      <td>418,859</td>\n",
       "      <td>127,001</td>\n",
       "      <td>8</td>\n",
       "      <td>2018</td>\n",
       "    </tr>\n",
       "  </tbody>\n",
       "</table>\n",
       "<p>359392 rows × 16 columns</p>\n",
       "</div>"
      ],
      "text/plain": [
       "        Transaction_ID Date_of_travel     Company           City  \\\n",
       "0             10000011     2016-08-01    Pink Cab     ATLANTA GA   \n",
       "1             10351127     2018-07-21  Yellow Cab     ATLANTA GA   \n",
       "2             10412921     2018-11-23  Yellow Cab     ATLANTA GA   \n",
       "3             10000012     2016-06-01    Pink Cab     ATLANTA GA   \n",
       "4             10320494     2018-04-21  Yellow Cab     ATLANTA GA   \n",
       "...                ...            ...         ...            ...   \n",
       "359387        10307228     2018-03-03  Yellow Cab  WASHINGTON DC   \n",
       "359388        10319775     2018-04-13  Yellow Cab  WASHINGTON DC   \n",
       "359389        10347676     2018-06-07  Yellow Cab  WASHINGTON DC   \n",
       "359390        10358624     2018-02-08  Yellow Cab  WASHINGTON DC   \n",
       "359391        10370709     2018-08-30  Yellow Cab  WASHINGTON DC   \n",
       "\n",
       "        KM_Travelled  Price_Charged  Cost_of_trip  Customer_ID Payment_Mode  \\\n",
       "0              30.45         370.95      313.6350        29290         Card   \n",
       "1              26.19         598.70      317.4228        29290         Cash   \n",
       "2              42.55         792.05      597.4020        29290         Card   \n",
       "3              28.62         358.52      334.8540        27703         Card   \n",
       "4              36.38         721.10      467.1192        27703         Card   \n",
       "...              ...            ...           ...          ...          ...   \n",
       "359387         38.40         668.93      525.3120        51406         Cash   \n",
       "359388          3.57          67.60       44.5536        51406         Cash   \n",
       "359389         23.46         331.97      337.8240        51406         Card   \n",
       "359390         27.60         358.23      364.3200        51406         Cash   \n",
       "359391         34.24         453.11      427.3152        51406         Card   \n",
       "\n",
       "        Gender  Age  Income Population      Users  Month  Year  \n",
       "0         Male   28   10813   814,885     24,701       8  2016  \n",
       "1         Male   28   10813   814,885     24,701       7  2018  \n",
       "2         Male   28   10813   814,885     24,701      11  2018  \n",
       "3         Male   27    9237   814,885     24,701       6  2016  \n",
       "4         Male   27    9237   814,885     24,701       4  2018  \n",
       "...        ...  ...     ...        ...        ...    ...   ...  \n",
       "359387  Female   29    6829   418,859    127,001       3  2018  \n",
       "359388  Female   29    6829   418,859    127,001       4  2018  \n",
       "359389  Female   29    6829   418,859    127,001       6  2018  \n",
       "359390  Female   29    6829   418,859    127,001       2  2018  \n",
       "359391  Female   29    6829   418,859    127,001       8  2018  \n",
       "\n",
       "[359392 rows x 16 columns]"
      ]
     },
     "execution_count": 967,
     "metadata": {},
     "output_type": "execute_result"
    }
   ],
   "source": [
    "# All the columns are now renamed.\n",
    "master_data"
   ]
  },
  {
   "cell_type": "code",
   "execution_count": 968,
   "metadata": {},
   "outputs": [],
   "source": [
    "# We need to create a new column/field,the Margin/Profit column.\n",
    "# The formular for calculating a Profit is:Price Charged -Cost of Trip.\n",
    "master_data['Margin']=(master_data['Price_Charged']-master_data['Cost_of_trip'])"
   ]
  },
  {
   "cell_type": "code",
   "execution_count": 969,
   "metadata": {},
   "outputs": [
    {
     "data": {
      "text/html": [
       "<div>\n",
       "<style scoped>\n",
       "    .dataframe tbody tr th:only-of-type {\n",
       "        vertical-align: middle;\n",
       "    }\n",
       "\n",
       "    .dataframe tbody tr th {\n",
       "        vertical-align: top;\n",
       "    }\n",
       "\n",
       "    .dataframe thead th {\n",
       "        text-align: right;\n",
       "    }\n",
       "</style>\n",
       "<table border=\"1\" class=\"dataframe\">\n",
       "  <thead>\n",
       "    <tr style=\"text-align: right;\">\n",
       "      <th></th>\n",
       "      <th>Transaction_ID</th>\n",
       "      <th>Date_of_travel</th>\n",
       "      <th>Company</th>\n",
       "      <th>City</th>\n",
       "      <th>KM_Travelled</th>\n",
       "      <th>Price_Charged</th>\n",
       "      <th>Cost_of_trip</th>\n",
       "      <th>Customer_ID</th>\n",
       "      <th>Payment_Mode</th>\n",
       "      <th>Gender</th>\n",
       "      <th>Age</th>\n",
       "      <th>Income</th>\n",
       "      <th>Population</th>\n",
       "      <th>Users</th>\n",
       "      <th>Month</th>\n",
       "      <th>Year</th>\n",
       "      <th>Margin</th>\n",
       "    </tr>\n",
       "  </thead>\n",
       "  <tbody>\n",
       "    <tr>\n",
       "      <td>0</td>\n",
       "      <td>10000011</td>\n",
       "      <td>2016-08-01</td>\n",
       "      <td>Pink Cab</td>\n",
       "      <td>ATLANTA GA</td>\n",
       "      <td>30.45</td>\n",
       "      <td>370.95</td>\n",
       "      <td>313.6350</td>\n",
       "      <td>29290</td>\n",
       "      <td>Card</td>\n",
       "      <td>Male</td>\n",
       "      <td>28</td>\n",
       "      <td>10813</td>\n",
       "      <td>814,885</td>\n",
       "      <td>24,701</td>\n",
       "      <td>8</td>\n",
       "      <td>2016</td>\n",
       "      <td>57.3150</td>\n",
       "    </tr>\n",
       "    <tr>\n",
       "      <td>1</td>\n",
       "      <td>10351127</td>\n",
       "      <td>2018-07-21</td>\n",
       "      <td>Yellow Cab</td>\n",
       "      <td>ATLANTA GA</td>\n",
       "      <td>26.19</td>\n",
       "      <td>598.70</td>\n",
       "      <td>317.4228</td>\n",
       "      <td>29290</td>\n",
       "      <td>Cash</td>\n",
       "      <td>Male</td>\n",
       "      <td>28</td>\n",
       "      <td>10813</td>\n",
       "      <td>814,885</td>\n",
       "      <td>24,701</td>\n",
       "      <td>7</td>\n",
       "      <td>2018</td>\n",
       "      <td>281.2772</td>\n",
       "    </tr>\n",
       "    <tr>\n",
       "      <td>2</td>\n",
       "      <td>10412921</td>\n",
       "      <td>2018-11-23</td>\n",
       "      <td>Yellow Cab</td>\n",
       "      <td>ATLANTA GA</td>\n",
       "      <td>42.55</td>\n",
       "      <td>792.05</td>\n",
       "      <td>597.4020</td>\n",
       "      <td>29290</td>\n",
       "      <td>Card</td>\n",
       "      <td>Male</td>\n",
       "      <td>28</td>\n",
       "      <td>10813</td>\n",
       "      <td>814,885</td>\n",
       "      <td>24,701</td>\n",
       "      <td>11</td>\n",
       "      <td>2018</td>\n",
       "      <td>194.6480</td>\n",
       "    </tr>\n",
       "    <tr>\n",
       "      <td>3</td>\n",
       "      <td>10000012</td>\n",
       "      <td>2016-06-01</td>\n",
       "      <td>Pink Cab</td>\n",
       "      <td>ATLANTA GA</td>\n",
       "      <td>28.62</td>\n",
       "      <td>358.52</td>\n",
       "      <td>334.8540</td>\n",
       "      <td>27703</td>\n",
       "      <td>Card</td>\n",
       "      <td>Male</td>\n",
       "      <td>27</td>\n",
       "      <td>9237</td>\n",
       "      <td>814,885</td>\n",
       "      <td>24,701</td>\n",
       "      <td>6</td>\n",
       "      <td>2016</td>\n",
       "      <td>23.6660</td>\n",
       "    </tr>\n",
       "    <tr>\n",
       "      <td>4</td>\n",
       "      <td>10320494</td>\n",
       "      <td>2018-04-21</td>\n",
       "      <td>Yellow Cab</td>\n",
       "      <td>ATLANTA GA</td>\n",
       "      <td>36.38</td>\n",
       "      <td>721.10</td>\n",
       "      <td>467.1192</td>\n",
       "      <td>27703</td>\n",
       "      <td>Card</td>\n",
       "      <td>Male</td>\n",
       "      <td>27</td>\n",
       "      <td>9237</td>\n",
       "      <td>814,885</td>\n",
       "      <td>24,701</td>\n",
       "      <td>4</td>\n",
       "      <td>2018</td>\n",
       "      <td>253.9808</td>\n",
       "    </tr>\n",
       "    <tr>\n",
       "      <td>...</td>\n",
       "      <td>...</td>\n",
       "      <td>...</td>\n",
       "      <td>...</td>\n",
       "      <td>...</td>\n",
       "      <td>...</td>\n",
       "      <td>...</td>\n",
       "      <td>...</td>\n",
       "      <td>...</td>\n",
       "      <td>...</td>\n",
       "      <td>...</td>\n",
       "      <td>...</td>\n",
       "      <td>...</td>\n",
       "      <td>...</td>\n",
       "      <td>...</td>\n",
       "      <td>...</td>\n",
       "      <td>...</td>\n",
       "      <td>...</td>\n",
       "    </tr>\n",
       "    <tr>\n",
       "      <td>359387</td>\n",
       "      <td>10307228</td>\n",
       "      <td>2018-03-03</td>\n",
       "      <td>Yellow Cab</td>\n",
       "      <td>WASHINGTON DC</td>\n",
       "      <td>38.40</td>\n",
       "      <td>668.93</td>\n",
       "      <td>525.3120</td>\n",
       "      <td>51406</td>\n",
       "      <td>Cash</td>\n",
       "      <td>Female</td>\n",
       "      <td>29</td>\n",
       "      <td>6829</td>\n",
       "      <td>418,859</td>\n",
       "      <td>127,001</td>\n",
       "      <td>3</td>\n",
       "      <td>2018</td>\n",
       "      <td>143.6180</td>\n",
       "    </tr>\n",
       "    <tr>\n",
       "      <td>359388</td>\n",
       "      <td>10319775</td>\n",
       "      <td>2018-04-13</td>\n",
       "      <td>Yellow Cab</td>\n",
       "      <td>WASHINGTON DC</td>\n",
       "      <td>3.57</td>\n",
       "      <td>67.60</td>\n",
       "      <td>44.5536</td>\n",
       "      <td>51406</td>\n",
       "      <td>Cash</td>\n",
       "      <td>Female</td>\n",
       "      <td>29</td>\n",
       "      <td>6829</td>\n",
       "      <td>418,859</td>\n",
       "      <td>127,001</td>\n",
       "      <td>4</td>\n",
       "      <td>2018</td>\n",
       "      <td>23.0464</td>\n",
       "    </tr>\n",
       "    <tr>\n",
       "      <td>359389</td>\n",
       "      <td>10347676</td>\n",
       "      <td>2018-06-07</td>\n",
       "      <td>Yellow Cab</td>\n",
       "      <td>WASHINGTON DC</td>\n",
       "      <td>23.46</td>\n",
       "      <td>331.97</td>\n",
       "      <td>337.8240</td>\n",
       "      <td>51406</td>\n",
       "      <td>Card</td>\n",
       "      <td>Female</td>\n",
       "      <td>29</td>\n",
       "      <td>6829</td>\n",
       "      <td>418,859</td>\n",
       "      <td>127,001</td>\n",
       "      <td>6</td>\n",
       "      <td>2018</td>\n",
       "      <td>-5.8540</td>\n",
       "    </tr>\n",
       "    <tr>\n",
       "      <td>359390</td>\n",
       "      <td>10358624</td>\n",
       "      <td>2018-02-08</td>\n",
       "      <td>Yellow Cab</td>\n",
       "      <td>WASHINGTON DC</td>\n",
       "      <td>27.60</td>\n",
       "      <td>358.23</td>\n",
       "      <td>364.3200</td>\n",
       "      <td>51406</td>\n",
       "      <td>Cash</td>\n",
       "      <td>Female</td>\n",
       "      <td>29</td>\n",
       "      <td>6829</td>\n",
       "      <td>418,859</td>\n",
       "      <td>127,001</td>\n",
       "      <td>2</td>\n",
       "      <td>2018</td>\n",
       "      <td>-6.0900</td>\n",
       "    </tr>\n",
       "    <tr>\n",
       "      <td>359391</td>\n",
       "      <td>10370709</td>\n",
       "      <td>2018-08-30</td>\n",
       "      <td>Yellow Cab</td>\n",
       "      <td>WASHINGTON DC</td>\n",
       "      <td>34.24</td>\n",
       "      <td>453.11</td>\n",
       "      <td>427.3152</td>\n",
       "      <td>51406</td>\n",
       "      <td>Card</td>\n",
       "      <td>Female</td>\n",
       "      <td>29</td>\n",
       "      <td>6829</td>\n",
       "      <td>418,859</td>\n",
       "      <td>127,001</td>\n",
       "      <td>8</td>\n",
       "      <td>2018</td>\n",
       "      <td>25.7948</td>\n",
       "    </tr>\n",
       "  </tbody>\n",
       "</table>\n",
       "<p>359392 rows × 17 columns</p>\n",
       "</div>"
      ],
      "text/plain": [
       "        Transaction_ID Date_of_travel     Company           City  \\\n",
       "0             10000011     2016-08-01    Pink Cab     ATLANTA GA   \n",
       "1             10351127     2018-07-21  Yellow Cab     ATLANTA GA   \n",
       "2             10412921     2018-11-23  Yellow Cab     ATLANTA GA   \n",
       "3             10000012     2016-06-01    Pink Cab     ATLANTA GA   \n",
       "4             10320494     2018-04-21  Yellow Cab     ATLANTA GA   \n",
       "...                ...            ...         ...            ...   \n",
       "359387        10307228     2018-03-03  Yellow Cab  WASHINGTON DC   \n",
       "359388        10319775     2018-04-13  Yellow Cab  WASHINGTON DC   \n",
       "359389        10347676     2018-06-07  Yellow Cab  WASHINGTON DC   \n",
       "359390        10358624     2018-02-08  Yellow Cab  WASHINGTON DC   \n",
       "359391        10370709     2018-08-30  Yellow Cab  WASHINGTON DC   \n",
       "\n",
       "        KM_Travelled  Price_Charged  Cost_of_trip  Customer_ID Payment_Mode  \\\n",
       "0              30.45         370.95      313.6350        29290         Card   \n",
       "1              26.19         598.70      317.4228        29290         Cash   \n",
       "2              42.55         792.05      597.4020        29290         Card   \n",
       "3              28.62         358.52      334.8540        27703         Card   \n",
       "4              36.38         721.10      467.1192        27703         Card   \n",
       "...              ...            ...           ...          ...          ...   \n",
       "359387         38.40         668.93      525.3120        51406         Cash   \n",
       "359388          3.57          67.60       44.5536        51406         Cash   \n",
       "359389         23.46         331.97      337.8240        51406         Card   \n",
       "359390         27.60         358.23      364.3200        51406         Cash   \n",
       "359391         34.24         453.11      427.3152        51406         Card   \n",
       "\n",
       "        Gender  Age  Income Population      Users  Month  Year    Margin  \n",
       "0         Male   28   10813   814,885     24,701       8  2016   57.3150  \n",
       "1         Male   28   10813   814,885     24,701       7  2018  281.2772  \n",
       "2         Male   28   10813   814,885     24,701      11  2018  194.6480  \n",
       "3         Male   27    9237   814,885     24,701       6  2016   23.6660  \n",
       "4         Male   27    9237   814,885     24,701       4  2018  253.9808  \n",
       "...        ...  ...     ...        ...        ...    ...   ...       ...  \n",
       "359387  Female   29    6829   418,859    127,001       3  2018  143.6180  \n",
       "359388  Female   29    6829   418,859    127,001       4  2018   23.0464  \n",
       "359389  Female   29    6829   418,859    127,001       6  2018   -5.8540  \n",
       "359390  Female   29    6829   418,859    127,001       2  2018   -6.0900  \n",
       "359391  Female   29    6829   418,859    127,001       8  2018   25.7948  \n",
       "\n",
       "[359392 rows x 17 columns]"
      ]
     },
     "execution_count": 969,
     "metadata": {},
     "output_type": "execute_result"
    }
   ],
   "source": [
    "# The data now has 17 columns altogether because of the Margin column'field added.\n",
    "master_data"
   ]
  },
  {
   "cell_type": "code",
   "execution_count": 970,
   "metadata": {},
   "outputs": [
    {
     "data": {
      "text/plain": [
       "count    359392.000000\n",
       "mean         22.567254\n",
       "std          12.233526\n",
       "min           1.900000\n",
       "25%          12.000000\n",
       "50%          22.440000\n",
       "75%          32.960000\n",
       "max          48.000000\n",
       "Name: KM_Travelled, dtype: float64"
      ]
     },
     "execution_count": 970,
     "metadata": {},
     "output_type": "execute_result"
    }
   ],
   "source": [
    "# We can also do some summarization on each column/field to provide us with some aggregations on the numerical values.\n",
    "master_data['KM_Travelled'].describe()"
   ]
  },
  {
   "cell_type": "code",
   "execution_count": 971,
   "metadata": {},
   "outputs": [
    {
     "data": {
      "text/plain": [
       "count    359392.000000\n",
       "mean        423.443311\n",
       "std         274.378911\n",
       "min          15.600000\n",
       "25%         206.437500\n",
       "50%         386.360000\n",
       "75%         583.660000\n",
       "max        2048.030000\n",
       "Name: Price_Charged, dtype: float64"
      ]
     },
     "execution_count": 971,
     "metadata": {},
     "output_type": "execute_result"
    }
   ],
   "source": [
    "master_data['Price_Charged'].describe()"
   ]
  },
  {
   "cell_type": "code",
   "execution_count": 972,
   "metadata": {},
   "outputs": [
    {
     "data": {
      "text/plain": [
       "count    359392.000000\n",
       "mean        286.190113\n",
       "std         157.993661\n",
       "min          19.000000\n",
       "25%         151.200000\n",
       "50%         282.480000\n",
       "75%         413.683200\n",
       "max         691.200000\n",
       "Name: Cost_of_trip, dtype: float64"
      ]
     },
     "execution_count": 972,
     "metadata": {},
     "output_type": "execute_result"
    }
   ],
   "source": [
    "master_data['Cost_of_trip'].describe()"
   ]
  },
  {
   "cell_type": "code",
   "execution_count": 973,
   "metadata": {},
   "outputs": [
    {
     "data": {
      "text/plain": [
       "count    359392.000000\n",
       "mean         35.336705\n",
       "std          12.594234\n",
       "min          18.000000\n",
       "25%          25.000000\n",
       "50%          33.000000\n",
       "75%          42.000000\n",
       "max          65.000000\n",
       "Name: Age, dtype: float64"
      ]
     },
     "execution_count": 973,
     "metadata": {},
     "output_type": "execute_result"
    }
   ],
   "source": [
    "master_data['Age'].describe()"
   ]
  },
  {
   "cell_type": "code",
   "execution_count": 974,
   "metadata": {},
   "outputs": [
    {
     "data": {
      "text/plain": [
       "count    359392.000000\n",
       "mean      15048.822937\n",
       "std        7969.409482\n",
       "min        2000.000000\n",
       "25%        8424.000000\n",
       "50%       14685.000000\n",
       "75%       21035.000000\n",
       "max       35000.000000\n",
       "Name: Income, dtype: float64"
      ]
     },
     "execution_count": 974,
     "metadata": {},
     "output_type": "execute_result"
    }
   ],
   "source": [
    "master_data['Income'].describe()"
   ]
  },
  {
   "cell_type": "code",
   "execution_count": 975,
   "metadata": {},
   "outputs": [],
   "source": [
    "# We can split between the Pink cab and Yellow cab data\n",
    "# Once that is done it become easier to perform some exploratory data analysis\n",
    "pinkcab_data = master_data[master_data['Company']=='Pink Cab']\n",
    "yellowcab_data = master_data[master_data['Company']=='Yellow Cab']"
   ]
  },
  {
   "cell_type": "code",
   "execution_count": 976,
   "metadata": {},
   "outputs": [
    {
     "data": {
      "text/html": [
       "<div>\n",
       "<style scoped>\n",
       "    .dataframe tbody tr th:only-of-type {\n",
       "        vertical-align: middle;\n",
       "    }\n",
       "\n",
       "    .dataframe tbody tr th {\n",
       "        vertical-align: top;\n",
       "    }\n",
       "\n",
       "    .dataframe thead th {\n",
       "        text-align: right;\n",
       "    }\n",
       "</style>\n",
       "<table border=\"1\" class=\"dataframe\">\n",
       "  <thead>\n",
       "    <tr style=\"text-align: right;\">\n",
       "      <th></th>\n",
       "      <th>Transaction_ID</th>\n",
       "      <th>Date_of_travel</th>\n",
       "      <th>Company</th>\n",
       "      <th>City</th>\n",
       "      <th>KM_Travelled</th>\n",
       "      <th>Price_Charged</th>\n",
       "      <th>Cost_of_trip</th>\n",
       "      <th>Customer_ID</th>\n",
       "      <th>Payment_Mode</th>\n",
       "      <th>Gender</th>\n",
       "      <th>Age</th>\n",
       "      <th>Income</th>\n",
       "      <th>Population</th>\n",
       "      <th>Users</th>\n",
       "      <th>Month</th>\n",
       "      <th>Year</th>\n",
       "      <th>Margin</th>\n",
       "    </tr>\n",
       "  </thead>\n",
       "  <tbody>\n",
       "    <tr>\n",
       "      <td>0</td>\n",
       "      <td>10000011</td>\n",
       "      <td>2016-08-01</td>\n",
       "      <td>Pink Cab</td>\n",
       "      <td>ATLANTA GA</td>\n",
       "      <td>30.45</td>\n",
       "      <td>370.95</td>\n",
       "      <td>313.635</td>\n",
       "      <td>29290</td>\n",
       "      <td>Card</td>\n",
       "      <td>Male</td>\n",
       "      <td>28</td>\n",
       "      <td>10813</td>\n",
       "      <td>814,885</td>\n",
       "      <td>24,701</td>\n",
       "      <td>8</td>\n",
       "      <td>2016</td>\n",
       "      <td>57.315</td>\n",
       "    </tr>\n",
       "    <tr>\n",
       "      <td>3</td>\n",
       "      <td>10000012</td>\n",
       "      <td>2016-06-01</td>\n",
       "      <td>Pink Cab</td>\n",
       "      <td>ATLANTA GA</td>\n",
       "      <td>28.62</td>\n",
       "      <td>358.52</td>\n",
       "      <td>334.854</td>\n",
       "      <td>27703</td>\n",
       "      <td>Card</td>\n",
       "      <td>Male</td>\n",
       "      <td>27</td>\n",
       "      <td>9237</td>\n",
       "      <td>814,885</td>\n",
       "      <td>24,701</td>\n",
       "      <td>6</td>\n",
       "      <td>2016</td>\n",
       "      <td>23.666</td>\n",
       "    </tr>\n",
       "    <tr>\n",
       "      <td>6</td>\n",
       "      <td>10395626</td>\n",
       "      <td>2018-10-27</td>\n",
       "      <td>Pink Cab</td>\n",
       "      <td>ATLANTA GA</td>\n",
       "      <td>13.39</td>\n",
       "      <td>167.03</td>\n",
       "      <td>141.934</td>\n",
       "      <td>27703</td>\n",
       "      <td>Card</td>\n",
       "      <td>Male</td>\n",
       "      <td>27</td>\n",
       "      <td>9237</td>\n",
       "      <td>814,885</td>\n",
       "      <td>24,701</td>\n",
       "      <td>10</td>\n",
       "      <td>2018</td>\n",
       "      <td>25.096</td>\n",
       "    </tr>\n",
       "    <tr>\n",
       "      <td>7</td>\n",
       "      <td>10000013</td>\n",
       "      <td>2016-02-01</td>\n",
       "      <td>Pink Cab</td>\n",
       "      <td>ATLANTA GA</td>\n",
       "      <td>9.04</td>\n",
       "      <td>125.20</td>\n",
       "      <td>97.632</td>\n",
       "      <td>28712</td>\n",
       "      <td>Cash</td>\n",
       "      <td>Male</td>\n",
       "      <td>53</td>\n",
       "      <td>11242</td>\n",
       "      <td>814,885</td>\n",
       "      <td>24,701</td>\n",
       "      <td>2</td>\n",
       "      <td>2016</td>\n",
       "      <td>27.568</td>\n",
       "    </tr>\n",
       "    <tr>\n",
       "      <td>11</td>\n",
       "      <td>10000014</td>\n",
       "      <td>2016-07-01</td>\n",
       "      <td>Pink Cab</td>\n",
       "      <td>ATLANTA GA</td>\n",
       "      <td>33.17</td>\n",
       "      <td>377.40</td>\n",
       "      <td>351.602</td>\n",
       "      <td>28020</td>\n",
       "      <td>Cash</td>\n",
       "      <td>Male</td>\n",
       "      <td>23</td>\n",
       "      <td>23327</td>\n",
       "      <td>814,885</td>\n",
       "      <td>24,701</td>\n",
       "      <td>7</td>\n",
       "      <td>2016</td>\n",
       "      <td>25.798</td>\n",
       "    </tr>\n",
       "    <tr>\n",
       "      <td>...</td>\n",
       "      <td>...</td>\n",
       "      <td>...</td>\n",
       "      <td>...</td>\n",
       "      <td>...</td>\n",
       "      <td>...</td>\n",
       "      <td>...</td>\n",
       "      <td>...</td>\n",
       "      <td>...</td>\n",
       "      <td>...</td>\n",
       "      <td>...</td>\n",
       "      <td>...</td>\n",
       "      <td>...</td>\n",
       "      <td>...</td>\n",
       "      <td>...</td>\n",
       "      <td>...</td>\n",
       "      <td>...</td>\n",
       "      <td>...</td>\n",
       "    </tr>\n",
       "    <tr>\n",
       "      <td>359332</td>\n",
       "      <td>10200082</td>\n",
       "      <td>2017-07-23</td>\n",
       "      <td>Pink Cab</td>\n",
       "      <td>WASHINGTON DC</td>\n",
       "      <td>20.23</td>\n",
       "      <td>347.58</td>\n",
       "      <td>218.484</td>\n",
       "      <td>52425</td>\n",
       "      <td>Cash</td>\n",
       "      <td>Male</td>\n",
       "      <td>58</td>\n",
       "      <td>10737</td>\n",
       "      <td>418,859</td>\n",
       "      <td>127,001</td>\n",
       "      <td>7</td>\n",
       "      <td>2017</td>\n",
       "      <td>129.096</td>\n",
       "    </tr>\n",
       "    <tr>\n",
       "      <td>359346</td>\n",
       "      <td>10262863</td>\n",
       "      <td>2017-11-19</td>\n",
       "      <td>Pink Cab</td>\n",
       "      <td>WASHINGTON DC</td>\n",
       "      <td>4.44</td>\n",
       "      <td>61.95</td>\n",
       "      <td>50.616</td>\n",
       "      <td>51257</td>\n",
       "      <td>Card</td>\n",
       "      <td>Male</td>\n",
       "      <td>39</td>\n",
       "      <td>15247</td>\n",
       "      <td>418,859</td>\n",
       "      <td>127,001</td>\n",
       "      <td>11</td>\n",
       "      <td>2017</td>\n",
       "      <td>11.334</td>\n",
       "    </tr>\n",
       "    <tr>\n",
       "      <td>359356</td>\n",
       "      <td>10417014</td>\n",
       "      <td>2018-02-12</td>\n",
       "      <td>Pink Cab</td>\n",
       "      <td>WASHINGTON DC</td>\n",
       "      <td>40.95</td>\n",
       "      <td>565.07</td>\n",
       "      <td>434.070</td>\n",
       "      <td>51257</td>\n",
       "      <td>Card</td>\n",
       "      <td>Male</td>\n",
       "      <td>39</td>\n",
       "      <td>15247</td>\n",
       "      <td>418,859</td>\n",
       "      <td>127,001</td>\n",
       "      <td>2</td>\n",
       "      <td>2018</td>\n",
       "      <td>131.000</td>\n",
       "    </tr>\n",
       "    <tr>\n",
       "      <td>359358</td>\n",
       "      <td>10197277</td>\n",
       "      <td>2017-07-23</td>\n",
       "      <td>Pink Cab</td>\n",
       "      <td>WASHINGTON DC</td>\n",
       "      <td>32.64</td>\n",
       "      <td>375.27</td>\n",
       "      <td>368.832</td>\n",
       "      <td>51510</td>\n",
       "      <td>Card</td>\n",
       "      <td>Female</td>\n",
       "      <td>18</td>\n",
       "      <td>6855</td>\n",
       "      <td>418,859</td>\n",
       "      <td>127,001</td>\n",
       "      <td>7</td>\n",
       "      <td>2017</td>\n",
       "      <td>6.438</td>\n",
       "    </tr>\n",
       "    <tr>\n",
       "      <td>359363</td>\n",
       "      <td>10267182</td>\n",
       "      <td>2017-11-27</td>\n",
       "      <td>Pink Cab</td>\n",
       "      <td>WASHINGTON DC</td>\n",
       "      <td>21.40</td>\n",
       "      <td>235.76</td>\n",
       "      <td>216.140</td>\n",
       "      <td>51510</td>\n",
       "      <td>Card</td>\n",
       "      <td>Female</td>\n",
       "      <td>18</td>\n",
       "      <td>6855</td>\n",
       "      <td>418,859</td>\n",
       "      <td>127,001</td>\n",
       "      <td>11</td>\n",
       "      <td>2017</td>\n",
       "      <td>19.620</td>\n",
       "    </tr>\n",
       "  </tbody>\n",
       "</table>\n",
       "<p>84711 rows × 17 columns</p>\n",
       "</div>"
      ],
      "text/plain": [
       "        Transaction_ID Date_of_travel   Company           City  KM_Travelled  \\\n",
       "0             10000011     2016-08-01  Pink Cab     ATLANTA GA         30.45   \n",
       "3             10000012     2016-06-01  Pink Cab     ATLANTA GA         28.62   \n",
       "6             10395626     2018-10-27  Pink Cab     ATLANTA GA         13.39   \n",
       "7             10000013     2016-02-01  Pink Cab     ATLANTA GA          9.04   \n",
       "11            10000014     2016-07-01  Pink Cab     ATLANTA GA         33.17   \n",
       "...                ...            ...       ...            ...           ...   \n",
       "359332        10200082     2017-07-23  Pink Cab  WASHINGTON DC         20.23   \n",
       "359346        10262863     2017-11-19  Pink Cab  WASHINGTON DC          4.44   \n",
       "359356        10417014     2018-02-12  Pink Cab  WASHINGTON DC         40.95   \n",
       "359358        10197277     2017-07-23  Pink Cab  WASHINGTON DC         32.64   \n",
       "359363        10267182     2017-11-27  Pink Cab  WASHINGTON DC         21.40   \n",
       "\n",
       "        Price_Charged  Cost_of_trip  Customer_ID Payment_Mode  Gender  Age  \\\n",
       "0              370.95       313.635        29290         Card    Male   28   \n",
       "3              358.52       334.854        27703         Card    Male   27   \n",
       "6              167.03       141.934        27703         Card    Male   27   \n",
       "7              125.20        97.632        28712         Cash    Male   53   \n",
       "11             377.40       351.602        28020         Cash    Male   23   \n",
       "...               ...           ...          ...          ...     ...  ...   \n",
       "359332         347.58       218.484        52425         Cash    Male   58   \n",
       "359346          61.95        50.616        51257         Card    Male   39   \n",
       "359356         565.07       434.070        51257         Card    Male   39   \n",
       "359358         375.27       368.832        51510         Card  Female   18   \n",
       "359363         235.76       216.140        51510         Card  Female   18   \n",
       "\n",
       "        Income Population      Users  Month  Year   Margin  \n",
       "0        10813   814,885     24,701       8  2016   57.315  \n",
       "3         9237   814,885     24,701       6  2016   23.666  \n",
       "6         9237   814,885     24,701      10  2018   25.096  \n",
       "7        11242   814,885     24,701       2  2016   27.568  \n",
       "11       23327   814,885     24,701       7  2016   25.798  \n",
       "...        ...        ...        ...    ...   ...      ...  \n",
       "359332   10737   418,859    127,001       7  2017  129.096  \n",
       "359346   15247   418,859    127,001      11  2017   11.334  \n",
       "359356   15247   418,859    127,001       2  2018  131.000  \n",
       "359358    6855   418,859    127,001       7  2017    6.438  \n",
       "359363    6855   418,859    127,001      11  2017   19.620  \n",
       "\n",
       "[84711 rows x 17 columns]"
      ]
     },
     "execution_count": 976,
     "metadata": {},
     "output_type": "execute_result"
    }
   ],
   "source": [
    "pinkcab_data"
   ]
  },
  {
   "cell_type": "code",
   "execution_count": null,
   "metadata": {},
   "outputs": [],
   "source": []
  },
  {
   "cell_type": "code",
   "execution_count": 977,
   "metadata": {},
   "outputs": [
    {
     "data": {
      "text/html": [
       "<div>\n",
       "<style scoped>\n",
       "    .dataframe tbody tr th:only-of-type {\n",
       "        vertical-align: middle;\n",
       "    }\n",
       "\n",
       "    .dataframe tbody tr th {\n",
       "        vertical-align: top;\n",
       "    }\n",
       "\n",
       "    .dataframe thead th {\n",
       "        text-align: right;\n",
       "    }\n",
       "</style>\n",
       "<table border=\"1\" class=\"dataframe\">\n",
       "  <thead>\n",
       "    <tr style=\"text-align: right;\">\n",
       "      <th></th>\n",
       "      <th>Transaction_ID</th>\n",
       "      <th>Date_of_travel</th>\n",
       "      <th>Company</th>\n",
       "      <th>City</th>\n",
       "      <th>KM_Travelled</th>\n",
       "      <th>Price_Charged</th>\n",
       "      <th>Cost_of_trip</th>\n",
       "      <th>Customer_ID</th>\n",
       "      <th>Payment_Mode</th>\n",
       "      <th>Gender</th>\n",
       "      <th>Age</th>\n",
       "      <th>Income</th>\n",
       "      <th>Population</th>\n",
       "      <th>Users</th>\n",
       "      <th>Month</th>\n",
       "      <th>Year</th>\n",
       "      <th>Margin</th>\n",
       "    </tr>\n",
       "  </thead>\n",
       "  <tbody>\n",
       "    <tr>\n",
       "      <td>1</td>\n",
       "      <td>10351127</td>\n",
       "      <td>2018-07-21</td>\n",
       "      <td>Yellow Cab</td>\n",
       "      <td>ATLANTA GA</td>\n",
       "      <td>26.19</td>\n",
       "      <td>598.70</td>\n",
       "      <td>317.4228</td>\n",
       "      <td>29290</td>\n",
       "      <td>Cash</td>\n",
       "      <td>Male</td>\n",
       "      <td>28</td>\n",
       "      <td>10813</td>\n",
       "      <td>814,885</td>\n",
       "      <td>24,701</td>\n",
       "      <td>7</td>\n",
       "      <td>2018</td>\n",
       "      <td>281.2772</td>\n",
       "    </tr>\n",
       "    <tr>\n",
       "      <td>2</td>\n",
       "      <td>10412921</td>\n",
       "      <td>2018-11-23</td>\n",
       "      <td>Yellow Cab</td>\n",
       "      <td>ATLANTA GA</td>\n",
       "      <td>42.55</td>\n",
       "      <td>792.05</td>\n",
       "      <td>597.4020</td>\n",
       "      <td>29290</td>\n",
       "      <td>Card</td>\n",
       "      <td>Male</td>\n",
       "      <td>28</td>\n",
       "      <td>10813</td>\n",
       "      <td>814,885</td>\n",
       "      <td>24,701</td>\n",
       "      <td>11</td>\n",
       "      <td>2018</td>\n",
       "      <td>194.6480</td>\n",
       "    </tr>\n",
       "    <tr>\n",
       "      <td>4</td>\n",
       "      <td>10320494</td>\n",
       "      <td>2018-04-21</td>\n",
       "      <td>Yellow Cab</td>\n",
       "      <td>ATLANTA GA</td>\n",
       "      <td>36.38</td>\n",
       "      <td>721.10</td>\n",
       "      <td>467.1192</td>\n",
       "      <td>27703</td>\n",
       "      <td>Card</td>\n",
       "      <td>Male</td>\n",
       "      <td>27</td>\n",
       "      <td>9237</td>\n",
       "      <td>814,885</td>\n",
       "      <td>24,701</td>\n",
       "      <td>4</td>\n",
       "      <td>2018</td>\n",
       "      <td>253.9808</td>\n",
       "    </tr>\n",
       "    <tr>\n",
       "      <td>5</td>\n",
       "      <td>10324737</td>\n",
       "      <td>2018-04-05</td>\n",
       "      <td>Yellow Cab</td>\n",
       "      <td>ATLANTA GA</td>\n",
       "      <td>6.18</td>\n",
       "      <td>138.40</td>\n",
       "      <td>87.5088</td>\n",
       "      <td>27703</td>\n",
       "      <td>Cash</td>\n",
       "      <td>Male</td>\n",
       "      <td>27</td>\n",
       "      <td>9237</td>\n",
       "      <td>814,885</td>\n",
       "      <td>24,701</td>\n",
       "      <td>4</td>\n",
       "      <td>2018</td>\n",
       "      <td>50.8912</td>\n",
       "    </tr>\n",
       "    <tr>\n",
       "      <td>8</td>\n",
       "      <td>10079404</td>\n",
       "      <td>2016-09-21</td>\n",
       "      <td>Yellow Cab</td>\n",
       "      <td>ATLANTA GA</td>\n",
       "      <td>39.60</td>\n",
       "      <td>704.30</td>\n",
       "      <td>494.2080</td>\n",
       "      <td>28712</td>\n",
       "      <td>Card</td>\n",
       "      <td>Male</td>\n",
       "      <td>53</td>\n",
       "      <td>11242</td>\n",
       "      <td>814,885</td>\n",
       "      <td>24,701</td>\n",
       "      <td>9</td>\n",
       "      <td>2016</td>\n",
       "      <td>210.0920</td>\n",
       "    </tr>\n",
       "    <tr>\n",
       "      <td>...</td>\n",
       "      <td>...</td>\n",
       "      <td>...</td>\n",
       "      <td>...</td>\n",
       "      <td>...</td>\n",
       "      <td>...</td>\n",
       "      <td>...</td>\n",
       "      <td>...</td>\n",
       "      <td>...</td>\n",
       "      <td>...</td>\n",
       "      <td>...</td>\n",
       "      <td>...</td>\n",
       "      <td>...</td>\n",
       "      <td>...</td>\n",
       "      <td>...</td>\n",
       "      <td>...</td>\n",
       "      <td>...</td>\n",
       "      <td>...</td>\n",
       "    </tr>\n",
       "    <tr>\n",
       "      <td>359387</td>\n",
       "      <td>10307228</td>\n",
       "      <td>2018-03-03</td>\n",
       "      <td>Yellow Cab</td>\n",
       "      <td>WASHINGTON DC</td>\n",
       "      <td>38.40</td>\n",
       "      <td>668.93</td>\n",
       "      <td>525.3120</td>\n",
       "      <td>51406</td>\n",
       "      <td>Cash</td>\n",
       "      <td>Female</td>\n",
       "      <td>29</td>\n",
       "      <td>6829</td>\n",
       "      <td>418,859</td>\n",
       "      <td>127,001</td>\n",
       "      <td>3</td>\n",
       "      <td>2018</td>\n",
       "      <td>143.6180</td>\n",
       "    </tr>\n",
       "    <tr>\n",
       "      <td>359388</td>\n",
       "      <td>10319775</td>\n",
       "      <td>2018-04-13</td>\n",
       "      <td>Yellow Cab</td>\n",
       "      <td>WASHINGTON DC</td>\n",
       "      <td>3.57</td>\n",
       "      <td>67.60</td>\n",
       "      <td>44.5536</td>\n",
       "      <td>51406</td>\n",
       "      <td>Cash</td>\n",
       "      <td>Female</td>\n",
       "      <td>29</td>\n",
       "      <td>6829</td>\n",
       "      <td>418,859</td>\n",
       "      <td>127,001</td>\n",
       "      <td>4</td>\n",
       "      <td>2018</td>\n",
       "      <td>23.0464</td>\n",
       "    </tr>\n",
       "    <tr>\n",
       "      <td>359389</td>\n",
       "      <td>10347676</td>\n",
       "      <td>2018-06-07</td>\n",
       "      <td>Yellow Cab</td>\n",
       "      <td>WASHINGTON DC</td>\n",
       "      <td>23.46</td>\n",
       "      <td>331.97</td>\n",
       "      <td>337.8240</td>\n",
       "      <td>51406</td>\n",
       "      <td>Card</td>\n",
       "      <td>Female</td>\n",
       "      <td>29</td>\n",
       "      <td>6829</td>\n",
       "      <td>418,859</td>\n",
       "      <td>127,001</td>\n",
       "      <td>6</td>\n",
       "      <td>2018</td>\n",
       "      <td>-5.8540</td>\n",
       "    </tr>\n",
       "    <tr>\n",
       "      <td>359390</td>\n",
       "      <td>10358624</td>\n",
       "      <td>2018-02-08</td>\n",
       "      <td>Yellow Cab</td>\n",
       "      <td>WASHINGTON DC</td>\n",
       "      <td>27.60</td>\n",
       "      <td>358.23</td>\n",
       "      <td>364.3200</td>\n",
       "      <td>51406</td>\n",
       "      <td>Cash</td>\n",
       "      <td>Female</td>\n",
       "      <td>29</td>\n",
       "      <td>6829</td>\n",
       "      <td>418,859</td>\n",
       "      <td>127,001</td>\n",
       "      <td>2</td>\n",
       "      <td>2018</td>\n",
       "      <td>-6.0900</td>\n",
       "    </tr>\n",
       "    <tr>\n",
       "      <td>359391</td>\n",
       "      <td>10370709</td>\n",
       "      <td>2018-08-30</td>\n",
       "      <td>Yellow Cab</td>\n",
       "      <td>WASHINGTON DC</td>\n",
       "      <td>34.24</td>\n",
       "      <td>453.11</td>\n",
       "      <td>427.3152</td>\n",
       "      <td>51406</td>\n",
       "      <td>Card</td>\n",
       "      <td>Female</td>\n",
       "      <td>29</td>\n",
       "      <td>6829</td>\n",
       "      <td>418,859</td>\n",
       "      <td>127,001</td>\n",
       "      <td>8</td>\n",
       "      <td>2018</td>\n",
       "      <td>25.7948</td>\n",
       "    </tr>\n",
       "  </tbody>\n",
       "</table>\n",
       "<p>274681 rows × 17 columns</p>\n",
       "</div>"
      ],
      "text/plain": [
       "        Transaction_ID Date_of_travel     Company           City  \\\n",
       "1             10351127     2018-07-21  Yellow Cab     ATLANTA GA   \n",
       "2             10412921     2018-11-23  Yellow Cab     ATLANTA GA   \n",
       "4             10320494     2018-04-21  Yellow Cab     ATLANTA GA   \n",
       "5             10324737     2018-04-05  Yellow Cab     ATLANTA GA   \n",
       "8             10079404     2016-09-21  Yellow Cab     ATLANTA GA   \n",
       "...                ...            ...         ...            ...   \n",
       "359387        10307228     2018-03-03  Yellow Cab  WASHINGTON DC   \n",
       "359388        10319775     2018-04-13  Yellow Cab  WASHINGTON DC   \n",
       "359389        10347676     2018-06-07  Yellow Cab  WASHINGTON DC   \n",
       "359390        10358624     2018-02-08  Yellow Cab  WASHINGTON DC   \n",
       "359391        10370709     2018-08-30  Yellow Cab  WASHINGTON DC   \n",
       "\n",
       "        KM_Travelled  Price_Charged  Cost_of_trip  Customer_ID Payment_Mode  \\\n",
       "1              26.19         598.70      317.4228        29290         Cash   \n",
       "2              42.55         792.05      597.4020        29290         Card   \n",
       "4              36.38         721.10      467.1192        27703         Card   \n",
       "5               6.18         138.40       87.5088        27703         Cash   \n",
       "8              39.60         704.30      494.2080        28712         Card   \n",
       "...              ...            ...           ...          ...          ...   \n",
       "359387         38.40         668.93      525.3120        51406         Cash   \n",
       "359388          3.57          67.60       44.5536        51406         Cash   \n",
       "359389         23.46         331.97      337.8240        51406         Card   \n",
       "359390         27.60         358.23      364.3200        51406         Cash   \n",
       "359391         34.24         453.11      427.3152        51406         Card   \n",
       "\n",
       "        Gender  Age  Income Population      Users  Month  Year    Margin  \n",
       "1         Male   28   10813   814,885     24,701       7  2018  281.2772  \n",
       "2         Male   28   10813   814,885     24,701      11  2018  194.6480  \n",
       "4         Male   27    9237   814,885     24,701       4  2018  253.9808  \n",
       "5         Male   27    9237   814,885     24,701       4  2018   50.8912  \n",
       "8         Male   53   11242   814,885     24,701       9  2016  210.0920  \n",
       "...        ...  ...     ...        ...        ...    ...   ...       ...  \n",
       "359387  Female   29    6829   418,859    127,001       3  2018  143.6180  \n",
       "359388  Female   29    6829   418,859    127,001       4  2018   23.0464  \n",
       "359389  Female   29    6829   418,859    127,001       6  2018   -5.8540  \n",
       "359390  Female   29    6829   418,859    127,001       2  2018   -6.0900  \n",
       "359391  Female   29    6829   418,859    127,001       8  2018   25.7948  \n",
       "\n",
       "[274681 rows x 17 columns]"
      ]
     },
     "execution_count": 977,
     "metadata": {},
     "output_type": "execute_result"
    }
   ],
   "source": [
    "yellowcab_data"
   ]
  },
  {
   "cell_type": "code",
   "execution_count": 978,
   "metadata": {},
   "outputs": [
    {
     "data": {
      "text/plain": [
       "26328251.329999994"
      ]
     },
     "execution_count": 978,
     "metadata": {},
     "output_type": "execute_result"
    }
   ],
   "source": [
    "# To provide the total Price_Charged  for a Pink cab and Yellow cab,we can use the aggregate function sum().\n",
    "pinkcab_data['Price_Charged'].sum()"
   ]
  },
  {
   "cell_type": "code",
   "execution_count": 979,
   "metadata": {},
   "outputs": [
    {
     "data": {
      "text/plain": [
       "125853887.18999998"
      ]
     },
     "execution_count": 979,
     "metadata": {},
     "output_type": "execute_result"
    }
   ],
   "source": [
    "yellowcab_data['Price_Charged'].sum()"
   ]
  },
  {
   "cell_type": "code",
   "execution_count": 980,
   "metadata": {},
   "outputs": [
    {
     "data": {
      "text/plain": [
       "99525635.85999998"
      ]
     },
     "execution_count": 980,
     "metadata": {},
     "output_type": "execute_result"
    }
   ],
   "source": [
    "# As we can see,the total Price_Charged for a Yellow cab is higher than that of the Pink cab.\n",
    "# There is a very huge difference in Price_Charged.\n",
    "yellowcab_data['Price_Charged'].sum()-pinkcab_data['Price_Charged'].sum()"
   ]
  },
  {
   "cell_type": "code",
   "execution_count": 981,
   "metadata": {},
   "outputs": [
    {
     "data": {
      "text/plain": [
       "5307328.321"
      ]
     },
     "execution_count": 981,
     "metadata": {},
     "output_type": "execute_result"
    }
   ],
   "source": [
    "pinkcab_data['Margin'].sum()"
   ]
  },
  {
   "cell_type": "code",
   "execution_count": 982,
   "metadata": {},
   "outputs": [
    {
     "data": {
      "text/plain": [
       "44020373.17080002"
      ]
     },
     "execution_count": 982,
     "metadata": {},
     "output_type": "execute_result"
    }
   ],
   "source": [
    "yellowcab_data['Margin'].sum()"
   ]
  },
  {
   "cell_type": "code",
   "execution_count": 983,
   "metadata": {},
   "outputs": [
    {
     "data": {
      "text/plain": [
       "38713044.84980002"
      ]
     },
     "execution_count": 983,
     "metadata": {},
     "output_type": "execute_result"
    }
   ],
   "source": [
    "# As we can see again,the Margin/Profit for the Yellow cab is higher than that of the Pink cab.\n",
    "# Again there is a huge difference in Margin/Profit.\n",
    "yellowcab_data['Margin'].sum()-pinkcab_data['Margin'].sum()"
   ]
  },
  {
   "cell_type": "code",
   "execution_count": 984,
   "metadata": {},
   "outputs": [],
   "source": [
    "# We import the following libraries for making some visualizations and plots.\n",
    "import matplotlib.pyplot as plt\n",
    "%matplotlib inline\n",
    "import seaborn as sns"
   ]
  },
  {
   "cell_type": "code",
   "execution_count": 985,
   "metadata": {},
   "outputs": [],
   "source": [
    "# The Customers/cab users play a crucial role in the performance of the business.\n",
    "# We identify the customers by their Customer_ID unique identifier.\n",
    "\n",
    "# We will determine the number of customers/cab users on a monthly and yearly basis.\n",
    "\n",
    "pinkcabs_monthly_plots_customers = pinkcab_data.groupby(['Month']).Customer_ID.count()"
   ]
  },
  {
   "cell_type": "code",
   "execution_count": 986,
   "metadata": {},
   "outputs": [
    {
     "data": {
      "text/plain": [
       "Month\n",
       "1     4734\n",
       "2     4693\n",
       "3     5724\n",
       "4     5118\n",
       "5     6150\n",
       "6     6371\n",
       "7     7048\n",
       "8     8011\n",
       "9     8518\n",
       "10    9936\n",
       "11    8679\n",
       "12    9729\n",
       "Name: Customer_ID, dtype: int64"
      ]
     },
     "execution_count": 986,
     "metadata": {},
     "output_type": "execute_result"
    }
   ],
   "source": [
    "pinkcabs_monthly_plots_customers"
   ]
  },
  {
   "cell_type": "code",
   "execution_count": 987,
   "metadata": {},
   "outputs": [
    {
     "data": {
      "image/png": "[encoded data removed]",
      "text/plain": [
       "<Figure size 1008x432 with 1 Axes>"
      ]
     },
     "metadata": {
      "needs_background": "light"
     },
     "output_type": "display_data"
    }
   ],
   "source": [
    "# The number of customers/cab users for a Pink cab on a monthly basis.\n",
    "plt.figure(figsize=(14,6))\n",
    "sns.barplot(x=pinkcabs_monthly_plots_customers.index,y=pinkcabs_monthly_plots_customers.values)\n",
    "plt.title('Number of Customers in a Pink Cab in each month')\n",
    "plt.show()"
   ]
  },
  {
   "cell_type": "code",
   "execution_count": 988,
   "metadata": {},
   "outputs": [],
   "source": [
    "yellowcabs_monthly_plots_customers = yellowcab_data.groupby(['Month']).Customer_ID.count()"
   ]
  },
  {
   "cell_type": "code",
   "execution_count": 989,
   "metadata": {},
   "outputs": [
    {
     "data": {
      "text/plain": [
       "Month\n",
       "1     17108\n",
       "2     17338\n",
       "3     20754\n",
       "4     19077\n",
       "5     21309\n",
       "6     20568\n",
       "7     23177\n",
       "8     24027\n",
       "9     25377\n",
       "10    29273\n",
       "11    26538\n",
       "12    30135\n",
       "Name: Customer_ID, dtype: int64"
      ]
     },
     "execution_count": 989,
     "metadata": {},
     "output_type": "execute_result"
    }
   ],
   "source": [
    "yellowcabs_monthly_plots_customers"
   ]
  },
  {
   "cell_type": "code",
   "execution_count": 990,
   "metadata": {},
   "outputs": [
    {
     "data": {
      "image/png": "[encoded data removed]",
      "text/plain": [
       "<Figure size 1008x432 with 1 Axes>"
      ]
     },
     "metadata": {
      "needs_background": "light"
     },
     "output_type": "display_data"
    }
   ],
   "source": [
    "plt.figure(figsize=(14,6))\n",
    "sns.barplot(x=yellowcabs_monthly_plots_customers.index,y=yellowcabs_monthly_plots_customers.values)\n",
    "plt.title('Number of Customers in a Yellow Cab in each month')\n",
    "plt.show()"
   ]
  },
  {
   "cell_type": "code",
   "execution_count": null,
   "metadata": {},
   "outputs": [],
   "source": [
    "# Looking at the bar graphs as visualized above in comparison with the Pink and Yellow cab,we find that the Yellow cab has a \n",
    "# higher number of customers than that of the Pink cab.\n",
    "# The range in a number of cab users for the Yellow cab is higher than that of the Pink cab.\n",
    "#The Yellow cab ranges from 17108 to 30135 cab users and the Pink cab ranges from 4734 to 9729 cab users."
   ]
  },
  {
   "cell_type": "code",
   "execution_count": 991,
   "metadata": {},
   "outputs": [
    {
     "data": {
      "text/plain": [
       "Year  Company   \n",
       "2016  Pink Cab      25080\n",
       "      Yellow Cab    82239\n",
       "2017  Pink Cab      30321\n",
       "      Yellow Cab    98189\n",
       "2018  Pink Cab      29310\n",
       "      Yellow Cab    94253\n",
       "Name: Customer_ID, dtype: int64"
      ]
     },
     "execution_count": 991,
     "metadata": {},
     "output_type": "execute_result"
    }
   ],
   "source": [
    "yearly_customers = master_data.groupby(['Year','Company']).Customer_ID.count()\n",
    "yearly_customers"
   ]
  },
  {
   "cell_type": "code",
   "execution_count": 992,
   "metadata": {},
   "outputs": [
    {
     "data": {
      "image/png": "[encoded data removed]",
      "text/plain": [
       "<Figure size 1008x432 with 1 Axes>"
      ]
     },
     "metadata": {
      "needs_background": "light"
     },
     "output_type": "display_data"
    }
   ],
   "source": [
    "plot1 = master_data[master_data.Company=='Pink Cab'].groupby('Year').Customer_ID.count()\n",
    "plot2 = master_data[master_data.Company=='Yellow Cab'].groupby('Year').Customer_ID.count()\n",
    "plt.figure(figsize=(14,6))\n",
    "ax = plt.subplot(111)\n",
    "ax.bar(plot1.index-0.2, plot1.values, width=0.4, color='pink', align='center',label='Pink Cab')\n",
    "ax.bar(plot1.index+0.2, plot2.values, width=0.4, color='yellow', align='center',label='Yellow Cab')\n",
    "plt.ylabel('No. of Customers')\n",
    "plt.xlabel('Year')\n",
    "plt.legend()\n",
    "plt.show()\n",
    "# Looking at the bar graph as visualized below,we see that there is a higher number of customers in a Yellow cab than that of\n",
    "# the Pink cab.\n",
    "# There is a very huge difference of a number of customers travelling on a yearly basis when making a comparison between the\n",
    "# Yellow and Pink cab"
   ]
  },
  {
   "cell_type": "code",
   "execution_count": 994,
   "metadata": {},
   "outputs": [],
   "source": [
    "# Determining the number of customers by identifying them by only  their unique Customer_ID does not provide useful stastistical\n",
    "# analysis.\n",
    "# It does not provide stastical analysis in terms of cab users as a population.\n",
    "# Not all cab users are included.\n",
    "#Need to determine number of cab users for the whole population in U.S.\n",
    "#We can reveal the number of cab users by visualizing using a Pie chart showing the percentages of cab users in each city.\n",
    "\n",
    "\n",
    "users_per_city=master_data.groupby('City').Users.count()"
   ]
  },
  {
   "cell_type": "code",
   "execution_count": 995,
   "metadata": {},
   "outputs": [
    {
     "data": {
      "text/plain": [
       "City\n",
       "ATLANTA GA         7557\n",
       "AUSTIN TX          4896\n",
       "BOSTON MA         29692\n",
       "CHICAGO IL        56625\n",
       "DALLAS TX          7017\n",
       "DENVER CO          3825\n",
       "LOS ANGELES CA    48033\n",
       "MIAMI FL           6454\n",
       "NASHVILLE TN       3010\n",
       "NEW YORK NY       99885\n",
       "ORANGE COUNTY      3982\n",
       "PHOENIX AZ         2064\n",
       "PITTSBURGH PA      1313\n",
       "SACRAMENTO CA      2367\n",
       "SAN DIEGO CA      20488\n",
       "SEATTLE WA         7997\n",
       "SILICON VALLEY     8519\n",
       "TUCSON AZ          1931\n",
       "WASHINGTON DC     43737\n",
       "Name: Users, dtype: int64"
      ]
     },
     "execution_count": 995,
     "metadata": {},
     "output_type": "execute_result"
    }
   ],
   "source": [
    "# Users per city.We use a group function on function on City and a count on users.\n",
    "# Looking below,the City New York has a higher number of cab users of 99885.\n",
    "\n",
    "users_per_city"
   ]
  },
  {
   "cell_type": "code",
   "execution_count": 996,
   "metadata": {},
   "outputs": [],
   "source": [
    "users_percity_in_pinkcab= pinkcab_data.groupby('City').Customer_ID.count()"
   ]
  },
  {
   "cell_type": "code",
   "execution_count": 997,
   "metadata": {},
   "outputs": [
    {
     "data": {
      "text/plain": [
       "City\n",
       "ATLANTA GA         1762\n",
       "AUSTIN TX          1868\n",
       "BOSTON MA          5186\n",
       "CHICAGO IL         9361\n",
       "DALLAS TX          1380\n",
       "DENVER CO          1394\n",
       "LOS ANGELES CA    19865\n",
       "MIAMI FL           2002\n",
       "NASHVILLE TN       1841\n",
       "NEW YORK NY       13967\n",
       "ORANGE COUNTY      1513\n",
       "PHOENIX AZ          864\n",
       "PITTSBURGH PA       682\n",
       "SACRAMENTO CA      1334\n",
       "SAN DIEGO CA      10672\n",
       "SEATTLE WA         2732\n",
       "SILICON VALLEY     3797\n",
       "TUCSON AZ           799\n",
       "WASHINGTON DC      3692\n",
       "Name: Customer_ID, dtype: int64"
      ]
     },
     "execution_count": 997,
     "metadata": {},
     "output_type": "execute_result"
    }
   ],
   "source": [
    "users_percity_in_pinkcab"
   ]
  },
  {
   "cell_type": "code",
   "execution_count": 998,
   "metadata": {},
   "outputs": [],
   "source": [
    "users_percity_in_yellowcab = yellowcab_data.groupby('City').Customer_ID.count()"
   ]
  },
  {
   "cell_type": "code",
   "execution_count": 999,
   "metadata": {},
   "outputs": [
    {
     "data": {
      "text/plain": [
       "City\n",
       "ATLANTA GA         5795\n",
       "AUSTIN TX          3028\n",
       "BOSTON MA         24506\n",
       "CHICAGO IL        47264\n",
       "DALLAS TX          5637\n",
       "DENVER CO          2431\n",
       "LOS ANGELES CA    28168\n",
       "MIAMI FL           4452\n",
       "NASHVILLE TN       1169\n",
       "NEW YORK NY       85918\n",
       "ORANGE COUNTY      2469\n",
       "PHOENIX AZ         1200\n",
       "PITTSBURGH PA       631\n",
       "SACRAMENTO CA      1033\n",
       "SAN DIEGO CA       9816\n",
       "SEATTLE WA         5265\n",
       "SILICON VALLEY     4722\n",
       "TUCSON AZ          1132\n",
       "WASHINGTON DC     40045\n",
       "Name: Customer_ID, dtype: int64"
      ]
     },
     "execution_count": 999,
     "metadata": {},
     "output_type": "execute_result"
    }
   ],
   "source": [
    "users_percity_in_yellowcab"
   ]
  },
  {
   "cell_type": "code",
   "execution_count": 1000,
   "metadata": {},
   "outputs": [
    {
     "data": {
      "image/png": "[encoded data removed]",
      "text/plain": [
       "<Figure size 1440x720 with 1 Axes>"
      ]
     },
     "metadata": {},
     "output_type": "display_data"
    }
   ],
   "source": [
    "lbs = users_per_city.index\n",
    "vls = users_per_city.values\n",
    "figp, axp = plt.subplots(figsize=(20,10))\n",
    "axp.pie(vls , labels=lbs, autopct='%1.1f%%',shadow=True, startangle=90,)\n",
    "axp.axis('equal')\n",
    "\n",
    "plt.title('Percentage of Users in Each City')\n",
    "plt.show()"
   ]
  },
  {
   "cell_type": "code",
   "execution_count": 1001,
   "metadata": {},
   "outputs": [],
   "source": [
    "# New York City has the highest Cab users with 27.8%."
   ]
  },
  {
   "cell_type": "code",
   "execution_count": 1002,
   "metadata": {},
   "outputs": [
    {
     "data": {
      "image/png": "[encoded data removed]",
      "text/plain": [
       "<Figure size 1440x720 with 1 Axes>"
      ]
     },
     "metadata": {},
     "output_type": "display_data"
    }
   ],
   "source": [
    "lbs = users_percity_in_pinkcab.index\n",
    "vls = users_percity_in_pinkcab.values\n",
    "figp, axp = plt.subplots(figsize=(20,10))\n",
    "axp.pie(vls , labels=lbs, autopct='%1.1f%%',shadow=True, startangle=90,)\n",
    "axp.axis('equal')\n",
    "\n",
    "plt.title('Percentage of Users in Each City in a Pink Cab')\n",
    "plt.show()"
   ]
  },
  {
   "cell_type": "code",
   "execution_count": 1003,
   "metadata": {},
   "outputs": [
    {
     "data": {
      "image/png": "[encoded data removed]",
      "text/plain": [
       "<Figure size 1440x720 with 1 Axes>"
      ]
     },
     "metadata": {},
     "output_type": "display_data"
    }
   ],
   "source": [
    "lbs = users_percity_in_yellowcab.index\n",
    "vls = users_percity_in_yellowcab.values\n",
    "figp, axp = plt.subplots(figsize=(20,10))\n",
    "axp.pie(vls , labels=lbs, autopct='%1.1f%%',shadow=True, startangle=90,)\n",
    "axp.axis('equal')\n",
    "\n",
    "plt.title('Percentage of Users in Each City in a Yellow Cab')\n",
    "plt.show()"
   ]
  },
  {
   "cell_type": "code",
   "execution_count": 1004,
   "metadata": {},
   "outputs": [],
   "source": [
    "# Yellow Cab is highest in New York City which has the highest Cab Users of 28%\n",
    "# Pink Cab has a  highest number of cab users in Los Angeles City"
   ]
  },
  {
   "cell_type": "code",
   "execution_count": 1005,
   "metadata": {},
   "outputs": [
    {
     "data": {
      "text/plain": [
       "84711"
      ]
     },
     "execution_count": 1005,
     "metadata": {},
     "output_type": "execute_result"
    }
   ],
   "source": [
    "# Comparing Between the Pink and Yellow cab total number of users as a whole.\n",
    "total_number_of_pink_cab_users=users_percity_in_pinkcab.sum()\n",
    "total_number_of_pink_cab_users"
   ]
  },
  {
   "cell_type": "code",
   "execution_count": 1006,
   "metadata": {},
   "outputs": [],
   "source": [
    "total_number_of_yellow_cab_users=users_percity_in_yellowcab.sum()"
   ]
  },
  {
   "cell_type": "code",
   "execution_count": 1007,
   "metadata": {},
   "outputs": [
    {
     "data": {
      "text/plain": [
       "274681"
      ]
     },
     "execution_count": 1007,
     "metadata": {},
     "output_type": "execute_result"
    }
   ],
   "source": [
    "total_number_of_yellow_cab_users"
   ]
  },
  {
   "cell_type": "code",
   "execution_count": 1008,
   "metadata": {},
   "outputs": [],
   "source": [
    "# In comparion between the Yellow and Pink cab users,there is a higher cab users in a Yellow cab."
   ]
  },
  {
   "cell_type": "code",
   "execution_count": 1009,
   "metadata": {},
   "outputs": [],
   "source": [
    "# Sometimes we need to understand the characteristics of cab users e.g defining the characteristics users in terms of age,gender\n",
    "# city.\n",
    "# Some of these users may possess similiar of different characteristics and therefore to determine their travelling patterns.\n",
    "# The percentage of users in a city has been understood through a visualized pie chart.\n",
    "# We found that the highest percentage of users are occuring in the New York City.\n",
    "# The highest percentage cab users travelling in a Pink cab are occuring in LOS Angeles CA and travelling in a Yellow cab are\n",
    "# occuring New York City.\n",
    "\n",
    "# Now we need to understand their characteristics in terms of age and gender"
   ]
  },
  {
   "cell_type": "code",
   "execution_count": 1010,
   "metadata": {},
   "outputs": [],
   "source": [
    "gender_filter=master_data.groupby(['Company','Gender']).Customer_ID.nunique()"
   ]
  },
  {
   "cell_type": "code",
   "execution_count": 1011,
   "metadata": {},
   "outputs": [
    {
     "data": {
      "image/png": "[encoded data removed]",
      "text/plain": [
       "<Figure size 1440x720 with 1 Axes>"
      ]
     },
     "metadata": {},
     "output_type": "display_data"
    }
   ],
   "source": [
    "lbs = gender_filter.index\n",
    "vls = gender_filter.values\n",
    "figp, axp = plt.subplots(figsize=(20,10))\n",
    "axp.pie(vls , labels=lbs, autopct='%1.1f%%',shadow=True, startangle=90,)\n",
    "axp.axis('equal')\n",
    "\n",
    "plt.title('Percentage of Customers by Gender')\n",
    "plt.show()"
   ]
  },
  {
   "cell_type": "code",
   "execution_count": 1012,
   "metadata": {},
   "outputs": [],
   "source": [
    "# Gender is also one of the customer characteristics in determining the customer behaviour.\n",
    "# We need to make a decision on on gender group will prefer travelling the most.\n",
    "# We also need to make some insights on what gender group will lead to boosting performance in the businees.\n",
    "\n",
    "# As shown on the pie chart,Males prefer travelling the most than the Females.\n",
    "# \n",
    "\n",
    "# In the Pink cab company there is a higher percentage of male customers \n",
    "# In the Yellow cab company there is also a higher percentage of males of customers.\n",
    "\n",
    "# This means having a lot male customers will lead to good business growth.\n"
   ]
  },
  {
   "cell_type": "code",
   "execution_count": 1013,
   "metadata": {},
   "outputs": [
    {
     "data": {
      "text/plain": [
       "count    359392.000000\n",
       "mean      15048.822937\n",
       "std        7969.409482\n",
       "min        2000.000000\n",
       "25%        8424.000000\n",
       "50%       14685.000000\n",
       "75%       21035.000000\n",
       "max       35000.000000\n",
       "Name: Income, dtype: float64"
      ]
     },
     "execution_count": 1013,
     "metadata": {},
     "output_type": "execute_result"
    }
   ],
   "source": [
    "# The Income  is also one of characteristics that must be taken into considered.\n",
    "# Looking at the Income summarization using the describe function below will assist us to group the Income class of users\n",
    "#(Low Class or High Class).\n",
    "# The minimum Income that a user earns is 2000 US Dollars per month and the maximum is 35000 US Dollars per month.\n",
    "\n",
    "\n",
    "master_data['Income'].describe()"
   ]
  },
  {
   "cell_type": "code",
   "execution_count": 1014,
   "metadata": {},
   "outputs": [],
   "source": [
    "# A new variable called Class is created.\n",
    "# Here I will classify users as a Low Class if they earn less than 10000 US Dollars per month or either\n",
    "# as a High class if they earn more.\n",
    "low_income=master_data['Income'] <10000"
   ]
  },
  {
   "cell_type": "code",
   "execution_count": 1015,
   "metadata": {},
   "outputs": [],
   "source": [
    "master_data['Class']='HighClass'\n",
    "\n",
    "master_data.loc[low_income, 'Class'] = 'LowClass'"
   ]
  },
  {
   "cell_type": "code",
   "execution_count": 1016,
   "metadata": {},
   "outputs": [
    {
     "data": {
      "text/html": [
       "<div>\n",
       "<style scoped>\n",
       "    .dataframe tbody tr th:only-of-type {\n",
       "        vertical-align: middle;\n",
       "    }\n",
       "\n",
       "    .dataframe tbody tr th {\n",
       "        vertical-align: top;\n",
       "    }\n",
       "\n",
       "    .dataframe thead th {\n",
       "        text-align: right;\n",
       "    }\n",
       "</style>\n",
       "<table border=\"1\" class=\"dataframe\">\n",
       "  <thead>\n",
       "    <tr style=\"text-align: right;\">\n",
       "      <th></th>\n",
       "      <th>Transaction_ID</th>\n",
       "      <th>Date_of_travel</th>\n",
       "      <th>Company</th>\n",
       "      <th>City</th>\n",
       "      <th>KM_Travelled</th>\n",
       "      <th>Price_Charged</th>\n",
       "      <th>Cost_of_trip</th>\n",
       "      <th>Customer_ID</th>\n",
       "      <th>Payment_Mode</th>\n",
       "      <th>Gender</th>\n",
       "      <th>Age</th>\n",
       "      <th>Income</th>\n",
       "      <th>Population</th>\n",
       "      <th>Users</th>\n",
       "      <th>Month</th>\n",
       "      <th>Year</th>\n",
       "      <th>Margin</th>\n",
       "      <th>Class</th>\n",
       "    </tr>\n",
       "  </thead>\n",
       "  <tbody>\n",
       "    <tr>\n",
       "      <td>0</td>\n",
       "      <td>10000011</td>\n",
       "      <td>2016-08-01</td>\n",
       "      <td>Pink Cab</td>\n",
       "      <td>ATLANTA GA</td>\n",
       "      <td>30.45</td>\n",
       "      <td>370.95</td>\n",
       "      <td>313.6350</td>\n",
       "      <td>29290</td>\n",
       "      <td>Card</td>\n",
       "      <td>Male</td>\n",
       "      <td>28</td>\n",
       "      <td>10813</td>\n",
       "      <td>814,885</td>\n",
       "      <td>24,701</td>\n",
       "      <td>8</td>\n",
       "      <td>2016</td>\n",
       "      <td>57.3150</td>\n",
       "      <td>HighClass</td>\n",
       "    </tr>\n",
       "    <tr>\n",
       "      <td>1</td>\n",
       "      <td>10351127</td>\n",
       "      <td>2018-07-21</td>\n",
       "      <td>Yellow Cab</td>\n",
       "      <td>ATLANTA GA</td>\n",
       "      <td>26.19</td>\n",
       "      <td>598.70</td>\n",
       "      <td>317.4228</td>\n",
       "      <td>29290</td>\n",
       "      <td>Cash</td>\n",
       "      <td>Male</td>\n",
       "      <td>28</td>\n",
       "      <td>10813</td>\n",
       "      <td>814,885</td>\n",
       "      <td>24,701</td>\n",
       "      <td>7</td>\n",
       "      <td>2018</td>\n",
       "      <td>281.2772</td>\n",
       "      <td>HighClass</td>\n",
       "    </tr>\n",
       "    <tr>\n",
       "      <td>2</td>\n",
       "      <td>10412921</td>\n",
       "      <td>2018-11-23</td>\n",
       "      <td>Yellow Cab</td>\n",
       "      <td>ATLANTA GA</td>\n",
       "      <td>42.55</td>\n",
       "      <td>792.05</td>\n",
       "      <td>597.4020</td>\n",
       "      <td>29290</td>\n",
       "      <td>Card</td>\n",
       "      <td>Male</td>\n",
       "      <td>28</td>\n",
       "      <td>10813</td>\n",
       "      <td>814,885</td>\n",
       "      <td>24,701</td>\n",
       "      <td>11</td>\n",
       "      <td>2018</td>\n",
       "      <td>194.6480</td>\n",
       "      <td>HighClass</td>\n",
       "    </tr>\n",
       "    <tr>\n",
       "      <td>3</td>\n",
       "      <td>10000012</td>\n",
       "      <td>2016-06-01</td>\n",
       "      <td>Pink Cab</td>\n",
       "      <td>ATLANTA GA</td>\n",
       "      <td>28.62</td>\n",
       "      <td>358.52</td>\n",
       "      <td>334.8540</td>\n",
       "      <td>27703</td>\n",
       "      <td>Card</td>\n",
       "      <td>Male</td>\n",
       "      <td>27</td>\n",
       "      <td>9237</td>\n",
       "      <td>814,885</td>\n",
       "      <td>24,701</td>\n",
       "      <td>6</td>\n",
       "      <td>2016</td>\n",
       "      <td>23.6660</td>\n",
       "      <td>LowClass</td>\n",
       "    </tr>\n",
       "    <tr>\n",
       "      <td>4</td>\n",
       "      <td>10320494</td>\n",
       "      <td>2018-04-21</td>\n",
       "      <td>Yellow Cab</td>\n",
       "      <td>ATLANTA GA</td>\n",
       "      <td>36.38</td>\n",
       "      <td>721.10</td>\n",
       "      <td>467.1192</td>\n",
       "      <td>27703</td>\n",
       "      <td>Card</td>\n",
       "      <td>Male</td>\n",
       "      <td>27</td>\n",
       "      <td>9237</td>\n",
       "      <td>814,885</td>\n",
       "      <td>24,701</td>\n",
       "      <td>4</td>\n",
       "      <td>2018</td>\n",
       "      <td>253.9808</td>\n",
       "      <td>LowClass</td>\n",
       "    </tr>\n",
       "    <tr>\n",
       "      <td>...</td>\n",
       "      <td>...</td>\n",
       "      <td>...</td>\n",
       "      <td>...</td>\n",
       "      <td>...</td>\n",
       "      <td>...</td>\n",
       "      <td>...</td>\n",
       "      <td>...</td>\n",
       "      <td>...</td>\n",
       "      <td>...</td>\n",
       "      <td>...</td>\n",
       "      <td>...</td>\n",
       "      <td>...</td>\n",
       "      <td>...</td>\n",
       "      <td>...</td>\n",
       "      <td>...</td>\n",
       "      <td>...</td>\n",
       "      <td>...</td>\n",
       "      <td>...</td>\n",
       "    </tr>\n",
       "    <tr>\n",
       "      <td>359387</td>\n",
       "      <td>10307228</td>\n",
       "      <td>2018-03-03</td>\n",
       "      <td>Yellow Cab</td>\n",
       "      <td>WASHINGTON DC</td>\n",
       "      <td>38.40</td>\n",
       "      <td>668.93</td>\n",
       "      <td>525.3120</td>\n",
       "      <td>51406</td>\n",
       "      <td>Cash</td>\n",
       "      <td>Female</td>\n",
       "      <td>29</td>\n",
       "      <td>6829</td>\n",
       "      <td>418,859</td>\n",
       "      <td>127,001</td>\n",
       "      <td>3</td>\n",
       "      <td>2018</td>\n",
       "      <td>143.6180</td>\n",
       "      <td>LowClass</td>\n",
       "    </tr>\n",
       "    <tr>\n",
       "      <td>359388</td>\n",
       "      <td>10319775</td>\n",
       "      <td>2018-04-13</td>\n",
       "      <td>Yellow Cab</td>\n",
       "      <td>WASHINGTON DC</td>\n",
       "      <td>3.57</td>\n",
       "      <td>67.60</td>\n",
       "      <td>44.5536</td>\n",
       "      <td>51406</td>\n",
       "      <td>Cash</td>\n",
       "      <td>Female</td>\n",
       "      <td>29</td>\n",
       "      <td>6829</td>\n",
       "      <td>418,859</td>\n",
       "      <td>127,001</td>\n",
       "      <td>4</td>\n",
       "      <td>2018</td>\n",
       "      <td>23.0464</td>\n",
       "      <td>LowClass</td>\n",
       "    </tr>\n",
       "    <tr>\n",
       "      <td>359389</td>\n",
       "      <td>10347676</td>\n",
       "      <td>2018-06-07</td>\n",
       "      <td>Yellow Cab</td>\n",
       "      <td>WASHINGTON DC</td>\n",
       "      <td>23.46</td>\n",
       "      <td>331.97</td>\n",
       "      <td>337.8240</td>\n",
       "      <td>51406</td>\n",
       "      <td>Card</td>\n",
       "      <td>Female</td>\n",
       "      <td>29</td>\n",
       "      <td>6829</td>\n",
       "      <td>418,859</td>\n",
       "      <td>127,001</td>\n",
       "      <td>6</td>\n",
       "      <td>2018</td>\n",
       "      <td>-5.8540</td>\n",
       "      <td>LowClass</td>\n",
       "    </tr>\n",
       "    <tr>\n",
       "      <td>359390</td>\n",
       "      <td>10358624</td>\n",
       "      <td>2018-02-08</td>\n",
       "      <td>Yellow Cab</td>\n",
       "      <td>WASHINGTON DC</td>\n",
       "      <td>27.60</td>\n",
       "      <td>358.23</td>\n",
       "      <td>364.3200</td>\n",
       "      <td>51406</td>\n",
       "      <td>Cash</td>\n",
       "      <td>Female</td>\n",
       "      <td>29</td>\n",
       "      <td>6829</td>\n",
       "      <td>418,859</td>\n",
       "      <td>127,001</td>\n",
       "      <td>2</td>\n",
       "      <td>2018</td>\n",
       "      <td>-6.0900</td>\n",
       "      <td>LowClass</td>\n",
       "    </tr>\n",
       "    <tr>\n",
       "      <td>359391</td>\n",
       "      <td>10370709</td>\n",
       "      <td>2018-08-30</td>\n",
       "      <td>Yellow Cab</td>\n",
       "      <td>WASHINGTON DC</td>\n",
       "      <td>34.24</td>\n",
       "      <td>453.11</td>\n",
       "      <td>427.3152</td>\n",
       "      <td>51406</td>\n",
       "      <td>Card</td>\n",
       "      <td>Female</td>\n",
       "      <td>29</td>\n",
       "      <td>6829</td>\n",
       "      <td>418,859</td>\n",
       "      <td>127,001</td>\n",
       "      <td>8</td>\n",
       "      <td>2018</td>\n",
       "      <td>25.7948</td>\n",
       "      <td>LowClass</td>\n",
       "    </tr>\n",
       "  </tbody>\n",
       "</table>\n",
       "<p>359392 rows × 18 columns</p>\n",
       "</div>"
      ],
      "text/plain": [
       "        Transaction_ID Date_of_travel     Company           City  \\\n",
       "0             10000011     2016-08-01    Pink Cab     ATLANTA GA   \n",
       "1             10351127     2018-07-21  Yellow Cab     ATLANTA GA   \n",
       "2             10412921     2018-11-23  Yellow Cab     ATLANTA GA   \n",
       "3             10000012     2016-06-01    Pink Cab     ATLANTA GA   \n",
       "4             10320494     2018-04-21  Yellow Cab     ATLANTA GA   \n",
       "...                ...            ...         ...            ...   \n",
       "359387        10307228     2018-03-03  Yellow Cab  WASHINGTON DC   \n",
       "359388        10319775     2018-04-13  Yellow Cab  WASHINGTON DC   \n",
       "359389        10347676     2018-06-07  Yellow Cab  WASHINGTON DC   \n",
       "359390        10358624     2018-02-08  Yellow Cab  WASHINGTON DC   \n",
       "359391        10370709     2018-08-30  Yellow Cab  WASHINGTON DC   \n",
       "\n",
       "        KM_Travelled  Price_Charged  Cost_of_trip  Customer_ID Payment_Mode  \\\n",
       "0              30.45         370.95      313.6350        29290         Card   \n",
       "1              26.19         598.70      317.4228        29290         Cash   \n",
       "2              42.55         792.05      597.4020        29290         Card   \n",
       "3              28.62         358.52      334.8540        27703         Card   \n",
       "4              36.38         721.10      467.1192        27703         Card   \n",
       "...              ...            ...           ...          ...          ...   \n",
       "359387         38.40         668.93      525.3120        51406         Cash   \n",
       "359388          3.57          67.60       44.5536        51406         Cash   \n",
       "359389         23.46         331.97      337.8240        51406         Card   \n",
       "359390         27.60         358.23      364.3200        51406         Cash   \n",
       "359391         34.24         453.11      427.3152        51406         Card   \n",
       "\n",
       "        Gender  Age  Income Population      Users  Month  Year    Margin  \\\n",
       "0         Male   28   10813   814,885     24,701       8  2016   57.3150   \n",
       "1         Male   28   10813   814,885     24,701       7  2018  281.2772   \n",
       "2         Male   28   10813   814,885     24,701      11  2018  194.6480   \n",
       "3         Male   27    9237   814,885     24,701       6  2016   23.6660   \n",
       "4         Male   27    9237   814,885     24,701       4  2018  253.9808   \n",
       "...        ...  ...     ...        ...        ...    ...   ...       ...   \n",
       "359387  Female   29    6829   418,859    127,001       3  2018  143.6180   \n",
       "359388  Female   29    6829   418,859    127,001       4  2018   23.0464   \n",
       "359389  Female   29    6829   418,859    127,001       6  2018   -5.8540   \n",
       "359390  Female   29    6829   418,859    127,001       2  2018   -6.0900   \n",
       "359391  Female   29    6829   418,859    127,001       8  2018   25.7948   \n",
       "\n",
       "            Class  \n",
       "0       HighClass  \n",
       "1       HighClass  \n",
       "2       HighClass  \n",
       "3        LowClass  \n",
       "4        LowClass  \n",
       "...           ...  \n",
       "359387   LowClass  \n",
       "359388   LowClass  \n",
       "359389   LowClass  \n",
       "359390   LowClass  \n",
       "359391   LowClass  \n",
       "\n",
       "[359392 rows x 18 columns]"
      ]
     },
     "execution_count": 1016,
     "metadata": {},
     "output_type": "execute_result"
    }
   ],
   "source": [
    "# The master data now has 18 columns altogether because of a new variable called Class.\n",
    "master_data"
   ]
  },
  {
   "cell_type": "code",
   "execution_count": 1017,
   "metadata": {},
   "outputs": [],
   "source": [
    "income_group_filter=master_data.groupby(['Class','Company']).Customer_ID.count()"
   ]
  },
  {
   "cell_type": "code",
   "execution_count": 1018,
   "metadata": {},
   "outputs": [
    {
     "data": {
      "text/plain": [
       "Class      Company   \n",
       "HighClass  Pink Cab       58020\n",
       "           Yellow Cab    188698\n",
       "LowClass   Pink Cab       26691\n",
       "           Yellow Cab     85983\n",
       "Name: Customer_ID, dtype: int64"
      ]
     },
     "execution_count": 1018,
     "metadata": {},
     "output_type": "execute_result"
    }
   ],
   "source": [
    "income_group_filter"
   ]
  },
  {
   "cell_type": "code",
   "execution_count": 1019,
   "metadata": {},
   "outputs": [
    {
     "data": {
      "image/png": "[encoded data removed]",
      "text/plain": [
       "<Figure size 1440x720 with 1 Axes>"
      ]
     },
     "metadata": {},
     "output_type": "display_data"
    }
   ],
   "source": [
    "lbs = income_group_filter.index\n",
    "vls = income_group_filter.values\n",
    "figp, axp = plt.subplots(figsize=(20,10))\n",
    "axp.pie(vls , labels=lbs, autopct='%1.1f%%',shadow=True, startangle=90,)\n",
    "axp.axis('equal')\n",
    "\n",
    "plt.title('Percentage of cab Users in each Income class ')\n",
    "plt.show()"
   ]
  },
  {
   "cell_type": "code",
   "execution_count": 1020,
   "metadata": {},
   "outputs": [],
   "source": [
    "# Looking at the graph we can see that a majority of High Class Income cab users prefer travelling on a Yellow cab."
   ]
  },
  {
   "cell_type": "code",
   "execution_count": 1021,
   "metadata": {},
   "outputs": [
    {
     "data": {
      "text/plain": [
       "Age\n",
       "34    1548\n",
       "20    1535\n",
       "39    1524\n",
       "23    1515\n",
       "25    1504\n",
       "28    1500\n",
       "22    1499\n",
       "32    1492\n",
       "27    1489\n",
       "26    1485\n",
       "21    1476\n",
       "37    1475\n",
       "19    1475\n",
       "30    1457\n",
       "40    1456\n",
       "18    1450\n",
       "24    1442\n",
       "31    1441\n",
       "36    1433\n",
       "38    1417\n",
       "29    1408\n",
       "33    1407\n",
       "35    1404\n",
       "61     550\n",
       "45     524\n",
       "59     517\n",
       "50     509\n",
       "46     508\n",
       "64     505\n",
       "47     503\n",
       "48     502\n",
       "49     502\n",
       "58     502\n",
       "43     498\n",
       "52     497\n",
       "51     496\n",
       "42     493\n",
       "41     491\n",
       "56     490\n",
       "63     481\n",
       "53     479\n",
       "54     479\n",
       "60     473\n",
       "55     468\n",
       "65     467\n",
       "57     462\n",
       "62     462\n",
       "44     458\n",
       "Name: Customer_ID, dtype: int64"
      ]
     },
     "execution_count": 1021,
     "metadata": {},
     "output_type": "execute_result"
    }
   ],
   "source": [
    "# Age is also one of the characteristics that must be considered.Do young adults,the eldery like travelling a lot?\n",
    "# Investigating this provides a useful research on what age group does travelling appeals to.\n",
    "\n",
    "# # I will create a function called age_filter and then I will sort the values in a descending order,the highest number of cab\n",
    "# users first.\n",
    "\n",
    "# As we can see there is a highest number of cab users who are in the age of 34.\n",
    "age_filter = master_data.groupby('Age').Customer_ID.nunique()\n",
    "age_filter.sort_values(ascending=False)"
   ]
  },
  {
   "cell_type": "code",
   "execution_count": 1022,
   "metadata": {},
   "outputs": [
    {
     "data": {
      "image/png": "[encoded data removed]",
      "text/plain": [
       "<Figure size 1440x720 with 1 Axes>"
      ]
     },
     "metadata": {
      "needs_background": "light"
     },
     "output_type": "display_data"
    }
   ],
   "source": [
    "# We plot using a barplot to plot the total number of cab users in each age range.\n",
    "plt.figure(figsize=(20,10))\n",
    "sns.barplot(x=age_filter.index,y=age_filter.values)\n",
    "plt.title('Total number of cab users in each age range')\n",
    "plt.show()"
   ]
  },
  {
   "cell_type": "code",
   "execution_count": 1023,
   "metadata": {},
   "outputs": [],
   "source": [
    "pinkcompany_agefilter=pinkcab_data.groupby('Age').Customer_ID.nunique()"
   ]
  },
  {
   "cell_type": "code",
   "execution_count": 1024,
   "metadata": {},
   "outputs": [
    {
     "data": {
      "image/png": "[encoded data removed]",
      "text/plain": [
       "<Figure size 1440x720 with 1 Axes>"
      ]
     },
     "metadata": {
      "needs_background": "light"
     },
     "output_type": "display_data"
    }
   ],
   "source": [
    "# We plot the the age of cab users travelling in a Pink cab.\n",
    "plt.figure(figsize=(20,10))\n",
    "sns.barplot(x=pinkcompany_agefilter.index,y=pinkcompany_agefilter.values)\n",
    "plt.title('The age of the cab users travelling in a Pink cab')\n",
    "plt.show()"
   ]
  },
  {
   "cell_type": "code",
   "execution_count": 1025,
   "metadata": {},
   "outputs": [],
   "source": [
    "yellowcompany_agefilter=yellowcab_data.groupby('Age').Customer_ID.nunique()"
   ]
  },
  {
   "cell_type": "code",
   "execution_count": 1026,
   "metadata": {},
   "outputs": [
    {
     "data": {
      "image/png": "[encoded data removed]",
      "text/plain": [
       "<Figure size 1440x720 with 1 Axes>"
      ]
     },
     "metadata": {
      "needs_background": "light"
     },
     "output_type": "display_data"
    }
   ],
   "source": [
    "# We plot the the age of cab users travelling in a Yellow cab.\n",
    "plt.figure(figsize=(20,10))\n",
    "sns.barplot(x=yellowcompany_agefilter.index,y=yellowcompany_agefilter.values)\n",
    "plt.title('The age of the cab users travelling in a Yellow cab')\n",
    "plt.show()"
   ]
  },
  {
   "cell_type": "code",
   "execution_count": 1027,
   "metadata": {},
   "outputs": [],
   "source": [
    "# # As shown on the diagram above we see that as we reach the customers of more than 40 years of age,there is a decrease for a\n",
    "# number of cab users.\n",
    "# Therefore we need a function to set the age in a  range .\n",
    "# Therefore we set the age limit in the range defined as follows:Age<=40 or Age>40.\n",
    "\n",
    "\n",
    "age_filter2 = master_data.groupby('Age').Customer_ID.count()"
   ]
  },
  {
   "cell_type": "code",
   "execution_count": 1028,
   "metadata": {},
   "outputs": [
    {
     "data": {
      "image/png": "[encoded data removed]",
      "text/plain": [
       "<Figure size 432x288 with 1 Axes>"
      ]
     },
     "metadata": {},
     "output_type": "display_data"
    }
   ],
   "source": [
    "# By ploting or visualizing using a Pie chart,we find that mostly customers of age less than equal to 40 years are the ones who\n",
    "# like travelling a lot.\n",
    "labels = 'Age <= 40','Age > 40'\n",
    "pct = [age_filter[age_filter2.index<=40].values.sum(),age_filter[age_filter2.index>40].values.sum()]\n",
    "explode = (0.15,0)\n",
    "fig1, ax1 = plt.subplots()\n",
    "ax1.pie(pct , explode=explode, labels=labels, autopct='%1.1f%%',\n",
    "        shadow=True, startangle=90)\n",
    "ax1.axis('equal')\n",
    "\n",
    "plt.title('Customers share by AGE')\n",
    "plt.show()"
   ]
  },
  {
   "cell_type": "code",
   "execution_count": 1029,
   "metadata": {},
   "outputs": [
    {
     "data": {
      "text/plain": [
       "Year  Company   \n",
       "2016  Pink Cab      1.713511e+06\n",
       "      Yellow Cab    1.392700e+07\n",
       "2017  Pink Cab      2.033655e+06\n",
       "      Yellow Cab    1.657598e+07\n",
       "2018  Pink Cab      1.560162e+06\n",
       "      Yellow Cab    1.351740e+07\n",
       "Name: Margin, dtype: float64"
      ]
     },
     "execution_count": 1029,
     "metadata": {},
     "output_type": "execute_result"
    }
   ],
   "source": [
    "# The Margin/profit generated in the business matters the most\n",
    "# It is the perfect indicator to measure on how well the business is performing\n",
    "# The Yellow cab generated very high margin/profits on a yearly basis.\n",
    "\n",
    "yearly_profits=master_data.groupby(['Year','Company']).Margin.sum()\n",
    "yearly_profits"
   ]
  },
  {
   "cell_type": "code",
   "execution_count": 1030,
   "metadata": {},
   "outputs": [
    {
     "data": {
      "image/png": "[encoded data removed]",
      "text/plain": [
       "<Figure size 1008x432 with 1 Axes>"
      ]
     },
     "metadata": {
      "needs_background": "light"
     },
     "output_type": "display_data"
    }
   ],
   "source": [
    "plot1 = master_data[master_data.Company=='Pink Cab'].groupby('Year').Margin.sum()\n",
    "plot2 = master_data[master_data.Company=='Yellow Cab'].groupby('Year').Margin.sum()\n",
    "plt.figure(figsize=(14,6))\n",
    "ax = plt.subplot(111)\n",
    "ax.bar(plot1.index-0.2, plot1.values, width=0.4, color='pink', align='center',label='Pink Cab')\n",
    "ax.bar(plot1.index+0.2, plot2.values, width=0.4, color='yellow', align='center',label='Yellow Cab')\n",
    "plt.ylabel('Profts on a Yearly basis')\n",
    "plt.xlabel('Year')\n",
    "plt.legend()\n",
    "plt.show()"
   ]
  },
  {
   "cell_type": "code",
   "execution_count": 1031,
   "metadata": {},
   "outputs": [],
   "source": [
    "# Does margin proportionally increase with increase in number of customers?\n",
    "\n",
    "# We need to check.\n",
    "\n",
    "\n",
    "# We first need to create datas data1 where Company=Pink cab,City =New YORK and then group by Year and Month and aggregate function\n",
    "# and an average for a Margin.\n",
    "# Then data2 where Company=Yellow cab,City =New YORK and then group by Year and Month and aggregate function\n",
    "# and an average for a Margin.\n",
    "\n",
    "data1 = master_data[(master_data.Company=='Pink Cab')&(master_data.City=='NEW YORK NY')].groupby(['Year','Month']).Margin.mean()\n",
    "data2 = master_data[(master_data.Company=='Yellow Cab')&(master_data.City=='NEW YORK NY')].groupby(['Year','Month']).Margin.mean()"
   ]
  },
  {
   "cell_type": "code",
   "execution_count": 1032,
   "metadata": {},
   "outputs": [],
   "source": [
    "# Then we create the dataframes\n",
    "pinkcabdataframe=pd.DataFrame({'Pink_Margins':data1.values,'Customers':master_data[master_data.Company=='Pink Cab'].groupby(['Year','Month']).Customer_ID.count().values})\n",
    "yellowcabdataframe = pd.DataFrame({'Yellow_Margins':data2.values,'Customers':master_data[master_data.Company=='Yellow Cab'].groupby(['Year','Month']).Customer_ID.count().values})"
   ]
  },
  {
   "cell_type": "code",
   "execution_count": 1033,
   "metadata": {},
   "outputs": [
    {
     "data": {
      "text/plain": [
       "<matplotlib.axes._subplots.AxesSubplot at 0x270cd0764c8>"
      ]
     },
     "execution_count": 1033,
     "metadata": {},
     "output_type": "execute_result"
    },
    {
     "data": {
      "image/png": "[encoded data removed]",
      "text/plain": [
       "<Figure size 360x360 with 1 Axes>"
      ]
     },
     "metadata": {
      "needs_background": "light"
     },
     "output_type": "display_data"
    }
   ],
   "source": [
    "# Looking here below,we see that the Pink Cabs increase their margins with increase in number of Customers.\n",
    "plt.figure(figsize=(5,5))\n",
    "sns.scatterplot(x=pinkcabdataframe.Customers,y=pinkcabdataframe.Pink_Margins)"
   ]
  },
  {
   "cell_type": "code",
   "execution_count": 1034,
   "metadata": {},
   "outputs": [
    {
     "data": {
      "text/plain": [
       "<matplotlib.axes._subplots.AxesSubplot at 0x270d23e86c8>"
      ]
     },
     "execution_count": 1034,
     "metadata": {},
     "output_type": "execute_result"
    },
    {
     "data": {
      "image/png": "[encoded data removed]",
      "text/plain": [
       "<Figure size 360x360 with 1 Axes>"
      ]
     },
     "metadata": {
      "needs_background": "light"
     },
     "output_type": "display_data"
    }
   ],
   "source": [
    "# Looking here below,we see that the Yellow Cabs decrease their margins with increase in number of Customers.\n",
    "plt.figure(figsize=(5,5))\n",
    "sns.scatterplot(x=yellowcabdataframe.Customers,y=yellowcabdataframe.Yellow_Margins)"
   ]
  },
  {
   "cell_type": "code",
   "execution_count": 1035,
   "metadata": {},
   "outputs": [
    {
     "data": {
      "text/plain": [
       "<matplotlib.axes._subplots.AxesSubplot at 0x2708a05cf88>"
      ]
     },
     "execution_count": 1035,
     "metadata": {},
     "output_type": "execute_result"
    },
    {
     "data": {
      "image/png": "[encoded data removed]",
      "text/plain": [
       "<Figure size 432x288 with 1 Axes>"
      ]
     },
     "metadata": {
      "needs_background": "light"
     },
     "output_type": "display_data"
    }
   ],
   "source": [
    "# Outliers\n",
    "\n",
    "# We need to check for outliers in numerical values.\n",
    "\n",
    "\n",
    "sns.boxplot(x=master_data ['KM_Travelled'])\n",
    "# No outliers"
   ]
  },
  {
   "cell_type": "code",
   "execution_count": 1036,
   "metadata": {},
   "outputs": [
    {
     "data": {
      "text/plain": [
       "<matplotlib.axes._subplots.AxesSubplot at 0x27089b46688>"
      ]
     },
     "execution_count": 1036,
     "metadata": {},
     "output_type": "execute_result"
    },
    {
     "data": {
      "image/png": "[encoded data removed]",
      "text/plain": [
       "<Figure size 432x288 with 1 Axes>"
      ]
     },
     "metadata": {
      "needs_background": "light"
     },
     "output_type": "display_data"
    }
   ],
   "source": [
    "# An outlier is present.\n",
    "# The presence of outliers is due to high -end cars.\n",
    "sns.boxplot(x=master_data ['Price_Charged'])"
   ]
  },
  {
   "cell_type": "code",
   "execution_count": 1037,
   "metadata": {},
   "outputs": [
    {
     "data": {
      "text/plain": [
       "<matplotlib.axes._subplots.AxesSubplot at 0x270cf946308>"
      ]
     },
     "execution_count": 1037,
     "metadata": {},
     "output_type": "execute_result"
    },
    {
     "data": {
      "image/png": "[encoded data removed]",
      "text/plain": [
       "<Figure size 432x288 with 1 Axes>"
      ]
     },
     "metadata": {
      "needs_background": "light"
     },
     "output_type": "display_data"
    }
   ],
   "source": [
    "# No otlier\n",
    "sns.boxplot(x=master_data ['Cost_of_trip'])"
   ]
  },
  {
   "cell_type": "code",
   "execution_count": 1038,
   "metadata": {},
   "outputs": [
    {
     "data": {
      "text/plain": [
       "<matplotlib.axes._subplots.AxesSubplot at 0x270b8f8ab08>"
      ]
     },
     "execution_count": 1038,
     "metadata": {},
     "output_type": "execute_result"
    },
    {
     "data": {
      "image/png": "[encoded data removed]",
      "text/plain": [
       "<Figure size 432x288 with 1 Axes>"
      ]
     },
     "metadata": {
      "needs_background": "light"
     },
     "output_type": "display_data"
    }
   ],
   "source": [
    "# No otlier\n",
    "sns.boxplot(x=master_data ['Age'])"
   ]
  },
  {
   "cell_type": "code",
   "execution_count": 1039,
   "metadata": {},
   "outputs": [
    {
     "data": {
      "text/plain": [
       "<matplotlib.axes._subplots.AxesSubplot at 0x270a7db1848>"
      ]
     },
     "execution_count": 1039,
     "metadata": {},
     "output_type": "execute_result"
    },
    {
     "data": {
      "image/png": "[encoded data removed]",
      "text/plain": [
       "<Figure size 432x288 with 1 Axes>"
      ]
     },
     "metadata": {
      "needs_background": "light"
     },
     "output_type": "display_data"
    }
   ],
   "source": [
    "# No outlier\n",
    "sns.boxplot(x=master_data ['Income'])"
   ]
  },
  {
   "cell_type": "code",
   "execution_count": 1040,
   "metadata": {},
   "outputs": [
    {
     "data": {
      "text/plain": [
       "<matplotlib.axes._subplots.AxesSubplot at 0x270c841b308>"
      ]
     },
     "execution_count": 1040,
     "metadata": {},
     "output_type": "execute_result"
    },
    {
     "data": {
      "image/png": "[encoded data removed]",
      "text/plain": [
       "<Figure size 432x288 with 1 Axes>"
      ]
     },
     "metadata": {
      "needs_background": "light"
     },
     "output_type": "display_data"
    }
   ],
   "source": [
    "# An outlier is present in the Margin column.\n",
    "# This means there is a gap difference in Margin/Profit between the Pink and Yellow cab.\n",
    "sns.boxplot(x=master_data ['Margin'])"
   ]
  },
  {
   "cell_type": "code",
   "execution_count": 1041,
   "metadata": {},
   "outputs": [
    {
     "data": {
      "text/plain": [
       "Text(0.5, 1.0, 'Yellow Cab')"
      ]
     },
     "execution_count": 1041,
     "metadata": {},
     "output_type": "execute_result"
    },
    {
     "data": {
      "image/png": "[encoded data removed]",
      "text/plain": [
       "<Figure size 1440x504 with 2 Axes>"
      ]
     },
     "metadata": {
      "needs_background": "light"
     },
     "output_type": "display_data"
    }
   ],
   "source": [
    "fig, (ax1, ax2) = plt.subplots(ncols=2, figsize=(20,7))\n",
    "sns.boxplot(pinkcab_data['Price_Charged'], ax=ax1)\n",
    "ax1.set_title('Pink Cab', fontsize=20)\n",
    "sns.boxplot(yellowcab_data['Price_Charged'], ax=ax2)\n",
    "ax2.set_title('Yellow Cab', fontsize=20)"
   ]
  },
  {
   "cell_type": "code",
   "execution_count": 1042,
   "metadata": {},
   "outputs": [],
   "source": [
    "#The Price Charged range for Yellow cab is more than the Pink cab."
   ]
  },
  {
   "cell_type": "code",
   "execution_count": null,
   "metadata": {},
   "outputs": [],
   "source": []
  },
  {
   "cell_type": "code",
   "execution_count": 1043,
   "metadata": {},
   "outputs": [
    {
     "name": "stdout",
     "output_type": "stream",
     "text": [
      "18394 21502\n",
      "We accept alternate hypothesis that there is a statistical difference\n",
      "P value is  0.005345131177690902\n"
     ]
    }
   ],
   "source": [
    "# Hypothesis Testing\n",
    "\n",
    "# Is there a difference in margin/profit between male and female customers for Yellow cabs?\n",
    "\n",
    "\n",
    "# In the hypothesis we need to test the hypothesis for the Yellow cabs on whether is there a difference in\n",
    "# margin/profit between male and female customers.\n",
    "\n",
    "a = master_data[(master_data.Gender=='Female')&(master_data.Company=='Yellow Cab')].groupby('Customer_ID').Margin.mean()\n",
    "b = master_data[(master_data.Gender=='Male')&(master_data.Company=='Yellow Cab')].groupby('Customer_ID').Margin.mean()\n",
    "print(a.shape[0],b.shape[0])\n",
    "\n",
    "from scipy import stats\n",
    "_, p_value = stats.ttest_ind(a.values,b=b.values,equal_var=True)\n",
    "if(p_value<0.05):\n",
    "    print('We accept alternate hypothesis that there is a statistical difference')\n",
    "else:\n",
    "    print('We accept null hypothesis that there is no statistical difference')\n",
    "    \n",
    "print('P value is ', p_value)"
   ]
  },
  {
   "cell_type": "code",
   "execution_count": 1044,
   "metadata": {},
   "outputs": [],
   "source": [
    "# There is a difference in margin/profit for the Yellow cab between male and female customers,and therefore we accept the alternate hypothesis."
   ]
  },
  {
   "cell_type": "code",
   "execution_count": null,
   "metadata": {},
   "outputs": [],
   "source": []
  },
  {
   "cell_type": "code",
   "execution_count": 1045,
   "metadata": {},
   "outputs": [
    {
     "name": "stdout",
     "output_type": "stream",
     "text": [
      "14819 17511\n",
      "We accept null hypothesis that there is no statistical difference\n",
      "P value is  0.5889424154257326\n"
     ]
    }
   ],
   "source": [
    "# Is there a difference in margin/profit between male and female customers for Pink cabs?\n",
    "\n",
    "# We need to test the hypothesis for the Pink cabs on whether is there a difference in margin/profit between male\n",
    "# and female customers.\n",
    "\n",
    "a = master_data[(master_data.Gender=='Female')&(master_data.Company=='Pink Cab')].groupby('Customer_ID').Margin.mean()\n",
    "b = master_data[(master_data.Gender=='Male')&(master_data.Company=='Pink Cab')].groupby('Customer_ID').Margin.mean()\n",
    "print(a.shape[0],b.shape[0])\n",
    "\n",
    "from scipy import stats\n",
    "_, p_value = stats.ttest_ind(a.values,b=b.values,equal_var=True)\n",
    "if(p_value<0.05):\n",
    "    print('We accept alternate hypothesis that there is a statistical difference')\n",
    "else:\n",
    "    print('We accept null hypothesis that there is no statistical difference')\n",
    "    \n",
    "print('P value is ', p_value)"
   ]
  },
  {
   "cell_type": "code",
   "execution_count": 1046,
   "metadata": {},
   "outputs": [],
   "source": [
    "#  We accept the null hypothesis,and therefore there is no difference in margin/profit for Pink cabs between male and female customers."
   ]
  },
  {
   "cell_type": "code",
   "execution_count": null,
   "metadata": {},
   "outputs": [],
   "source": []
  },
  {
   "cell_type": "code",
   "execution_count": 1047,
   "metadata": {},
   "outputs": [
    {
     "name": "stdout",
     "output_type": "stream",
     "text": [
      "23721 8609\n",
      "We accept null hypothesis that theres no difference\n",
      "P value is  0.7840727156471817\n"
     ]
    }
   ],
   "source": [
    "# Is there a difference in margins/profit due to age of customers for Pink cabs?\n",
    "\n",
    "# We test the hypothesis in checking is there a difference in margin/profit due to age of customers.\n",
    "\n",
    "a = master_data[(master_data.Age<=40)&(master_data.Company=='Pink Cab')].groupby('Customer_ID').Margin.mean()\n",
    "b = master_data[(master_data.Age>40)&(master_data.Company=='Pink Cab')].groupby('Customer_ID').Margin.mean()\n",
    "print(a.shape[0],b.shape[0])\n",
    "\n",
    "from scipy import stats\n",
    "_, p_value = stats.ttest_ind(a.values,b=b.values,equal_var=True)\n",
    "if(p_value<0.05):\n",
    "    print('We accept alternate hypothesis that theres a difference')\n",
    "else:\n",
    "    print('We accept null hypothesis that theres no difference')\n",
    "    \n",
    "print('P value is ', p_value)"
   ]
  },
  {
   "cell_type": "code",
   "execution_count": 1048,
   "metadata": {},
   "outputs": [],
   "source": [
    "# There is no difference is no difference in margin/profit for Pink cabs due to the age of customers,and therefore we accept the null\n",
    "# hypothesis.\n",
    "# It doesn't make any difference whether the customer is less than equal to 40 or greater than 40."
   ]
  },
  {
   "cell_type": "code",
   "execution_count": null,
   "metadata": {},
   "outputs": [],
   "source": []
  },
  {
   "cell_type": "code",
   "execution_count": 1049,
   "metadata": {},
   "outputs": [
    {
     "name": "stdout",
     "output_type": "stream",
     "text": [
      "29254 6295\n",
      "We accept null hypothesis that theres no difference\n",
      "P value is  0.5813353417655228\n"
     ]
    }
   ],
   "source": [
    "# Is there a difference in profit/margin due to the age of customers for Yellow cabs?\n",
    "\n",
    "\n",
    "a = master_data[(master_data.Age<=40)&(master_data.Company=='Yellow Cab')].groupby('Customer_ID').Margin.mean()\n",
    "b = master_data[(master_data.Age>50)&(master_data.Company=='Yellow Cab')].groupby('Customer_ID').Margin.mean()\n",
    "print(a.shape[0],b.shape[0])\n",
    "\n",
    "from scipy import stats\n",
    "_, p_value = stats.ttest_ind(a.values,b=b.values,equal_var=True)\n",
    "if(p_value<0.05):\n",
    "    print('We accept alternate hypothesis that theres a difference')\n",
    "else:\n",
    "    print('We accept null hypothesis that theres no difference')\n",
    "    \n",
    "print('P value is ', p_value)"
   ]
  },
  {
   "cell_type": "code",
   "execution_count": 1050,
   "metadata": {},
   "outputs": [],
   "source": [
    "# There is no difference in profit/margin for Yellow cabs due to the age of customers,so we accept the null hypothesis."
   ]
  },
  {
   "cell_type": "code",
   "execution_count": null,
   "metadata": {},
   "outputs": [],
   "source": []
  },
  {
   "cell_type": "code",
   "execution_count": 1051,
   "metadata": {},
   "outputs": [
    {
     "name": "stdout",
     "output_type": "stream",
     "text": [
      "18394 21502\n",
      "We accept null hypothesis that theres no difference\n",
      "P value is  0.20078753614825767\n"
     ]
    }
   ],
   "source": [
    "#  Is there a difference between gender and KM Travelled for Yellow cabs?\n",
    "\n",
    "\n",
    "a = master_data[(master_data.Gender=='Female')&(master_data.Company=='Yellow Cab')].groupby('Customer_ID').KM_Travelled.mean()\n",
    "b = master_data[(master_data.Gender=='Male')&(master_data.Company=='Yellow Cab')].groupby('Customer_ID').KM_Travelled.mean()\n",
    "print(a.shape[0],b.shape[0])\n",
    "\n",
    "from scipy import stats\n",
    "_, p_value = stats.ttest_ind(a.values,b=b.values,equal_var=True)\n",
    "if(p_value<0.05):\n",
    "    print('We accept alternate hypothesis that theres a difference')\n",
    "else:\n",
    "    print('We accept null hypothesis that theres no difference')\n",
    "    \n",
    "print('P value is ', p_value)"
   ]
  },
  {
   "cell_type": "code",
   "execution_count": 1052,
   "metadata": {},
   "outputs": [],
   "source": [
    "# There is no difference between gender and KM Travelled for yellow cabs,so we accept the null hypothesis. "
   ]
  },
  {
   "cell_type": "code",
   "execution_count": null,
   "metadata": {},
   "outputs": [],
   "source": []
  },
  {
   "cell_type": "code",
   "execution_count": 1053,
   "metadata": {},
   "outputs": [
    {
     "name": "stdout",
     "output_type": "stream",
     "text": [
      "14819 17511\n",
      "We accept alternate hypothesis that theres a difference\n",
      "P value is  0.045565869972749515\n"
     ]
    }
   ],
   "source": [
    "#  Is there a difference between gender and KM Travelled for Pink cabs?\n",
    "\n",
    "\n",
    "a = master_data[(master_data.Gender=='Female')&(master_data.Company=='Pink Cab')].groupby('Customer_ID').KM_Travelled.mean()\n",
    "b = master_data[(master_data.Gender=='Male')&(master_data.Company=='Pink Cab')].groupby('Customer_ID').KM_Travelled.mean()\n",
    "print(a.shape[0],b.shape[0])\n",
    "\n",
    "from scipy import stats\n",
    "_, p_value = stats.ttest_ind(a.values,b=b.values,equal_var=True)\n",
    "if(p_value<0.05):\n",
    "    print('We accept alternate hypothesis that theres a difference')\n",
    "else:\n",
    "    print('We accept null hypothesis that theres no difference')\n",
    "    \n",
    "print('P value is ', p_value)"
   ]
  },
  {
   "cell_type": "code",
   "execution_count": 1054,
   "metadata": {},
   "outputs": [],
   "source": [
    "# There is a difference between gender and KM Travelled for Pink cabs."
   ]
  },
  {
   "cell_type": "code",
   "execution_count": null,
   "metadata": {},
   "outputs": [],
   "source": []
  },
  {
   "cell_type": "code",
   "execution_count": 1055,
   "metadata": {},
   "outputs": [],
   "source": [
    "#    Exploratory Data Analysis(EDA)Recommendation\n",
    "\n",
    "# To make a precise decision in  which company  would be a better investment opportunity,we need to clearly view the figures \n",
    "#as illustrated above.\n",
    "\n",
    "\n",
    "# Our first exploration was determining the number of cab users  periodically (monthly and yearly)and we've developed some clear\n",
    "# insights.\n",
    "# We've first explored the number of customers in pink and yellow cab travels in each month and our figures revealed as follows:\n",
    "\n",
    "\n",
    "# Number of customers in a Pink Cab                                              \n",
    " # Month                                                                        \n",
    "#1     4734                                                                      \n",
    "#2     4693                                                                       \n",
    "#3     5724\n",
    "#4     5118\n",
    "#5     6150\n",
    "#6     6371\n",
    "#7     7048\n",
    "#8     8011\n",
    "#9     8518\n",
    "#10    9936\n",
    "#11    8679\n",
    "#12    9729\n",
    "\n",
    "\n",
    "# Number of customers in a Yellow Cab\n",
    "\n",
    "\n",
    "# Month\n",
    "#1     17108\n",
    "#2     17338\n",
    "#3     20754\n",
    "#4     19077\n",
    "#5     21309\n",
    "#6     20568\n",
    "#7     23177\n",
    "#8     24027\n",
    "#9     25377\n",
    "#10    29273\n",
    "#11    26538\n",
    "#12    30135                                      \n",
    "\n",
    "\n",
    "# As we can see there is a big difference in a number of customers travelling.\n",
    "# We found that the yellow cab resulted in a very high number of customers from January up until December than the pink cab.\n",
    "# The Yellow cab revealed a higher range of cab users than that of the Pink cab\n",
    "#Yellow cab ranged from 17108 to 30135 cab users and the Pink cab ranged from 4734 to 9729 cab users.\n",
    "\n",
    "# This means that the yellow cab has maximumb cab users and is highly favoured.\n",
    "\n",
    "# However this doesn't end there,we   determined the number of customers in cab travels yearly.\n",
    "# Again our figure revealed as follows:\n",
    "# Year  Company   \n",
    "#2016  Pink Cab      25080\n",
    " #     Yellow Cab    82239\n",
    "#2017  Pink Cab      30321\n",
    "  #    Yellow Cab    98189\n",
    "#2018  Pink Cab      29310\n",
    "     # Yellow Cab    94253\n",
    "    \n",
    "    \n",
    " # Again we found that a maximum cab users are travelling on a yellow cab on a yearly basis.\n",
    "\n",
    "# On top of that we also found higher number cab users travelling in a Yellow cab in representation of the whole country in U.S\n",
    "# Cab users travelling in a Yellow cab are 274681 and the ones travelling in a Pink cab are 84711.There is a big difference.\n",
    "\n",
    "\n",
    "# How good the business is handling it financials plays a very crucial role.\n",
    "\n",
    "# The Price_Charge and the Margin/profit that is \n",
    "#generated in the company is the important indicator in determining the performance \n",
    "# in the business.\n",
    "\n",
    "\n",
    "# In the preceding examples,the total Price_Charged for the Yellow and Pink cab was revealed.\n",
    "\n",
    "# In the Yellow cab the total Price_Charged was 125853887.18999998 and for the Yellow cab it was 26328251.329999994.\n",
    "# The Yellow cab had higher total Price_Charged than that of the Pink cab.\n",
    "# # In comparison between the Pink and Yellow cab company,we've determined the profits on a yearly basis.\n",
    "# Our figures revealed as follows:\n",
    "\n",
    "# Year  Company   \n",
    "#2016  Pink Cab      1.713511e+06\n",
    " #     Yellow Cab    1.392700e+07\n",
    "#2017  Pink Cab      2.033655e+06\n",
    " #     Yellow Cab    1.657598e+07\n",
    "#2018  Pink Cab      1.560162e+06\n",
    "  #    Yellow Cab    1.351740e+07\n",
    "    \n",
    "# # From year 2016 up until 2018,the Yellow cab company has been generating higher profits than the Pink cab company.\n",
    "#  # So far the Yellow cab company has been excelling and therefore is a better investment opportunity for XYZ. "
   ]
  },
  {
   "cell_type": "code",
   "execution_count": 1056,
   "metadata": {},
   "outputs": [],
   "source": [
    "# Dedup validation\n",
    "\n",
    "# We've checked for null values in dataset,and we found no null values.\n",
    "\n",
    "# Now we need to check for datasets where there are duplicates,and we found no duplicated rows.\n",
    "\n",
    "\n",
    "bool_series = cab_data.duplicated()"
   ]
  },
  {
   "cell_type": "code",
   "execution_count": 1057,
   "metadata": {},
   "outputs": [
    {
     "data": {
      "text/html": [
       "<div>\n",
       "<style scoped>\n",
       "    .dataframe tbody tr th:only-of-type {\n",
       "        vertical-align: middle;\n",
       "    }\n",
       "\n",
       "    .dataframe tbody tr th {\n",
       "        vertical-align: top;\n",
       "    }\n",
       "\n",
       "    .dataframe thead th {\n",
       "        text-align: right;\n",
       "    }\n",
       "</style>\n",
       "<table border=\"1\" class=\"dataframe\">\n",
       "  <thead>\n",
       "    <tr style=\"text-align: right;\">\n",
       "      <th></th>\n",
       "      <th>Transaction ID</th>\n",
       "      <th>Date of Travel</th>\n",
       "      <th>Company</th>\n",
       "      <th>City</th>\n",
       "      <th>KM Travelled</th>\n",
       "      <th>Price Charged</th>\n",
       "      <th>Cost of Trip</th>\n",
       "    </tr>\n",
       "  </thead>\n",
       "  <tbody>\n",
       "  </tbody>\n",
       "</table>\n",
       "</div>"
      ],
      "text/plain": [
       "Empty DataFrame\n",
       "Columns: [Transaction ID, Date of Travel, Company, City, KM Travelled, Price Charged, Cost of Trip]\n",
       "Index: []"
      ]
     },
     "execution_count": 1057,
     "metadata": {},
     "output_type": "execute_result"
    }
   ],
   "source": [
    "cab_data[bool_series]"
   ]
  },
  {
   "cell_type": "code",
   "execution_count": 1058,
   "metadata": {},
   "outputs": [],
   "source": [
    "bool_series1 = transaction_data.duplicated()"
   ]
  },
  {
   "cell_type": "code",
   "execution_count": 1059,
   "metadata": {},
   "outputs": [
    {
     "data": {
      "text/html": [
       "<div>\n",
       "<style scoped>\n",
       "    .dataframe tbody tr th:only-of-type {\n",
       "        vertical-align: middle;\n",
       "    }\n",
       "\n",
       "    .dataframe tbody tr th {\n",
       "        vertical-align: top;\n",
       "    }\n",
       "\n",
       "    .dataframe thead th {\n",
       "        text-align: right;\n",
       "    }\n",
       "</style>\n",
       "<table border=\"1\" class=\"dataframe\">\n",
       "  <thead>\n",
       "    <tr style=\"text-align: right;\">\n",
       "      <th></th>\n",
       "      <th>Transaction ID</th>\n",
       "      <th>Customer ID</th>\n",
       "      <th>Payment_Mode</th>\n",
       "    </tr>\n",
       "  </thead>\n",
       "  <tbody>\n",
       "  </tbody>\n",
       "</table>\n",
       "</div>"
      ],
      "text/plain": [
       "Empty DataFrame\n",
       "Columns: [Transaction ID, Customer ID, Payment_Mode]\n",
       "Index: []"
      ]
     },
     "execution_count": 1059,
     "metadata": {},
     "output_type": "execute_result"
    }
   ],
   "source": [
    "transaction_data[bool_series1]"
   ]
  },
  {
   "cell_type": "code",
   "execution_count": 1060,
   "metadata": {},
   "outputs": [],
   "source": [
    "bool_series2 = customer_data.duplicated()"
   ]
  },
  {
   "cell_type": "code",
   "execution_count": 1061,
   "metadata": {},
   "outputs": [
    {
     "data": {
      "text/html": [
       "<div>\n",
       "<style scoped>\n",
       "    .dataframe tbody tr th:only-of-type {\n",
       "        vertical-align: middle;\n",
       "    }\n",
       "\n",
       "    .dataframe tbody tr th {\n",
       "        vertical-align: top;\n",
       "    }\n",
       "\n",
       "    .dataframe thead th {\n",
       "        text-align: right;\n",
       "    }\n",
       "</style>\n",
       "<table border=\"1\" class=\"dataframe\">\n",
       "  <thead>\n",
       "    <tr style=\"text-align: right;\">\n",
       "      <th></th>\n",
       "      <th>Customer ID</th>\n",
       "      <th>Gender</th>\n",
       "      <th>Age</th>\n",
       "      <th>Income (USD/Month)</th>\n",
       "    </tr>\n",
       "  </thead>\n",
       "  <tbody>\n",
       "  </tbody>\n",
       "</table>\n",
       "</div>"
      ],
      "text/plain": [
       "Empty DataFrame\n",
       "Columns: [Customer ID, Gender, Age, Income (USD/Month)]\n",
       "Index: []"
      ]
     },
     "execution_count": 1061,
     "metadata": {},
     "output_type": "execute_result"
    }
   ],
   "source": [
    "customer_data[bool_series2]"
   ]
  },
  {
   "cell_type": "code",
   "execution_count": 1062,
   "metadata": {},
   "outputs": [],
   "source": [
    "bool_series3 = city_data.duplicated()"
   ]
  },
  {
   "cell_type": "code",
   "execution_count": 1063,
   "metadata": {},
   "outputs": [
    {
     "data": {
      "text/html": [
       "<div>\n",
       "<style scoped>\n",
       "    .dataframe tbody tr th:only-of-type {\n",
       "        vertical-align: middle;\n",
       "    }\n",
       "\n",
       "    .dataframe tbody tr th {\n",
       "        vertical-align: top;\n",
       "    }\n",
       "\n",
       "    .dataframe thead th {\n",
       "        text-align: right;\n",
       "    }\n",
       "</style>\n",
       "<table border=\"1\" class=\"dataframe\">\n",
       "  <thead>\n",
       "    <tr style=\"text-align: right;\">\n",
       "      <th></th>\n",
       "      <th>City</th>\n",
       "      <th>Population</th>\n",
       "      <th>Users</th>\n",
       "    </tr>\n",
       "  </thead>\n",
       "  <tbody>\n",
       "  </tbody>\n",
       "</table>\n",
       "</div>"
      ],
      "text/plain": [
       "Empty DataFrame\n",
       "Columns: [City, Population, Users]\n",
       "Index: []"
      ]
     },
     "execution_count": 1063,
     "metadata": {},
     "output_type": "execute_result"
    }
   ],
   "source": [
    "city_data[bool_series3]"
   ]
  }
 ],
 "metadata": {
  "kernelspec": {
   "display_name": "Python 3",
   "language": "python",
   "name": "python3"
  },
  "language_info": {
   "codemirror_mode": {
    "name": "ipython",
    "version": 3
   },
   "file_extension": ".py",
   "mimetype": "text/x-python",
   "name": "python",
   "nbconvert_exporter": "python",
   "pygments_lexer": "ipython3",
   "version": "3.7.4"
  }
 },
 "nbformat": 4,
 "nbformat_minor": 2
}
